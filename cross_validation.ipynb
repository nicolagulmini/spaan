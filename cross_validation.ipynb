{
 "cells": [
  {
   "cell_type": "code",
   "execution_count": 264,
   "metadata": {
    "id": "ezfZzH9lnDl3"
   },
   "outputs": [],
   "source": [
    "import numpy\n",
    "import tensorflow\n",
    "from tensorflow import keras\n",
    "import matplotlib.pyplot as plt\n",
    "from Bio import SeqIO"
   ]
  },
  {
   "cell_type": "code",
   "execution_count": 265,
   "metadata": {
    "id": "IXLoKnrvsMK-"
   },
   "outputs": [],
   "source": [
    "def from_files_to_vectors(fasta_path, positive=True):\n",
    "    if positive:\n",
    "        proteins = list(SeqIO.parse(fasta_path+'pos_25.fasta', \"fasta\"))\n",
    "    else:\n",
    "        proteins = list(SeqIO.parse(fasta_path+'neg_25.fasta', \"fasta\"))\n",
    "    extension = \".out\"\n",
    "    files = [\"aac\", \"dpc\", \"ctdc\", \"ctdt\", \"ctdd\"]\n",
    "    if positive:\n",
    "        names = \"_pos\"\n",
    "    else:\n",
    "        names = \"_neg\"\n",
    "    for i in range(len(files)):\n",
    "        files[i] += names\n",
    "    datasets = [[] for el in files]\n",
    "    for i in range(len(files)):\n",
    "        with open(fasta_path+files[i]+extension) as f:\n",
    "            lines = f.readlines()[1:]\n",
    "            check_prot = 0\n",
    "            for line in lines:\n",
    "                information = line.split('\\t')\n",
    "                if not information[0] == proteins[check_prot].id:\n",
    "                    print(\"Error in protein order! Return\")\n",
    "                    return datasets\n",
    "                datasets[i].append(numpy.array([float(el) for el in information[1:]]))\n",
    "                check_prot += 1\n",
    "        datasets[i] = numpy.array(datasets[i])\n",
    "    return datasets"
   ]
  },
  {
   "cell_type": "code",
   "execution_count": 266,
   "metadata": {
    "id": "qwYSUH_r2Pw6"
   },
   "outputs": [],
   "source": [
    "pos_datasets = from_files_to_vectors(\"./Adhesin_data/25_similarity/pos/\", positive=True)\n",
    "neg_datasets = from_files_to_vectors(\"./Adhesin_data/25_similarity/neg/\", positive=False)\n",
    "\n",
    "y_pos = numpy.ones(pos_datasets[0].shape[0])\n",
    "y_neg = numpy.zeros(neg_datasets[0].shape[0])"
   ]
  },
  {
   "cell_type": "code",
   "execution_count": 267,
   "metadata": {
    "colab": {
     "base_uri": "https://localhost:8080/"
    },
    "id": "n6ugvKCJ_SQU",
    "outputId": "69aa8c5a-af07-44c5-ea0a-96069b80cfb7"
   },
   "outputs": [
    {
     "name": "stdout",
     "output_type": "stream",
     "text": [
      "pos: 2700\n",
      "neg: 2700\n",
      "1 -th feature dim: 20\n",
      "2 -th feature dim: 400\n",
      "3 -th feature dim: 39\n",
      "4 -th feature dim: 39\n",
      "5 -th feature dim: 195\n",
      "Data matrix dimension: (5400, 693)\n"
     ]
    }
   ],
   "source": [
    "# attach datasets in order to obtain a matrix of (n, 20+400+39+39+195) features\n",
    "\n",
    "# keep in mind the number of virulent factors and the number of not virulent factors\n",
    "rows = 0\n",
    "n_pos = y_pos.shape[0]\n",
    "n_neg = y_neg.shape[0]\n",
    "rows = n_pos + n_neg\n",
    "print('pos:', n_pos)\n",
    "print('neg:', n_neg)\n",
    "\n",
    "# feature vectors dimensions\n",
    "columns = 0\n",
    "for i in range(len(pos_datasets)):\n",
    "    tmp_dim = pos_datasets[i].shape[1]\n",
    "    print(i+1, '-th feature dim:', tmp_dim)\n",
    "    columns += tmp_dim\n",
    "\n",
    "# data matrix to process\n",
    "X = numpy.zeros((rows, columns))\n",
    "print('Data matrix dimension:', X.shape)\n",
    "for i in range(n_pos):\n",
    "    X[i] = numpy.concatenate([pos_datasets[j][i] for j in range(5)])\n",
    "for i in range(n_neg):\n",
    "    X[n_pos+i] = numpy.concatenate([neg_datasets[j][i] for j in range(5)])"
   ]
  },
  {
   "cell_type": "code",
   "execution_count": 268,
   "metadata": {
    "id": "QxfYFLoS_hai"
   },
   "outputs": [],
   "source": [
    "# permutation\n",
    "numpy.random.seed(990)\n",
    "\n",
    "y = numpy.concatenate((y_pos, y_neg), axis=0)\n",
    "c = numpy.random.permutation(numpy.arange(y.shape[0]))\n",
    "y = y[c]\n",
    "X = X[c] "
   ]
  },
  {
   "cell_type": "code",
   "execution_count": 269,
   "metadata": {},
   "outputs": [],
   "source": [
    "import numpy as np\n",
    "from sklearn.model_selection import KFold\n",
    "from sklearn.ensemble import RandomForestClassifier\n",
    "from sklearn.metrics import accuracy_score\n"
   ]
  },
  {
   "cell_type": "code",
   "execution_count": 270,
   "metadata": {
    "colab": {
     "base_uri": "https://localhost:8080/"
    },
    "id": "ZzpCOTgl_o9A",
    "outputId": "538f9805-1ed4-4bc4-fcc4-be1ad9b9b154"
   },
   "outputs": [
    {
     "name": "stdout",
     "output_type": "stream",
     "text": [
      "Training data shape: (2700, 693) (2700,)\n",
      "Validation data shape: (1350, 693) (1350,)\n",
      "Test data shape: (1350, 693) (1350,)\n",
      "\n",
      "Training virulent factors and not-virulent factors: 1320 1380\n",
      "Validation virulent factors and not-virulent factors: 688 662\n",
      "Test virulent factors and not-virulent factors: 692 658\n"
     ]
    }
   ],
   "source": [
    "# remember: standardization or scaling AFTER train-test split, otherwise there's data leakage!!!\n",
    "X_train = X[:int(X.shape[0]*.5)]\n",
    "X_val = X[int(X.shape[0]*.5):int(X.shape[0]*.75)]\n",
    "X_test = X[int(X.shape[0]*.75):]\n",
    "\n",
    "y_train = y[:int(y.shape[0]*.5)]\n",
    "y_val = y[int(y.shape[0]*.5):int(y.shape[0]*.75)]\n",
    "y_test = y[int(y.shape[0]*.75):]\n",
    "\n",
    "print('Training data shape:', X_train.shape, y_train.shape)\n",
    "print('Validation data shape:', X_val.shape, y_val.shape)\n",
    "print('Test data shape:', X_test.shape, y_test.shape)\n",
    "\n",
    "print('\\nTraining virulent factors and not-virulent factors:', int(sum(y_train)), int(y_train.shape[0]-sum(y_train)))\n",
    "print('Validation virulent factors and not-virulent factors:', int(sum(y_val)), int(y_val.shape[0]-sum(y_val)))\n",
    "print('Test virulent factors and not-virulent factors:', int(sum(y_test)), int(y_test.shape[0]-sum(y_test)))"
   ]
  },
  {
   "cell_type": "code",
   "execution_count": 278,
   "metadata": {},
   "outputs": [],
   "source": [
    "# merge train and val for the cv # test will be used for the LOUV\n",
    "\n",
    "X_train = np.concatenate((X_train, X_val), axis=0)\n",
    "y_train = np.concatenate((y_train, y_val), axis=0)\n",
    "\n",
    "# now i got train (75%) and test (25%)"
   ]
  },
  {
   "cell_type": "code",
   "execution_count": 279,
   "metadata": {},
   "outputs": [
    {
     "name": "stdout",
     "output_type": "stream",
     "text": [
      "(4050, 693) (4050,)\n",
      "(1350, 693) (1350,)\n"
     ]
    }
   ],
   "source": [
    "print(X_train.shape, y_train.shape)\n",
    "print(X_test.shape, y_test.shape)"
   ]
  },
  {
   "cell_type": "code",
   "execution_count": 280,
   "metadata": {
    "id": "EWhx9WSsAB-1"
   },
   "outputs": [],
   "source": [
    "# PCA\n",
    "\n",
    "stdX = numpy.zeros(X_train.shape)\n",
    "#stdX_val = numpy.zeros(X_val.shape)\n",
    "stdX_test = numpy.zeros(X_test.shape)\n",
    "\n",
    "means = numpy.zeros(X_train.shape[1])\n",
    "std_devs = numpy.zeros(X_train.shape[1])\n",
    "\n",
    "for j in range(X_train.shape[1]):\n",
    "    column = X_train[:,j]\n",
    "    means[j] = numpy.mean(column)\n",
    "    std_devs[j] = numpy.std(column)\n",
    "    stdX[:,j] = (column - means[j]) / std_devs[j]\n",
    "    #stdX_val[:,j] = (X_val[:,j] - means[j]) / std_devs[j]\n",
    "    stdX_test[:,j] = (X_test[:,j] - means[j]) / std_devs[j]\n",
    "\n",
    "numpy.save('means', means)\n",
    "numpy.save('std_devs', std_devs)\n",
    "\n",
    "covariance_matrix = numpy.cov(stdX.T)\n",
    "\n",
    "eigen_values, eigen_vectors = numpy.linalg.eig(covariance_matrix)\n",
    "eigen_values = numpy.real(eigen_values)\n",
    "eigen_vectors = numpy.real(eigen_vectors)\n",
    "\n",
    "variance_explained = []\n",
    "for i in eigen_values:\n",
    "    variance_explained.append((i/sum(eigen_values))*100)\n",
    "\n",
    "cumulative_variance_explained = numpy.cumsum(variance_explained)"
   ]
  },
  {
   "cell_type": "code",
   "execution_count": 281,
   "metadata": {
    "colab": {
     "base_uri": "https://localhost:8080/",
     "height": 295
    },
    "id": "3H21ZME1BWz7",
    "outputId": "bc36f7aa-3347-4586-9a36-7c39b5287d34"
   },
   "outputs": [
    {
     "data": {
      "image/png": "[encoded data removed]",
      "text/plain": [
       "<Figure size 640x480 with 1 Axes>"
      ]
     },
     "metadata": {},
     "output_type": "display_data"
    }
   ],
   "source": [
    "plt.title(\"Explained variance vs Number of components\")\n",
    "\n",
    "plt.xlabel(\"Number of components\")\n",
    "plt.ylabel(\"Cumulative explained variance\")\n",
    "plt.grid(color='gray', linewidth=.4)\n",
    "\n",
    "plt.plot(range(len(cumulative_variance_explained)), cumulative_variance_explained)\n",
    "\n",
    "plt.show()\n",
    "#plt.savefig('Explained variance.png')"
   ]
  },
  {
   "cell_type": "code",
   "execution_count": 282,
   "metadata": {
    "colab": {
     "base_uri": "https://localhost:8080/"
    },
    "id": "HNRicsM0BZ82",
    "outputId": "2597cd27-45c5-49f8-be42-741a081d08be"
   },
   "outputs": [
    {
     "name": "stdout",
     "output_type": "stream",
     "text": [
      "Principal components: 400\n",
      "Discarded components: 293\n"
     ]
    }
   ],
   "source": [
    "K = 400 # more or less like adhesin\n",
    "print('Principal components:', K)\n",
    "print('Discarded components:', columns-K)"
   ]
  },
  {
   "cell_type": "code",
   "execution_count": 283,
   "metadata": {
    "colab": {
     "base_uri": "https://localhost:8080/",
     "height": 295
    },
    "id": "z3HVUUpRBdHb",
    "outputId": "1f021dd9-1b76-4807-fa6b-4ef9ee9e766d"
   },
   "outputs": [
    {
     "data": {
      "image/png": "[encoded data removed]",
      "text/plain": [
       "<Figure size 640x480 with 1 Axes>"
      ]
     },
     "metadata": {},
     "output_type": "display_data"
    }
   ],
   "source": [
    "plt.title(\"Explained variance vs first \" + str(K) + \" components\")\n",
    "\n",
    "plt.xlabel(\"Number of components\")\n",
    "plt.ylabel(\"Cumulative explained variance\")\n",
    "plt.grid(color='gray', linewidth=.4)\n",
    "\n",
    "plt.plot(range(K), cumulative_variance_explained[:K])\n",
    "\n",
    "plt.show()\n",
    "#plt.savefig('Explained variance.png')"
   ]
  },
  {
   "cell_type": "code",
   "execution_count": 284,
   "metadata": {
    "colab": {
     "base_uri": "https://localhost:8080/"
    },
    "id": "HtOHXpbNBi30",
    "outputId": "12028f20-cf40-4993-c608-f7dcb03f5551"
   },
   "outputs": [
    {
     "name": "stdout",
     "output_type": "stream",
     "text": [
      "(693, 400)\n"
     ]
    }
   ],
   "source": [
    "# Project using first K components\n",
    "\n",
    "projection_matrix = numpy.real((eigen_vectors.T[:][:K]).T)\n",
    "print(projection_matrix.shape)\n",
    "\n",
    "numpy.save('projection_matrix', projection_matrix)"
   ]
  },
  {
   "cell_type": "code",
   "execution_count": 285,
   "metadata": {
    "id": "NNtLkAdwBlSA"
   },
   "outputs": [],
   "source": [
    "# project matrices\n",
    "X_train = stdX.dot(projection_matrix)\n",
    "#X_val = stdX_val.dot(projection_matrix)\n",
    "X_test = stdX_test.dot(projection_matrix)"
   ]
  },
  {
   "cell_type": "code",
   "execution_count": 286,
   "metadata": {},
   "outputs": [
    {
     "data": {
      "text/plain": [
       "(4050, 400)"
      ]
     },
     "execution_count": 286,
     "metadata": {},
     "output_type": "execute_result"
    }
   ],
   "source": [
    "X_train.shape\n"
   ]
  },
  {
   "cell_type": "code",
   "execution_count": 287,
   "metadata": {},
   "outputs": [],
   "source": [
    "#X_val.shape"
   ]
  },
  {
   "cell_type": "code",
   "execution_count": 288,
   "metadata": {},
   "outputs": [
    {
     "data": {
      "text/plain": [
       "(1350, 400)"
      ]
     },
     "execution_count": 288,
     "metadata": {},
     "output_type": "execute_result"
    }
   ],
   "source": [
    "X_test.shape"
   ]
  },
  {
   "cell_type": "code",
   "execution_count": 292,
   "metadata": {},
   "outputs": [],
   "source": [
    "#X = np.concatenate((X_train, X_val, X_test), axis=0)\n",
    "#y = np.concatenate((y_train, y_val, y_test), axis=0)\n",
    "#X.shape\n",
    "\n",
    "X = X_train\n",
    "y = y_train"
   ]
  },
  {
   "cell_type": "code",
   "execution_count": 293,
   "metadata": {},
   "outputs": [
    {
     "data": {
      "text/plain": [
       "(4050,)"
      ]
     },
     "execution_count": 293,
     "metadata": {},
     "output_type": "execute_result"
    }
   ],
   "source": [
    "y.shape"
   ]
  },
  {
   "cell_type": "code",
   "execution_count": 294,
   "metadata": {},
   "outputs": [
    {
     "name": "stdout",
     "output_type": "stream",
     "text": [
      "Epoch 1/1000\n",
      "\u001b[1m43/43\u001b[0m \u001b[32m━━━━━━━━━━━━━━━━━━━━\u001b[0m\u001b[37m\u001b[0m \u001b[1m1s\u001b[0m 3ms/step - accuracy: 0.5174 - loss: 0.7959 - mse: 0.2917 - precision: 0.5148 - recall: 0.9976 - val_accuracy: 0.5378 - val_loss: 0.6751 - val_mse: 0.2425 - val_precision: 0.5201 - val_recall: 0.9970\n",
      "Epoch 2/1000\n",
      "\u001b[1m43/43\u001b[0m \u001b[32m━━━━━━━━━━━━━━━━━━━━\u001b[0m\u001b[37m\u001b[0m \u001b[1m0s\u001b[0m 837us/step - accuracy: 0.5748 - loss: 0.6162 - mse: 0.2165 - precision: 0.5348 - recall: 0.9956 - val_accuracy: 0.6867 - val_loss: 0.5497 - val_mse: 0.1855 - val_precision: 0.6170 - val_recall: 0.9867\n",
      "Epoch 3/1000\n",
      "\u001b[1m43/43\u001b[0m \u001b[32m━━━━━━━━━━━━━━━━━━━━\u001b[0m\u001b[37m\u001b[0m \u001b[1m0s\u001b[0m 704us/step - accuracy: 0.7656 - loss: 0.4955 - mse: 0.1607 - precision: 0.6875 - recall: 0.9831 - val_accuracy: 0.8156 - val_loss: 0.4700 - val_mse: 0.1488 - val_precision: 0.7396 - val_recall: 0.9749\n",
      "Epoch 4/1000\n",
      "\u001b[1m43/43\u001b[0m \u001b[32m━━━━━━━━━━━━━━━━━━━━\u001b[0m\u001b[37m\u001b[0m \u001b[1m0s\u001b[0m 716us/step - accuracy: 0.8770 - loss: 0.4223 - mse: 0.1272 - precision: 0.8103 - recall: 0.9824 - val_accuracy: 0.8726 - val_loss: 0.4161 - val_mse: 0.1253 - val_precision: 0.8182 - val_recall: 0.9586\n",
      "Epoch 5/1000\n",
      "\u001b[1m43/43\u001b[0m \u001b[32m━━━━━━━━━━━━━━━━━━━━\u001b[0m\u001b[37m\u001b[0m \u001b[1m0s\u001b[0m 690us/step - accuracy: 0.9186 - loss: 0.3651 - mse: 0.1029 - precision: 0.8907 - recall: 0.9613 - val_accuracy: 0.8948 - val_loss: 0.3760 - val_mse: 0.1089 - val_precision: 0.8551 - val_recall: 0.9512\n",
      "Epoch 6/1000\n",
      "\u001b[1m43/43\u001b[0m \u001b[32m━━━━━━━━━━━━━━━━━━━━\u001b[0m\u001b[37m\u001b[0m \u001b[1m0s\u001b[0m 705us/step - accuracy: 0.9281 - loss: 0.3341 - mse: 0.0910 - precision: 0.9041 - recall: 0.9528 - val_accuracy: 0.8978 - val_loss: 0.3455 - val_mse: 0.0974 - val_precision: 0.8665 - val_recall: 0.9408\n",
      "Epoch 7/1000\n",
      "\u001b[1m43/43\u001b[0m \u001b[32m━━━━━━━━━━━━━━━━━━━━\u001b[0m\u001b[37m\u001b[0m \u001b[1m0s\u001b[0m 719us/step - accuracy: 0.9308 - loss: 0.3046 - mse: 0.0802 - precision: 0.9108 - recall: 0.9527 - val_accuracy: 0.9037 - val_loss: 0.3217 - val_mse: 0.0890 - val_precision: 0.8771 - val_recall: 0.9393\n",
      "Epoch 8/1000\n",
      "\u001b[1m43/43\u001b[0m \u001b[32m━━━━━━━━━━━━━━━━━━━━\u001b[0m\u001b[37m\u001b[0m \u001b[1m0s\u001b[0m 690us/step - accuracy: 0.9441 - loss: 0.2733 - mse: 0.0693 - precision: 0.9397 - recall: 0.9502 - val_accuracy: 0.9067 - val_loss: 0.3023 - val_mse: 0.0827 - val_precision: 0.8819 - val_recall: 0.9393\n",
      "Epoch 9/1000\n",
      "\u001b[1m43/43\u001b[0m \u001b[32m━━━━━━━━━━━━━━━━━━━━\u001b[0m\u001b[37m\u001b[0m \u001b[1m0s\u001b[0m 735us/step - accuracy: 0.9406 - loss: 0.2569 - mse: 0.0645 - precision: 0.9290 - recall: 0.9504 - val_accuracy: 0.9133 - val_loss: 0.2864 - val_mse: 0.0778 - val_precision: 0.8931 - val_recall: 0.9393\n",
      "Epoch 10/1000\n",
      "\u001b[1m43/43\u001b[0m \u001b[32m━━━━━━━━━━━━━━━━━━━━\u001b[0m\u001b[37m\u001b[0m \u001b[1m0s\u001b[0m 688us/step - accuracy: 0.9504 - loss: 0.2368 - mse: 0.0579 - precision: 0.9453 - recall: 0.9567 - val_accuracy: 0.9163 - val_loss: 0.2740 - val_mse: 0.0742 - val_precision: 0.8970 - val_recall: 0.9408\n",
      "Epoch 11/1000\n",
      "\u001b[1m43/43\u001b[0m \u001b[32m━━━━━━━━━━━━━━━━━━━━\u001b[0m\u001b[37m\u001b[0m \u001b[1m0s\u001b[0m 708us/step - accuracy: 0.9554 - loss: 0.2178 - mse: 0.0519 - precision: 0.9547 - recall: 0.9555 - val_accuracy: 0.9178 - val_loss: 0.2637 - val_mse: 0.0713 - val_precision: 0.9007 - val_recall: 0.9393\n",
      "Epoch 12/1000\n",
      "\u001b[1m43/43\u001b[0m \u001b[32m━━━━━━━━━━━━━━━━━━━━\u001b[0m\u001b[37m\u001b[0m \u001b[1m0s\u001b[0m 702us/step - accuracy: 0.9534 - loss: 0.2011 - mse: 0.0470 - precision: 0.9530 - recall: 0.9506 - val_accuracy: 0.9185 - val_loss: 0.2552 - val_mse: 0.0690 - val_precision: 0.9020 - val_recall: 0.9393\n",
      "Epoch 13/1000\n",
      "\u001b[1m43/43\u001b[0m \u001b[32m━━━━━━━━━━━━━━━━━━━━\u001b[0m\u001b[37m\u001b[0m \u001b[1m0s\u001b[0m 744us/step - accuracy: 0.9571 - loss: 0.1955 - mse: 0.0465 - precision: 0.9638 - recall: 0.9510 - val_accuracy: 0.9207 - val_loss: 0.2483 - val_mse: 0.0673 - val_precision: 0.9047 - val_recall: 0.9408\n",
      "Epoch 14/1000\n",
      "\u001b[1m43/43\u001b[0m \u001b[32m━━━━━━━━━━━━━━━━━━━━\u001b[0m\u001b[37m\u001b[0m \u001b[1m0s\u001b[0m 757us/step - accuracy: 0.9613 - loss: 0.1755 - mse: 0.0400 - precision: 0.9687 - recall: 0.9530 - val_accuracy: 0.9237 - val_loss: 0.2430 - val_mse: 0.0660 - val_precision: 0.9099 - val_recall: 0.9408\n",
      "Epoch 15/1000\n",
      "\u001b[1m43/43\u001b[0m \u001b[32m━━━━━━━━━━━━━━━━━━━━\u001b[0m\u001b[37m\u001b[0m \u001b[1m0s\u001b[0m 766us/step - accuracy: 0.9665 - loss: 0.1646 - mse: 0.0371 - precision: 0.9743 - recall: 0.9583 - val_accuracy: 0.9252 - val_loss: 0.2386 - val_mse: 0.0651 - val_precision: 0.9125 - val_recall: 0.9408\n",
      "Epoch 16/1000\n",
      "\u001b[1m43/43\u001b[0m \u001b[32m━━━━━━━━━━━━━━━━━━━━\u001b[0m\u001b[37m\u001b[0m \u001b[1m0s\u001b[0m 720us/step - accuracy: 0.9700 - loss: 0.1518 - mse: 0.0334 - precision: 0.9697 - recall: 0.9694 - val_accuracy: 0.9244 - val_loss: 0.2347 - val_mse: 0.0642 - val_precision: 0.9112 - val_recall: 0.9408\n",
      "Epoch 17/1000\n",
      "\u001b[1m43/43\u001b[0m \u001b[32m━━━━━━━━━━━━━━━━━━━━\u001b[0m\u001b[37m\u001b[0m \u001b[1m0s\u001b[0m 730us/step - accuracy: 0.9669 - loss: 0.1522 - mse: 0.0345 - precision: 0.9700 - recall: 0.9633 - val_accuracy: 0.9259 - val_loss: 0.2316 - val_mse: 0.0634 - val_precision: 0.9150 - val_recall: 0.9393\n",
      "Epoch 18/1000\n",
      "\u001b[1m43/43\u001b[0m \u001b[32m━━━━━━━━━━━━━━━━━━━━\u001b[0m\u001b[37m\u001b[0m \u001b[1m0s\u001b[0m 772us/step - accuracy: 0.9709 - loss: 0.1461 - mse: 0.0330 - precision: 0.9721 - recall: 0.9697 - val_accuracy: 0.9267 - val_loss: 0.2297 - val_mse: 0.0632 - val_precision: 0.9175 - val_recall: 0.9379\n",
      "Epoch 19/1000\n",
      "\u001b[1m43/43\u001b[0m \u001b[32m━━━━━━━━━━━━━━━━━━━━\u001b[0m\u001b[37m\u001b[0m \u001b[1m0s\u001b[0m 686us/step - accuracy: 0.9700 - loss: 0.1445 - mse: 0.0332 - precision: 0.9740 - recall: 0.9657 - val_accuracy: 0.9289 - val_loss: 0.2280 - val_mse: 0.0629 - val_precision: 0.9179 - val_recall: 0.9423\n",
      "Epoch 20/1000\n",
      "\u001b[1m43/43\u001b[0m \u001b[32m━━━━━━━━━━━━━━━━━━━━\u001b[0m\u001b[37m\u001b[0m \u001b[1m0s\u001b[0m 694us/step - accuracy: 0.9692 - loss: 0.1373 - mse: 0.0315 - precision: 0.9747 - recall: 0.9638 - val_accuracy: 0.9281 - val_loss: 0.2267 - val_mse: 0.0627 - val_precision: 0.9177 - val_recall: 0.9408\n",
      "Epoch 21/1000\n",
      "\u001b[1m43/43\u001b[0m \u001b[32m━━━━━━━━━━━━━━━━━━━━\u001b[0m\u001b[37m\u001b[0m \u001b[1m0s\u001b[0m 763us/step - accuracy: 0.9699 - loss: 0.1341 - mse: 0.0309 - precision: 0.9730 - recall: 0.9649 - val_accuracy: 0.9289 - val_loss: 0.2265 - val_mse: 0.0628 - val_precision: 0.9191 - val_recall: 0.9408\n",
      "Epoch 22/1000\n",
      "\u001b[1m43/43\u001b[0m \u001b[32m━━━━━━━━━━━━━━━━━━━━\u001b[0m\u001b[37m\u001b[0m \u001b[1m0s\u001b[0m 691us/step - accuracy: 0.9709 - loss: 0.1263 - mse: 0.0289 - precision: 0.9740 - recall: 0.9674 - val_accuracy: 0.9267 - val_loss: 0.2261 - val_mse: 0.0629 - val_precision: 0.9175 - val_recall: 0.9379\n",
      "Epoch 23/1000\n",
      "\u001b[1m43/43\u001b[0m \u001b[32m━━━━━━━━━━━━━━━━━━━━\u001b[0m\u001b[37m\u001b[0m \u001b[1m0s\u001b[0m 807us/step - accuracy: 0.9702 - loss: 0.1210 - mse: 0.0275 - precision: 0.9724 - recall: 0.9674 - val_accuracy: 0.9274 - val_loss: 0.2257 - val_mse: 0.0628 - val_precision: 0.9188 - val_recall: 0.9379\n",
      "Epoch 24/1000\n",
      "\u001b[1m43/43\u001b[0m \u001b[32m━━━━━━━━━━━━━━━━━━━━\u001b[0m\u001b[37m\u001b[0m \u001b[1m0s\u001b[0m 705us/step - accuracy: 0.9748 - loss: 0.1113 - mse: 0.0244 - precision: 0.9781 - recall: 0.9704 - val_accuracy: 0.9274 - val_loss: 0.2256 - val_mse: 0.0629 - val_precision: 0.9201 - val_recall: 0.9364\n",
      "Epoch 25/1000\n",
      "\u001b[1m43/43\u001b[0m \u001b[32m━━━━━━━━━━━━━━━━━━━━\u001b[0m\u001b[37m\u001b[0m \u001b[1m0s\u001b[0m 714us/step - accuracy: 0.9763 - loss: 0.1143 - mse: 0.0258 - precision: 0.9792 - recall: 0.9721 - val_accuracy: 0.9252 - val_loss: 0.2262 - val_mse: 0.0631 - val_precision: 0.9173 - val_recall: 0.9349\n",
      "Epoch 26/1000\n",
      "\u001b[1m43/43\u001b[0m \u001b[32m━━━━━━━━━━━━━━━━━━━━\u001b[0m\u001b[37m\u001b[0m \u001b[1m0s\u001b[0m 732us/step - accuracy: 0.9752 - loss: 0.1076 - mse: 0.0243 - precision: 0.9781 - recall: 0.9718 - val_accuracy: 0.9267 - val_loss: 0.2257 - val_mse: 0.0630 - val_precision: 0.9187 - val_recall: 0.9364\n",
      "Epoch 27/1000\n",
      "\u001b[1m43/43\u001b[0m \u001b[32m━━━━━━━━━━━━━━━━━━━━\u001b[0m\u001b[37m\u001b[0m \u001b[1m0s\u001b[0m 695us/step - accuracy: 0.9727 - loss: 0.1079 - mse: 0.0248 - precision: 0.9769 - recall: 0.9675 - val_accuracy: 0.9267 - val_loss: 0.2262 - val_mse: 0.0632 - val_precision: 0.9212 - val_recall: 0.9334\n",
      "Epoch 28/1000\n",
      "\u001b[1m43/43\u001b[0m \u001b[32m━━━━━━━━━━━━━━━━━━━━\u001b[0m\u001b[37m\u001b[0m \u001b[1m0s\u001b[0m 702us/step - accuracy: 0.9784 - loss: 0.0968 - mse: 0.0211 - precision: 0.9846 - recall: 0.9707 - val_accuracy: 0.9244 - val_loss: 0.2274 - val_mse: 0.0635 - val_precision: 0.9196 - val_recall: 0.9305\n",
      "Epoch 29/1000\n",
      "\u001b[1m43/43\u001b[0m \u001b[32m━━━━━━━━━━━━━━━━━━━━\u001b[0m\u001b[37m\u001b[0m \u001b[1m0s\u001b[0m 731us/step - accuracy: 0.9756 - loss: 0.1004 - mse: 0.0226 - precision: 0.9786 - recall: 0.9721 - val_accuracy: 0.9252 - val_loss: 0.2282 - val_mse: 0.0638 - val_precision: 0.9209 - val_recall: 0.9305\n",
      "Epoch 30/1000\n"
     ]
    },
    {
     "name": "stdout",
     "output_type": "stream",
     "text": [
      "\u001b[1m43/43\u001b[0m \u001b[32m━━━━━━━━━━━━━━━━━━━━\u001b[0m\u001b[37m\u001b[0m \u001b[1m0s\u001b[0m 773us/step - accuracy: 0.9783 - loss: 0.0948 - mse: 0.0211 - precision: 0.9824 - recall: 0.9733 - val_accuracy: 0.9222 - val_loss: 0.2301 - val_mse: 0.0644 - val_precision: 0.9156 - val_recall: 0.9305\n",
      "Epoch 31/1000\n",
      "\u001b[1m43/43\u001b[0m \u001b[32m━━━━━━━━━━━━━━━━━━━━\u001b[0m\u001b[37m\u001b[0m \u001b[1m0s\u001b[0m 733us/step - accuracy: 0.9759 - loss: 0.0995 - mse: 0.0231 - precision: 0.9777 - recall: 0.9731 - val_accuracy: 0.9230 - val_loss: 0.2303 - val_mse: 0.0643 - val_precision: 0.9169 - val_recall: 0.9305\n",
      "Epoch 32/1000\n",
      "\u001b[1m43/43\u001b[0m \u001b[32m━━━━━━━━━━━━━━━━━━━━\u001b[0m\u001b[37m\u001b[0m \u001b[1m0s\u001b[0m 664us/step - accuracy: 0.9808 - loss: 0.0896 - mse: 0.0200 - precision: 0.9841 - recall: 0.9763 - val_accuracy: 0.9230 - val_loss: 0.2314 - val_mse: 0.0646 - val_precision: 0.9169 - val_recall: 0.9305\n",
      "Epoch 33/1000\n",
      "\u001b[1m43/43\u001b[0m \u001b[32m━━━━━━━━━━━━━━━━━━━━\u001b[0m\u001b[37m\u001b[0m \u001b[1m0s\u001b[0m 689us/step - accuracy: 0.9799 - loss: 0.0892 - mse: 0.0202 - precision: 0.9832 - recall: 0.9759 - val_accuracy: 0.9222 - val_loss: 0.2320 - val_mse: 0.0647 - val_precision: 0.9156 - val_recall: 0.9305\n",
      "Epoch 34/1000\n",
      "\u001b[1m43/43\u001b[0m \u001b[32m━━━━━━━━━━━━━━━━━━━━\u001b[0m\u001b[37m\u001b[0m \u001b[1m0s\u001b[0m 687us/step - accuracy: 0.9811 - loss: 0.0844 - mse: 0.0187 - precision: 0.9875 - recall: 0.9733 - val_accuracy: 0.9222 - val_loss: 0.2343 - val_mse: 0.0652 - val_precision: 0.9156 - val_recall: 0.9305\n",
      "Epoch 35/1000\n",
      "\u001b[1m43/43\u001b[0m \u001b[32m━━━━━━━━━━━━━━━━━━━━\u001b[0m\u001b[37m\u001b[0m \u001b[1m0s\u001b[0m 686us/step - accuracy: 0.9793 - loss: 0.0815 - mse: 0.0183 - precision: 0.9867 - recall: 0.9715 - val_accuracy: 0.9237 - val_loss: 0.2348 - val_mse: 0.0654 - val_precision: 0.9170 - val_recall: 0.9320\n",
      "Epoch 36/1000\n",
      "\u001b[1m43/43\u001b[0m \u001b[32m━━━━━━━━━━━━━━━━━━━━\u001b[0m\u001b[37m\u001b[0m \u001b[1m0s\u001b[0m 663us/step - accuracy: 0.9779 - loss: 0.0873 - mse: 0.0200 - precision: 0.9800 - recall: 0.9753 - val_accuracy: 0.9215 - val_loss: 0.2368 - val_mse: 0.0658 - val_precision: 0.9142 - val_recall: 0.9305\n",
      "Epoch 37/1000\n",
      "\u001b[1m43/43\u001b[0m \u001b[32m━━━━━━━━━━━━━━━━━━━━\u001b[0m\u001b[37m\u001b[0m \u001b[1m0s\u001b[0m 684us/step - accuracy: 0.9801 - loss: 0.0784 - mse: 0.0177 - precision: 0.9835 - recall: 0.9767 - val_accuracy: 0.9222 - val_loss: 0.2391 - val_mse: 0.0664 - val_precision: 0.9168 - val_recall: 0.9290\n",
      "Epoch 38/1000\n",
      "\u001b[1m43/43\u001b[0m \u001b[32m━━━━━━━━━━━━━━━━━━━━\u001b[0m\u001b[37m\u001b[0m \u001b[1m0s\u001b[0m 683us/step - accuracy: 0.9829 - loss: 0.0751 - mse: 0.0164 - precision: 0.9848 - recall: 0.9802 - val_accuracy: 0.9215 - val_loss: 0.2392 - val_mse: 0.0663 - val_precision: 0.9155 - val_recall: 0.9290\n",
      "Epoch 39/1000\n",
      "\u001b[1m43/43\u001b[0m \u001b[32m━━━━━━━━━━━━━━━━━━━━\u001b[0m\u001b[37m\u001b[0m \u001b[1m0s\u001b[0m 675us/step - accuracy: 0.9805 - loss: 0.0756 - mse: 0.0167 - precision: 0.9835 - recall: 0.9763 - val_accuracy: 0.9215 - val_loss: 0.2406 - val_mse: 0.0666 - val_precision: 0.9142 - val_recall: 0.9305\n",
      "Epoch 40/1000\n",
      "\u001b[1m43/43\u001b[0m \u001b[32m━━━━━━━━━━━━━━━━━━━━\u001b[0m\u001b[37m\u001b[0m \u001b[1m0s\u001b[0m 685us/step - accuracy: 0.9810 - loss: 0.0748 - mse: 0.0168 - precision: 0.9864 - recall: 0.9740 - val_accuracy: 0.9200 - val_loss: 0.2425 - val_mse: 0.0669 - val_precision: 0.9140 - val_recall: 0.9275\n",
      "Epoch 41/1000\n",
      "\u001b[1m43/43\u001b[0m \u001b[32m━━━━━━━━━━━━━━━━━━━━\u001b[0m\u001b[37m\u001b[0m \u001b[1m0s\u001b[0m 713us/step - accuracy: 0.9836 - loss: 0.0689 - mse: 0.0151 - precision: 0.9899 - recall: 0.9761 - val_accuracy: 0.9185 - val_loss: 0.2445 - val_mse: 0.0672 - val_precision: 0.9125 - val_recall: 0.9260\n",
      "Epoch 42/1000\n",
      "\u001b[1m43/43\u001b[0m \u001b[32m━━━━━━━━━━━━━━━━━━━━\u001b[0m\u001b[37m\u001b[0m \u001b[1m0s\u001b[0m 662us/step - accuracy: 0.9878 - loss: 0.0595 - mse: 0.0118 - precision: 0.9916 - recall: 0.9837 - val_accuracy: 0.9178 - val_loss: 0.2466 - val_mse: 0.0676 - val_precision: 0.9136 - val_recall: 0.9231\n",
      "Epoch 43/1000\n",
      "\u001b[1m43/43\u001b[0m \u001b[32m━━━━━━━━━━━━━━━━━━━━\u001b[0m\u001b[37m\u001b[0m \u001b[1m0s\u001b[0m 668us/step - accuracy: 0.9816 - loss: 0.0677 - mse: 0.0151 - precision: 0.9867 - recall: 0.9767 - val_accuracy: 0.9178 - val_loss: 0.2479 - val_mse: 0.0678 - val_precision: 0.9112 - val_recall: 0.9260\n",
      "Epoch 44/1000\n",
      "\u001b[1m43/43\u001b[0m \u001b[32m━━━━━━━━━━━━━━━━━━━━\u001b[0m\u001b[37m\u001b[0m \u001b[1m0s\u001b[0m 680us/step - accuracy: 0.9851 - loss: 0.0662 - mse: 0.0144 - precision: 0.9925 - recall: 0.9775 - val_accuracy: 0.9170 - val_loss: 0.2491 - val_mse: 0.0681 - val_precision: 0.9111 - val_recall: 0.9246\n",
      "\u001b[1m43/43\u001b[0m \u001b[32m━━━━━━━━━━━━━━━━━━━━\u001b[0m\u001b[37m\u001b[0m \u001b[1m0s\u001b[0m 246us/step - accuracy: 0.9254 - loss: 0.2255 - mse: 0.0631 - precision: 0.9143 - recall: 0.9420\n",
      "Epoch 1/1000\n",
      "\u001b[1m43/43\u001b[0m \u001b[32m━━━━━━━━━━━━━━━━━━━━\u001b[0m\u001b[37m\u001b[0m \u001b[1m1s\u001b[0m 4ms/step - accuracy: 0.5276 - loss: 0.7808 - mse: 0.2848 - precision: 0.5226 - recall: 0.9924 - val_accuracy: 0.5585 - val_loss: 0.6754 - val_mse: 0.2418 - val_precision: 0.5264 - val_recall: 0.9924\n",
      "Epoch 2/1000\n",
      "\u001b[1m43/43\u001b[0m \u001b[32m━━━━━━━━━━━━━━━━━━━━\u001b[0m\u001b[37m\u001b[0m \u001b[1m0s\u001b[0m 724us/step - accuracy: 0.6152 - loss: 0.6275 - mse: 0.2201 - precision: 0.5619 - recall: 0.9901 - val_accuracy: 0.7111 - val_loss: 0.5571 - val_mse: 0.1880 - val_precision: 0.6315 - val_recall: 0.9864\n",
      "Epoch 3/1000\n",
      "\u001b[1m43/43\u001b[0m \u001b[32m━━━━━━━━━━━━━━━━━━━━\u001b[0m\u001b[37m\u001b[0m \u001b[1m0s\u001b[0m 702us/step - accuracy: 0.7756 - loss: 0.5056 - mse: 0.1640 - precision: 0.6993 - recall: 0.9708 - val_accuracy: 0.8126 - val_loss: 0.4717 - val_mse: 0.1492 - val_precision: 0.7370 - val_recall: 0.9607\n",
      "Epoch 4/1000\n",
      "\u001b[1m43/43\u001b[0m \u001b[32m━━━━━━━━━━━━━━━━━━━━\u001b[0m\u001b[37m\u001b[0m \u001b[1m0s\u001b[0m 695us/step - accuracy: 0.8686 - loss: 0.4254 - mse: 0.1284 - precision: 0.8077 - recall: 0.9592 - val_accuracy: 0.8689 - val_loss: 0.4088 - val_mse: 0.1222 - val_precision: 0.8187 - val_recall: 0.9411\n",
      "Epoch 5/1000\n",
      "\u001b[1m43/43\u001b[0m \u001b[32m━━━━━━━━━━━━━━━━━━━━\u001b[0m\u001b[37m\u001b[0m \u001b[1m0s\u001b[0m 706us/step - accuracy: 0.9123 - loss: 0.3585 - mse: 0.1008 - precision: 0.8836 - recall: 0.9532 - val_accuracy: 0.8904 - val_loss: 0.3639 - val_mse: 0.1044 - val_precision: 0.8579 - val_recall: 0.9305\n",
      "Epoch 6/1000\n",
      "\u001b[1m43/43\u001b[0m \u001b[32m━━━━━━━━━━━━━━━━━━━━\u001b[0m\u001b[37m\u001b[0m \u001b[1m0s\u001b[0m 680us/step - accuracy: 0.9323 - loss: 0.3154 - mse: 0.0843 - precision: 0.9177 - recall: 0.9492 - val_accuracy: 0.9059 - val_loss: 0.3298 - val_mse: 0.0919 - val_precision: 0.8849 - val_recall: 0.9290\n",
      "Epoch 7/1000\n",
      "\u001b[1m43/43\u001b[0m \u001b[32m━━━━━━━━━━━━━━━━━━━━\u001b[0m\u001b[37m\u001b[0m \u001b[1m0s\u001b[0m 684us/step - accuracy: 0.9427 - loss: 0.2796 - mse: 0.0716 - precision: 0.9374 - recall: 0.9491 - val_accuracy: 0.9126 - val_loss: 0.3039 - val_mse: 0.0832 - val_precision: 0.9012 - val_recall: 0.9230\n",
      "Epoch 8/1000\n",
      "\u001b[1m43/43\u001b[0m \u001b[32m━━━━━━━━━━━━━━━━━━━━\u001b[0m\u001b[37m\u001b[0m \u001b[1m0s\u001b[0m 750us/step - accuracy: 0.9478 - loss: 0.2577 - mse: 0.0646 - precision: 0.9460 - recall: 0.9498 - val_accuracy: 0.9156 - val_loss: 0.2840 - val_mse: 0.0770 - val_precision: 0.9053 - val_recall: 0.9245\n",
      "Epoch 9/1000\n",
      "\u001b[1m43/43\u001b[0m \u001b[32m━━━━━━━━━━━━━━━━━━━━\u001b[0m\u001b[37m\u001b[0m \u001b[1m0s\u001b[0m 769us/step - accuracy: 0.9550 - loss: 0.2306 - mse: 0.0558 - precision: 0.9617 - recall: 0.9501 - val_accuracy: 0.9163 - val_loss: 0.2684 - val_mse: 0.0724 - val_precision: 0.9091 - val_recall: 0.9215\n",
      "Epoch 10/1000\n",
      "\u001b[1m43/43\u001b[0m \u001b[32m━━━━━━━━━━━━━━━━━━━━\u001b[0m\u001b[37m\u001b[0m \u001b[1m0s\u001b[0m 649us/step - accuracy: 0.9533 - loss: 0.2144 - mse: 0.0519 - precision: 0.9524 - recall: 0.9545 - val_accuracy: 0.9193 - val_loss: 0.2564 - val_mse: 0.0691 - val_precision: 0.9133 - val_recall: 0.9230\n",
      "Epoch 11/1000\n",
      "\u001b[1m43/43\u001b[0m \u001b[32m━━━━━━━━━━━━━━━━━━━━\u001b[0m\u001b[37m\u001b[0m \u001b[1m0s\u001b[0m 680us/step - accuracy: 0.9608 - loss: 0.1931 - mse: 0.0445 - precision: 0.9687 - recall: 0.9505 - val_accuracy: 0.9207 - val_loss: 0.2467 - val_mse: 0.0666 - val_precision: 0.9148 - val_recall: 0.9245\n",
      "Epoch 12/1000\n",
      "\u001b[1m43/43\u001b[0m \u001b[32m━━━━━━━━━━━━━━━━━━━━\u001b[0m\u001b[37m\u001b[0m \u001b[1m0s\u001b[0m 674us/step - accuracy: 0.9593 - loss: 0.1877 - mse: 0.0441 - precision: 0.9598 - recall: 0.9587 - val_accuracy: 0.9244 - val_loss: 0.2384 - val_mse: 0.0646 - val_precision: 0.9204 - val_recall: 0.9260\n",
      "Epoch 13/1000\n",
      "\u001b[1m43/43\u001b[0m \u001b[32m━━━━━━━━━━━━━━━━━━━━\u001b[0m\u001b[37m\u001b[0m \u001b[1m0s\u001b[0m 664us/step - accuracy: 0.9620 - loss: 0.1733 - mse: 0.0403 - precision: 0.9616 - recall: 0.9634 - val_accuracy: 0.9244 - val_loss: 0.2328 - val_mse: 0.0635 - val_precision: 0.9217 - val_recall: 0.9245\n",
      "Epoch 14/1000\n",
      "\u001b[1m43/43\u001b[0m \u001b[32m━━━━━━━━━━━━━━━━━━━━\u001b[0m\u001b[37m\u001b[0m \u001b[1m0s\u001b[0m 699us/step - accuracy: 0.9561 - loss: 0.1744 - mse: 0.0417 - precision: 0.9565 - recall: 0.9563 - val_accuracy: 0.9244 - val_loss: 0.2280 - val_mse: 0.0624 - val_precision: 0.9217 - val_recall: 0.9245\n"
     ]
    },
    {
     "name": "stdout",
     "output_type": "stream",
     "text": [
      "Epoch 15/1000\n",
      "\u001b[1m43/43\u001b[0m \u001b[32m━━━━━━━━━━━━━━━━━━━━\u001b[0m\u001b[37m\u001b[0m \u001b[1m0s\u001b[0m 685us/step - accuracy: 0.9577 - loss: 0.1660 - mse: 0.0395 - precision: 0.9674 - recall: 0.9441 - val_accuracy: 0.9244 - val_loss: 0.2241 - val_mse: 0.0617 - val_precision: 0.9204 - val_recall: 0.9260\n",
      "Epoch 16/1000\n",
      "\u001b[1m43/43\u001b[0m \u001b[32m━━━━━━━━━━━━━━━━━━━━\u001b[0m\u001b[37m\u001b[0m \u001b[1m0s\u001b[0m 681us/step - accuracy: 0.9584 - loss: 0.1594 - mse: 0.0385 - precision: 0.9589 - recall: 0.9577 - val_accuracy: 0.9244 - val_loss: 0.2206 - val_mse: 0.0611 - val_precision: 0.9204 - val_recall: 0.9260\n",
      "Epoch 17/1000\n",
      "\u001b[1m43/43\u001b[0m \u001b[32m━━━━━━━━━━━━━━━━━━━━\u001b[0m\u001b[37m\u001b[0m \u001b[1m0s\u001b[0m 674us/step - accuracy: 0.9683 - loss: 0.1434 - mse: 0.0328 - precision: 0.9710 - recall: 0.9645 - val_accuracy: 0.9259 - val_loss: 0.2177 - val_mse: 0.0606 - val_precision: 0.9219 - val_recall: 0.9275\n",
      "Epoch 18/1000\n",
      "\u001b[1m43/43\u001b[0m \u001b[32m━━━━━━━━━━━━━━━━━━━━\u001b[0m\u001b[37m\u001b[0m \u001b[1m0s\u001b[0m 677us/step - accuracy: 0.9646 - loss: 0.1386 - mse: 0.0324 - precision: 0.9704 - recall: 0.9600 - val_accuracy: 0.9259 - val_loss: 0.2167 - val_mse: 0.0606 - val_precision: 0.9219 - val_recall: 0.9275\n",
      "Epoch 19/1000\n",
      "\u001b[1m43/43\u001b[0m \u001b[32m━━━━━━━━━━━━━━━━━━━━\u001b[0m\u001b[37m\u001b[0m \u001b[1m0s\u001b[0m 688us/step - accuracy: 0.9657 - loss: 0.1372 - mse: 0.0322 - precision: 0.9730 - recall: 0.9582 - val_accuracy: 0.9244 - val_loss: 0.2147 - val_mse: 0.0602 - val_precision: 0.9192 - val_recall: 0.9275\n",
      "Epoch 20/1000\n",
      "\u001b[1m43/43\u001b[0m \u001b[32m━━━━━━━━━━━━━━━━━━━━\u001b[0m\u001b[37m\u001b[0m \u001b[1m0s\u001b[0m 699us/step - accuracy: 0.9653 - loss: 0.1334 - mse: 0.0320 - precision: 0.9679 - recall: 0.9619 - val_accuracy: 0.9252 - val_loss: 0.2134 - val_mse: 0.0601 - val_precision: 0.9205 - val_recall: 0.9275\n",
      "Epoch 21/1000\n",
      "\u001b[1m43/43\u001b[0m \u001b[32m━━━━━━━━━━━━━━━━━━━━\u001b[0m\u001b[37m\u001b[0m \u001b[1m0s\u001b[0m 667us/step - accuracy: 0.9666 - loss: 0.1293 - mse: 0.0308 - precision: 0.9714 - recall: 0.9608 - val_accuracy: 0.9244 - val_loss: 0.2122 - val_mse: 0.0600 - val_precision: 0.9204 - val_recall: 0.9260\n",
      "Epoch 22/1000\n",
      "\u001b[1m43/43\u001b[0m \u001b[32m━━━━━━━━━━━━━━━━━━━━\u001b[0m\u001b[37m\u001b[0m \u001b[1m0s\u001b[0m 679us/step - accuracy: 0.9672 - loss: 0.1256 - mse: 0.0299 - precision: 0.9752 - recall: 0.9590 - val_accuracy: 0.9237 - val_loss: 0.2126 - val_mse: 0.0603 - val_precision: 0.9190 - val_recall: 0.9260\n",
      "Epoch 23/1000\n",
      "\u001b[1m43/43\u001b[0m \u001b[32m━━━━━━━━━━━━━━━━━━━━\u001b[0m\u001b[37m\u001b[0m \u001b[1m0s\u001b[0m 696us/step - accuracy: 0.9613 - loss: 0.1411 - mse: 0.0351 - precision: 0.9596 - recall: 0.9633 - val_accuracy: 0.9230 - val_loss: 0.2116 - val_mse: 0.0601 - val_precision: 0.9177 - val_recall: 0.9260\n",
      "Epoch 24/1000\n",
      "\u001b[1m43/43\u001b[0m \u001b[32m━━━━━━━━━━━━━━━━━━━━\u001b[0m\u001b[37m\u001b[0m \u001b[1m0s\u001b[0m 755us/step - accuracy: 0.9751 - loss: 0.1087 - mse: 0.0248 - precision: 0.9749 - recall: 0.9747 - val_accuracy: 0.9230 - val_loss: 0.2117 - val_mse: 0.0603 - val_precision: 0.9164 - val_recall: 0.9275\n",
      "Epoch 25/1000\n",
      "\u001b[1m43/43\u001b[0m \u001b[32m━━━━━━━━━━━━━━━━━━━━\u001b[0m\u001b[37m\u001b[0m \u001b[1m0s\u001b[0m 729us/step - accuracy: 0.9765 - loss: 0.1021 - mse: 0.0227 - precision: 0.9737 - recall: 0.9781 - val_accuracy: 0.9222 - val_loss: 0.2118 - val_mse: 0.0604 - val_precision: 0.9163 - val_recall: 0.9260\n",
      "Epoch 26/1000\n",
      "\u001b[1m43/43\u001b[0m \u001b[32m━━━━━━━━━━━━━━━━━━━━\u001b[0m\u001b[37m\u001b[0m \u001b[1m0s\u001b[0m 676us/step - accuracy: 0.9766 - loss: 0.1041 - mse: 0.0238 - precision: 0.9748 - recall: 0.9771 - val_accuracy: 0.9215 - val_loss: 0.2116 - val_mse: 0.0604 - val_precision: 0.9149 - val_recall: 0.9260\n",
      "Epoch 27/1000\n",
      "\u001b[1m43/43\u001b[0m \u001b[32m━━━━━━━━━━━━━━━━━━━━\u001b[0m\u001b[37m\u001b[0m \u001b[1m0s\u001b[0m 707us/step - accuracy: 0.9761 - loss: 0.1025 - mse: 0.0240 - precision: 0.9797 - recall: 0.9736 - val_accuracy: 0.9215 - val_loss: 0.2113 - val_mse: 0.0603 - val_precision: 0.9149 - val_recall: 0.9260\n",
      "Epoch 28/1000\n",
      "\u001b[1m43/43\u001b[0m \u001b[32m━━━━━━━━━━━━━━━━━━━━\u001b[0m\u001b[37m\u001b[0m \u001b[1m0s\u001b[0m 670us/step - accuracy: 0.9794 - loss: 0.0957 - mse: 0.0212 - precision: 0.9812 - recall: 0.9773 - val_accuracy: 0.9230 - val_loss: 0.2119 - val_mse: 0.0605 - val_precision: 0.9152 - val_recall: 0.9290\n",
      "Epoch 29/1000\n",
      "\u001b[1m43/43\u001b[0m \u001b[32m━━━━━━━━━━━━━━━━━━━━\u001b[0m\u001b[37m\u001b[0m \u001b[1m0s\u001b[0m 654us/step - accuracy: 0.9809 - loss: 0.0973 - mse: 0.0216 - precision: 0.9795 - recall: 0.9817 - val_accuracy: 0.9215 - val_loss: 0.2122 - val_mse: 0.0606 - val_precision: 0.9137 - val_recall: 0.9275\n",
      "Epoch 30/1000\n",
      "\u001b[1m43/43\u001b[0m \u001b[32m━━━━━━━━━━━━━━━━━━━━\u001b[0m\u001b[37m\u001b[0m \u001b[1m0s\u001b[0m 650us/step - accuracy: 0.9762 - loss: 0.0965 - mse: 0.0222 - precision: 0.9769 - recall: 0.9741 - val_accuracy: 0.9215 - val_loss: 0.2125 - val_mse: 0.0607 - val_precision: 0.9137 - val_recall: 0.9275\n",
      "Epoch 31/1000\n",
      "\u001b[1m43/43\u001b[0m \u001b[32m━━━━━━━━━━━━━━━━━━━━\u001b[0m\u001b[37m\u001b[0m \u001b[1m0s\u001b[0m 705us/step - accuracy: 0.9801 - loss: 0.0919 - mse: 0.0213 - precision: 0.9858 - recall: 0.9740 - val_accuracy: 0.9215 - val_loss: 0.2122 - val_mse: 0.0605 - val_precision: 0.9125 - val_recall: 0.9290\n",
      "Epoch 32/1000\n",
      "\u001b[1m43/43\u001b[0m \u001b[32m━━━━━━━━━━━━━━━━━━━━\u001b[0m\u001b[37m\u001b[0m \u001b[1m0s\u001b[0m 707us/step - accuracy: 0.9807 - loss: 0.0871 - mse: 0.0194 - precision: 0.9781 - recall: 0.9827 - val_accuracy: 0.9207 - val_loss: 0.2131 - val_mse: 0.0608 - val_precision: 0.9123 - val_recall: 0.9275\n",
      "Epoch 33/1000\n",
      "\u001b[1m43/43\u001b[0m \u001b[32m━━━━━━━━━━━━━━━━━━━━\u001b[0m\u001b[37m\u001b[0m \u001b[1m0s\u001b[0m 683us/step - accuracy: 0.9796 - loss: 0.0863 - mse: 0.0200 - precision: 0.9836 - recall: 0.9752 - val_accuracy: 0.9193 - val_loss: 0.2131 - val_mse: 0.0608 - val_precision: 0.9096 - val_recall: 0.9275\n",
      "Epoch 34/1000\n",
      "\u001b[1m43/43\u001b[0m \u001b[32m━━━━━━━━━━━━━━━━━━━━\u001b[0m\u001b[37m\u001b[0m \u001b[1m0s\u001b[0m 666us/step - accuracy: 0.9829 - loss: 0.0766 - mse: 0.0169 - precision: 0.9861 - recall: 0.9798 - val_accuracy: 0.9215 - val_loss: 0.2135 - val_mse: 0.0608 - val_precision: 0.9137 - val_recall: 0.9275\n",
      "Epoch 35/1000\n",
      "\u001b[1m43/43\u001b[0m \u001b[32m━━━━━━━━━━━━━━━━━━━━\u001b[0m\u001b[37m\u001b[0m \u001b[1m0s\u001b[0m 684us/step - accuracy: 0.9798 - loss: 0.0860 - mse: 0.0200 - precision: 0.9854 - recall: 0.9755 - val_accuracy: 0.9207 - val_loss: 0.2152 - val_mse: 0.0612 - val_precision: 0.9123 - val_recall: 0.9275\n",
      "Epoch 36/1000\n",
      "\u001b[1m43/43\u001b[0m \u001b[32m━━━━━━━━━━━━━━━━━━━━\u001b[0m\u001b[37m\u001b[0m \u001b[1m0s\u001b[0m 680us/step - accuracy: 0.9777 - loss: 0.0824 - mse: 0.0195 - precision: 0.9789 - recall: 0.9771 - val_accuracy: 0.9207 - val_loss: 0.2155 - val_mse: 0.0613 - val_precision: 0.9123 - val_recall: 0.9275\n",
      "Epoch 37/1000\n",
      "\u001b[1m43/43\u001b[0m \u001b[32m━━━━━━━━━━━━━━━━━━━━\u001b[0m\u001b[37m\u001b[0m \u001b[1m0s\u001b[0m 671us/step - accuracy: 0.9819 - loss: 0.0813 - mse: 0.0186 - precision: 0.9855 - recall: 0.9787 - val_accuracy: 0.9193 - val_loss: 0.2164 - val_mse: 0.0614 - val_precision: 0.9108 - val_recall: 0.9260\n",
      "Epoch 38/1000\n",
      "\u001b[1m43/43\u001b[0m \u001b[32m━━━━━━━━━━━━━━━━━━━━\u001b[0m\u001b[37m\u001b[0m \u001b[1m0s\u001b[0m 690us/step - accuracy: 0.9856 - loss: 0.0685 - mse: 0.0147 - precision: 0.9861 - recall: 0.9847 - val_accuracy: 0.9200 - val_loss: 0.2175 - val_mse: 0.0616 - val_precision: 0.9110 - val_recall: 0.9275\n",
      "Epoch 39/1000\n",
      "\u001b[1m43/43\u001b[0m \u001b[32m━━━━━━━━━━━━━━━━━━━━\u001b[0m\u001b[37m\u001b[0m \u001b[1m0s\u001b[0m 659us/step - accuracy: 0.9783 - loss: 0.0834 - mse: 0.0192 - precision: 0.9771 - recall: 0.9797 - val_accuracy: 0.9193 - val_loss: 0.2184 - val_mse: 0.0618 - val_precision: 0.9108 - val_recall: 0.9260\n",
      "Epoch 40/1000\n",
      "\u001b[1m43/43\u001b[0m \u001b[32m━━━━━━━━━━━━━━━━━━━━\u001b[0m\u001b[37m\u001b[0m \u001b[1m0s\u001b[0m 707us/step - accuracy: 0.9830 - loss: 0.0711 - mse: 0.0159 - precision: 0.9864 - recall: 0.9795 - val_accuracy: 0.9193 - val_loss: 0.2192 - val_mse: 0.0620 - val_precision: 0.9108 - val_recall: 0.9260\n",
      "Epoch 41/1000\n",
      "\u001b[1m43/43\u001b[0m \u001b[32m━━━━━━━━━━━━━━━━━━━━\u001b[0m\u001b[37m\u001b[0m \u001b[1m0s\u001b[0m 697us/step - accuracy: 0.9838 - loss: 0.0683 - mse: 0.0156 - precision: 0.9832 - recall: 0.9845 - val_accuracy: 0.9193 - val_loss: 0.2196 - val_mse: 0.0619 - val_precision: 0.9108 - val_recall: 0.9260\n",
      "Epoch 42/1000\n",
      "\u001b[1m43/43\u001b[0m \u001b[32m━━━━━━━━━━━━━━━━━━━━\u001b[0m\u001b[37m\u001b[0m \u001b[1m0s\u001b[0m 699us/step - accuracy: 0.9840 - loss: 0.0691 - mse: 0.0152 - precision: 0.9844 - recall: 0.9837 - val_accuracy: 0.9193 - val_loss: 0.2210 - val_mse: 0.0622 - val_precision: 0.9108 - val_recall: 0.9260\n",
      "Epoch 43/1000\n",
      "\u001b[1m43/43\u001b[0m \u001b[32m━━━━━━━━━━━━━━━━━━━━\u001b[0m\u001b[37m\u001b[0m \u001b[1m0s\u001b[0m 695us/step - accuracy: 0.9862 - loss: 0.0672 - mse: 0.0143 - precision: 0.9858 - recall: 0.9856 - val_accuracy: 0.9193 - val_loss: 0.2210 - val_mse: 0.0621 - val_precision: 0.9121 - val_recall: 0.9245\n",
      "Epoch 44/1000\n"
     ]
    },
    {
     "name": "stdout",
     "output_type": "stream",
     "text": [
      "\u001b[1m43/43\u001b[0m \u001b[32m━━━━━━━━━━━━━━━━━━━━\u001b[0m\u001b[37m\u001b[0m \u001b[1m0s\u001b[0m 717us/step - accuracy: 0.9841 - loss: 0.0654 - mse: 0.0143 - precision: 0.9840 - recall: 0.9848 - val_accuracy: 0.9200 - val_loss: 0.2226 - val_mse: 0.0624 - val_precision: 0.9134 - val_recall: 0.9245\n",
      "Epoch 45/1000\n",
      "\u001b[1m43/43\u001b[0m \u001b[32m━━━━━━━━━━━━━━━━━━━━\u001b[0m\u001b[37m\u001b[0m \u001b[1m0s\u001b[0m 666us/step - accuracy: 0.9874 - loss: 0.0607 - mse: 0.0124 - precision: 0.9892 - recall: 0.9860 - val_accuracy: 0.9207 - val_loss: 0.2231 - val_mse: 0.0624 - val_precision: 0.9136 - val_recall: 0.9260\n",
      "Epoch 46/1000\n",
      "\u001b[1m43/43\u001b[0m \u001b[32m━━━━━━━━━━━━━━━━━━━━\u001b[0m\u001b[37m\u001b[0m \u001b[1m0s\u001b[0m 678us/step - accuracy: 0.9881 - loss: 0.0594 - mse: 0.0126 - precision: 0.9897 - recall: 0.9866 - val_accuracy: 0.9207 - val_loss: 0.2241 - val_mse: 0.0626 - val_precision: 0.9136 - val_recall: 0.9260\n",
      "Epoch 47/1000\n",
      "\u001b[1m43/43\u001b[0m \u001b[32m━━━━━━━━━━━━━━━━━━━━\u001b[0m\u001b[37m\u001b[0m \u001b[1m0s\u001b[0m 764us/step - accuracy: 0.9841 - loss: 0.0601 - mse: 0.0130 - precision: 0.9833 - recall: 0.9851 - val_accuracy: 0.9200 - val_loss: 0.2255 - val_mse: 0.0628 - val_precision: 0.9122 - val_recall: 0.9260\n",
      "\u001b[1m43/43\u001b[0m \u001b[32m━━━━━━━━━━━━━━━━━━━━\u001b[0m\u001b[37m\u001b[0m \u001b[1m0s\u001b[0m 308us/step - accuracy: 0.9271 - loss: 0.2150 - mse: 0.0602 - precision: 0.9057 - recall: 0.9440\n",
      "Epoch 1/1000\n",
      "\u001b[1m43/43\u001b[0m \u001b[32m━━━━━━━━━━━━━━━━━━━━\u001b[0m\u001b[37m\u001b[0m \u001b[1m1s\u001b[0m 4ms/step - accuracy: 0.4626 - loss: 0.7189 - mse: 0.2625 - precision: 0.4717 - recall: 0.4889 - val_accuracy: 0.7096 - val_loss: 0.6312 - val_mse: 0.2195 - val_precision: 0.6941 - val_recall: 0.7418\n",
      "Epoch 2/1000\n",
      "\u001b[1m43/43\u001b[0m \u001b[32m━━━━━━━━━━━━━━━━━━━━\u001b[0m\u001b[37m\u001b[0m \u001b[1m0s\u001b[0m 775us/step - accuracy: 0.7549 - loss: 0.6080 - mse: 0.2084 - precision: 0.7283 - recall: 0.7993 - val_accuracy: 0.8363 - val_loss: 0.5448 - val_mse: 0.1782 - val_precision: 0.8193 - val_recall: 0.8597\n",
      "Epoch 3/1000\n",
      "\u001b[1m43/43\u001b[0m \u001b[32m━━━━━━━━━━━━━━━━━━━━\u001b[0m\u001b[37m\u001b[0m \u001b[1m0s\u001b[0m 715us/step - accuracy: 0.8720 - loss: 0.5140 - mse: 0.1638 - precision: 0.8601 - recall: 0.8880 - val_accuracy: 0.8815 - val_loss: 0.4697 - val_mse: 0.1443 - val_precision: 0.8772 - val_recall: 0.8851\n",
      "Epoch 4/1000\n",
      "\u001b[1m43/43\u001b[0m \u001b[32m━━━━━━━━━━━━━━━━━━━━\u001b[0m\u001b[37m\u001b[0m \u001b[1m0s\u001b[0m 738us/step - accuracy: 0.9042 - loss: 0.4376 - mse: 0.1301 - precision: 0.9113 - recall: 0.9015 - val_accuracy: 0.8993 - val_loss: 0.4068 - val_mse: 0.1180 - val_precision: 0.8973 - val_recall: 0.9000\n",
      "Epoch 5/1000\n",
      "\u001b[1m43/43\u001b[0m \u001b[32m━━━━━━━━━━━━━━━━━━━━\u001b[0m\u001b[37m\u001b[0m \u001b[1m0s\u001b[0m 714us/step - accuracy: 0.9249 - loss: 0.3705 - mse: 0.1027 - precision: 0.9283 - recall: 0.9199 - val_accuracy: 0.9111 - val_loss: 0.3557 - val_mse: 0.0985 - val_precision: 0.9142 - val_recall: 0.9060\n",
      "Epoch 6/1000\n",
      "\u001b[1m43/43\u001b[0m \u001b[32m━━━━━━━━━━━━━━━━━━━━\u001b[0m\u001b[37m\u001b[0m \u001b[1m0s\u001b[0m 706us/step - accuracy: 0.9310 - loss: 0.3285 - mse: 0.0876 - precision: 0.9353 - recall: 0.9225 - val_accuracy: 0.9170 - val_loss: 0.3178 - val_mse: 0.0853 - val_precision: 0.9215 - val_recall: 0.9104\n",
      "Epoch 7/1000\n",
      "\u001b[1m43/43\u001b[0m \u001b[32m━━━━━━━━━━━━━━━━━━━━\u001b[0m\u001b[37m\u001b[0m \u001b[1m0s\u001b[0m 701us/step - accuracy: 0.9340 - loss: 0.2942 - mse: 0.0765 - precision: 0.9419 - recall: 0.9270 - val_accuracy: 0.9185 - val_loss: 0.2896 - val_mse: 0.0766 - val_precision: 0.9242 - val_recall: 0.9104\n",
      "Epoch 8/1000\n",
      "\u001b[1m43/43\u001b[0m \u001b[32m━━━━━━━━━━━━━━━━━━━━\u001b[0m\u001b[37m\u001b[0m \u001b[1m0s\u001b[0m 718us/step - accuracy: 0.9430 - loss: 0.2535 - mse: 0.0628 - precision: 0.9413 - recall: 0.9413 - val_accuracy: 0.9193 - val_loss: 0.2675 - val_mse: 0.0703 - val_precision: 0.9244 - val_recall: 0.9119\n",
      "Epoch 9/1000\n",
      "\u001b[1m43/43\u001b[0m \u001b[32m━━━━━━━━━━━━━━━━━━━━\u001b[0m\u001b[37m\u001b[0m \u001b[1m0s\u001b[0m 723us/step - accuracy: 0.9546 - loss: 0.2223 - mse: 0.0528 - precision: 0.9575 - recall: 0.9530 - val_accuracy: 0.9185 - val_loss: 0.2522 - val_mse: 0.0665 - val_precision: 0.9230 - val_recall: 0.9119\n",
      "Epoch 10/1000\n",
      "\u001b[1m43/43\u001b[0m \u001b[32m━━━━━━━━━━━━━━━━━━━━\u001b[0m\u001b[37m\u001b[0m \u001b[1m0s\u001b[0m 732us/step - accuracy: 0.9466 - loss: 0.2184 - mse: 0.0534 - precision: 0.9549 - recall: 0.9367 - val_accuracy: 0.9193 - val_loss: 0.2402 - val_mse: 0.0638 - val_precision: 0.9244 - val_recall: 0.9119\n",
      "Epoch 11/1000\n",
      "\u001b[1m43/43\u001b[0m \u001b[32m━━━━━━━━━━━━━━━━━━━━\u001b[0m\u001b[37m\u001b[0m \u001b[1m0s\u001b[0m 743us/step - accuracy: 0.9586 - loss: 0.1914 - mse: 0.0447 - precision: 0.9598 - recall: 0.9585 - val_accuracy: 0.9170 - val_loss: 0.2317 - val_mse: 0.0622 - val_precision: 0.9215 - val_recall: 0.9104\n",
      "Epoch 12/1000\n",
      "\u001b[1m43/43\u001b[0m \u001b[32m━━━━━━━━━━━━━━━━━━━━\u001b[0m\u001b[37m\u001b[0m \u001b[1m0s\u001b[0m 720us/step - accuracy: 0.9538 - loss: 0.1814 - mse: 0.0430 - precision: 0.9609 - recall: 0.9480 - val_accuracy: 0.9148 - val_loss: 0.2243 - val_mse: 0.0609 - val_precision: 0.9186 - val_recall: 0.9090\n",
      "Epoch 13/1000\n",
      "\u001b[1m43/43\u001b[0m \u001b[32m━━━━━━━━━━━━━━━━━━━━\u001b[0m\u001b[37m\u001b[0m \u001b[1m0s\u001b[0m 702us/step - accuracy: 0.9593 - loss: 0.1684 - mse: 0.0391 - precision: 0.9652 - recall: 0.9532 - val_accuracy: 0.9163 - val_loss: 0.2194 - val_mse: 0.0603 - val_precision: 0.9175 - val_recall: 0.9134\n",
      "Epoch 14/1000\n",
      "\u001b[1m43/43\u001b[0m \u001b[32m━━━━━━━━━━━━━━━━━━━━\u001b[0m\u001b[37m\u001b[0m \u001b[1m0s\u001b[0m 726us/step - accuracy: 0.9567 - loss: 0.1642 - mse: 0.0393 - precision: 0.9599 - recall: 0.9521 - val_accuracy: 0.9178 - val_loss: 0.2149 - val_mse: 0.0595 - val_precision: 0.9178 - val_recall: 0.9164\n",
      "Epoch 15/1000\n",
      "\u001b[1m43/43\u001b[0m \u001b[32m━━━━━━━━━━━━━━━━━━━━\u001b[0m\u001b[37m\u001b[0m \u001b[1m0s\u001b[0m 704us/step - accuracy: 0.9629 - loss: 0.1480 - mse: 0.0346 - precision: 0.9693 - recall: 0.9565 - val_accuracy: 0.9193 - val_loss: 0.2119 - val_mse: 0.0593 - val_precision: 0.9180 - val_recall: 0.9194\n",
      "Epoch 16/1000\n",
      "\u001b[1m43/43\u001b[0m \u001b[32m━━━━━━━━━━━━━━━━━━━━\u001b[0m\u001b[37m\u001b[0m \u001b[1m0s\u001b[0m 707us/step - accuracy: 0.9550 - loss: 0.1539 - mse: 0.0375 - precision: 0.9608 - recall: 0.9473 - val_accuracy: 0.9185 - val_loss: 0.2101 - val_mse: 0.0594 - val_precision: 0.9167 - val_recall: 0.9194\n",
      "Epoch 17/1000\n",
      "\u001b[1m43/43\u001b[0m \u001b[32m━━━━━━━━━━━━━━━━━━━━\u001b[0m\u001b[37m\u001b[0m \u001b[1m0s\u001b[0m 718us/step - accuracy: 0.9638 - loss: 0.1374 - mse: 0.0321 - precision: 0.9691 - recall: 0.9561 - val_accuracy: 0.9170 - val_loss: 0.2085 - val_mse: 0.0595 - val_precision: 0.9164 - val_recall: 0.9164\n",
      "Epoch 18/1000\n",
      "\u001b[1m43/43\u001b[0m \u001b[32m━━━━━━━━━━━━━━━━━━━━\u001b[0m\u001b[37m\u001b[0m \u001b[1m0s\u001b[0m 792us/step - accuracy: 0.9634 - loss: 0.1375 - mse: 0.0331 - precision: 0.9688 - recall: 0.9550 - val_accuracy: 0.9178 - val_loss: 0.2072 - val_mse: 0.0596 - val_precision: 0.9165 - val_recall: 0.9179\n",
      "Epoch 19/1000\n",
      "\u001b[1m43/43\u001b[0m \u001b[32m━━━━━━━━━━━━━━━━━━━━\u001b[0m\u001b[37m\u001b[0m \u001b[1m0s\u001b[0m 791us/step - accuracy: 0.9619 - loss: 0.1313 - mse: 0.0313 - precision: 0.9645 - recall: 0.9564 - val_accuracy: 0.9170 - val_loss: 0.2060 - val_mse: 0.0597 - val_precision: 0.9152 - val_recall: 0.9179\n",
      "Epoch 20/1000\n",
      "\u001b[1m43/43\u001b[0m \u001b[32m━━━━━━━━━━━━━━━━━━━━\u001b[0m\u001b[37m\u001b[0m \u001b[1m0s\u001b[0m 706us/step - accuracy: 0.9640 - loss: 0.1228 - mse: 0.0294 - precision: 0.9653 - recall: 0.9626 - val_accuracy: 0.9170 - val_loss: 0.2066 - val_mse: 0.0602 - val_precision: 0.9164 - val_recall: 0.9164\n",
      "Epoch 21/1000\n",
      "\u001b[1m43/43\u001b[0m \u001b[32m━━━━━━━━━━━━━━━━━━━━\u001b[0m\u001b[37m\u001b[0m \u001b[1m0s\u001b[0m 763us/step - accuracy: 0.9647 - loss: 0.1210 - mse: 0.0289 - precision: 0.9617 - recall: 0.9679 - val_accuracy: 0.9148 - val_loss: 0.2063 - val_mse: 0.0604 - val_precision: 0.9148 - val_recall: 0.9134\n",
      "Epoch 22/1000\n",
      "\u001b[1m43/43\u001b[0m \u001b[32m━━━━━━━━━━━━━━━━━━━━\u001b[0m\u001b[37m\u001b[0m \u001b[1m0s\u001b[0m 792us/step - accuracy: 0.9682 - loss: 0.1155 - mse: 0.0277 - precision: 0.9657 - recall: 0.9700 - val_accuracy: 0.9156 - val_loss: 0.2073 - val_mse: 0.0611 - val_precision: 0.9149 - val_recall: 0.9149\n",
      "Epoch 23/1000\n",
      "\u001b[1m43/43\u001b[0m \u001b[32m━━━━━━━━━━━━━━━━━━━━\u001b[0m\u001b[37m\u001b[0m \u001b[1m0s\u001b[0m 737us/step - accuracy: 0.9668 - loss: 0.1119 - mse: 0.0268 - precision: 0.9720 - recall: 0.9623 - val_accuracy: 0.9141 - val_loss: 0.2072 - val_mse: 0.0611 - val_precision: 0.9134 - val_recall: 0.9134\n",
      "Epoch 24/1000\n",
      "\u001b[1m43/43\u001b[0m \u001b[32m━━━━━━━━━━━━━━━━━━━━\u001b[0m\u001b[37m\u001b[0m \u001b[1m0s\u001b[0m 804us/step - accuracy: 0.9672 - loss: 0.1126 - mse: 0.0273 - precision: 0.9679 - recall: 0.9670 - val_accuracy: 0.9119 - val_loss: 0.2081 - val_mse: 0.0617 - val_precision: 0.9130 - val_recall: 0.9090\n",
      "Epoch 25/1000\n",
      "\u001b[1m43/43\u001b[0m \u001b[32m━━━━━━━━━━━━━━━━━━━━\u001b[0m\u001b[37m\u001b[0m \u001b[1m0s\u001b[0m 735us/step - accuracy: 0.9725 - loss: 0.1029 - mse: 0.0241 - precision: 0.9727 - recall: 0.9693 - val_accuracy: 0.9126 - val_loss: 0.2090 - val_mse: 0.0622 - val_precision: 0.9119 - val_recall: 0.9119\n"
     ]
    },
    {
     "name": "stdout",
     "output_type": "stream",
     "text": [
      "Epoch 26/1000\n",
      "\u001b[1m43/43\u001b[0m \u001b[32m━━━━━━━━━━━━━━━━━━━━\u001b[0m\u001b[37m\u001b[0m \u001b[1m0s\u001b[0m 766us/step - accuracy: 0.9709 - loss: 0.1069 - mse: 0.0259 - precision: 0.9734 - recall: 0.9668 - val_accuracy: 0.9119 - val_loss: 0.2105 - val_mse: 0.0628 - val_precision: 0.9130 - val_recall: 0.9090\n",
      "Epoch 27/1000\n",
      "\u001b[1m43/43\u001b[0m \u001b[32m━━━━━━━━━━━━━━━━━━━━\u001b[0m\u001b[37m\u001b[0m \u001b[1m0s\u001b[0m 693us/step - accuracy: 0.9755 - loss: 0.0994 - mse: 0.0233 - precision: 0.9759 - recall: 0.9731 - val_accuracy: 0.9126 - val_loss: 0.2107 - val_mse: 0.0628 - val_precision: 0.9144 - val_recall: 0.9090\n",
      "Epoch 28/1000\n",
      "\u001b[1m43/43\u001b[0m \u001b[32m━━━━━━━━━━━━━━━━━━━━\u001b[0m\u001b[37m\u001b[0m \u001b[1m0s\u001b[0m 683us/step - accuracy: 0.9750 - loss: 0.0934 - mse: 0.0216 - precision: 0.9728 - recall: 0.9770 - val_accuracy: 0.9126 - val_loss: 0.2119 - val_mse: 0.0633 - val_precision: 0.9132 - val_recall: 0.9104\n",
      "Epoch 29/1000\n",
      "\u001b[1m43/43\u001b[0m \u001b[32m━━━━━━━━━━━━━━━━━━━━\u001b[0m\u001b[37m\u001b[0m \u001b[1m0s\u001b[0m 807us/step - accuracy: 0.9836 - loss: 0.0800 - mse: 0.0178 - precision: 0.9838 - recall: 0.9833 - val_accuracy: 0.9111 - val_loss: 0.2136 - val_mse: 0.0639 - val_precision: 0.9117 - val_recall: 0.9090\n",
      "Epoch 30/1000\n",
      "\u001b[1m43/43\u001b[0m \u001b[32m━━━━━━━━━━━━━━━━━━━━\u001b[0m\u001b[37m\u001b[0m \u001b[1m0s\u001b[0m 712us/step - accuracy: 0.9780 - loss: 0.0870 - mse: 0.0203 - precision: 0.9813 - recall: 0.9737 - val_accuracy: 0.9096 - val_loss: 0.2157 - val_mse: 0.0646 - val_precision: 0.9102 - val_recall: 0.9075\n",
      "Epoch 31/1000\n",
      "\u001b[1m43/43\u001b[0m \u001b[32m━━━━━━━━━━━━━━━━━━━━\u001b[0m\u001b[37m\u001b[0m \u001b[1m0s\u001b[0m 694us/step - accuracy: 0.9748 - loss: 0.0963 - mse: 0.0229 - precision: 0.9758 - recall: 0.9722 - val_accuracy: 0.9111 - val_loss: 0.2168 - val_mse: 0.0649 - val_precision: 0.9129 - val_recall: 0.9075\n",
      "Epoch 32/1000\n",
      "\u001b[1m43/43\u001b[0m \u001b[32m━━━━━━━━━━━━━━━━━━━━\u001b[0m\u001b[37m\u001b[0m \u001b[1m0s\u001b[0m 675us/step - accuracy: 0.9865 - loss: 0.0732 - mse: 0.0159 - precision: 0.9860 - recall: 0.9862 - val_accuracy: 0.9096 - val_loss: 0.2178 - val_mse: 0.0651 - val_precision: 0.9102 - val_recall: 0.9075\n",
      "Epoch 33/1000\n",
      "\u001b[1m43/43\u001b[0m \u001b[32m━━━━━━━━━━━━━━━━━━━━\u001b[0m\u001b[37m\u001b[0m \u001b[1m0s\u001b[0m 697us/step - accuracy: 0.9824 - loss: 0.0747 - mse: 0.0170 - precision: 0.9817 - recall: 0.9825 - val_accuracy: 0.9089 - val_loss: 0.2198 - val_mse: 0.0656 - val_precision: 0.9100 - val_recall: 0.9060\n",
      "Epoch 34/1000\n",
      "\u001b[1m43/43\u001b[0m \u001b[32m━━━━━━━━━━━━━━━━━━━━\u001b[0m\u001b[37m\u001b[0m \u001b[1m0s\u001b[0m 696us/step - accuracy: 0.9818 - loss: 0.0841 - mse: 0.0197 - precision: 0.9822 - recall: 0.9817 - val_accuracy: 0.9089 - val_loss: 0.2210 - val_mse: 0.0659 - val_precision: 0.9100 - val_recall: 0.9060\n",
      "Epoch 35/1000\n",
      "\u001b[1m43/43\u001b[0m \u001b[32m━━━━━━━━━━━━━━━━━━━━\u001b[0m\u001b[37m\u001b[0m \u001b[1m0s\u001b[0m 734us/step - accuracy: 0.9837 - loss: 0.0761 - mse: 0.0175 - precision: 0.9809 - recall: 0.9860 - val_accuracy: 0.9096 - val_loss: 0.2229 - val_mse: 0.0663 - val_precision: 0.9102 - val_recall: 0.9075\n",
      "Epoch 36/1000\n",
      "\u001b[1m43/43\u001b[0m \u001b[32m━━━━━━━━━━━━━━━━━━━━\u001b[0m\u001b[37m\u001b[0m \u001b[1m0s\u001b[0m 698us/step - accuracy: 0.9846 - loss: 0.0708 - mse: 0.0159 - precision: 0.9845 - recall: 0.9843 - val_accuracy: 0.9089 - val_loss: 0.2234 - val_mse: 0.0664 - val_precision: 0.9100 - val_recall: 0.9060\n",
      "Epoch 37/1000\n",
      "\u001b[1m43/43\u001b[0m \u001b[32m━━━━━━━━━━━━━━━━━━━━\u001b[0m\u001b[37m\u001b[0m \u001b[1m0s\u001b[0m 713us/step - accuracy: 0.9855 - loss: 0.0729 - mse: 0.0171 - precision: 0.9884 - recall: 0.9820 - val_accuracy: 0.9081 - val_loss: 0.2260 - val_mse: 0.0668 - val_precision: 0.9099 - val_recall: 0.9045\n",
      "Epoch 38/1000\n",
      "\u001b[1m43/43\u001b[0m \u001b[32m━━━━━━━━━━━━━━━━━━━━\u001b[0m\u001b[37m\u001b[0m \u001b[1m0s\u001b[0m 690us/step - accuracy: 0.9861 - loss: 0.0721 - mse: 0.0160 - precision: 0.9842 - recall: 0.9868 - val_accuracy: 0.9089 - val_loss: 0.2274 - val_mse: 0.0673 - val_precision: 0.9100 - val_recall: 0.9060\n",
      "Epoch 39/1000\n",
      "\u001b[1m43/43\u001b[0m \u001b[32m━━━━━━━━━━━━━━━━━━━━\u001b[0m\u001b[37m\u001b[0m \u001b[1m0s\u001b[0m 765us/step - accuracy: 0.9899 - loss: 0.0629 - mse: 0.0136 - precision: 0.9930 - recall: 0.9868 - val_accuracy: 0.9089 - val_loss: 0.2284 - val_mse: 0.0675 - val_precision: 0.9100 - val_recall: 0.9060\n",
      "\u001b[1m43/43\u001b[0m \u001b[32m━━━━━━━━━━━━━━━━━━━━\u001b[0m\u001b[37m\u001b[0m \u001b[1m0s\u001b[0m 262us/step - accuracy: 0.8948 - loss: 0.2272 - mse: 0.0687 - precision: 0.8943 - recall: 0.8950\n",
      "Mean Validation Accuracy: 0.921975294748942\n",
      "Mean Validation recall: 0.9267609516779581\n",
      "Mean Validation precision: 0.9167207082112631\n",
      "accuracy: [0.9274073839187622, 0.9214814901351929, 0.9170370101928711]\n",
      "recall: [0.9363905191421509, 0.925981879234314, 0.9179104566574097]\n",
      "precision: [0.9200581312179565, 0.9149253964424133, 0.9151785969734192]\n"
     ]
    }
   ],
   "source": [
    "import numpy as np\n",
    "from sklearn.model_selection import KFold\n",
    "from tensorflow.keras.models import Sequential\n",
    "from tensorflow.keras.layers import Dense\n",
    "from tensorflow.keras.callbacks import EarlyStopping\n",
    "\n",
    "# Definisci la classe della rete neurale\n",
    "class NeuralNetwork:\n",
    "    def __init__(self):\n",
    "        self.model = self.build_model()\n",
    "\n",
    "    def build_model(self):\n",
    "        model = Sequential([\n",
    "            Dense(units=10, activation='sigmoid', input_shape=(K,)),\n",
    "            Dense(units=1, activation='sigmoid')\n",
    "        ])\n",
    "        model.compile(optimizer='adam', loss='binary_crossentropy',  metrics=['accuracy', 'mse', 'recall', 'precision'])\n",
    "        return model\n",
    "\n",
    "# Definisci il numero di fold per la cross-validation\n",
    "n_splits = 3\n",
    "kf = KFold(n_splits=n_splits, shuffle=True, random_state=42)\n",
    "\n",
    "# Inizializza una lista per salvare gli score di validazione per ogni fold\n",
    "val_accuracy_cv = []\n",
    "val_recall_cv = []\n",
    "val_precision_cv = []\n",
    "\n",
    "# Itera attraverso i fold della cross-validation\n",
    "for train_index, val_index in kf.split(X):\n",
    "    X_train_fold, X_val_fold = X[train_index], X[val_index]\n",
    "    y_train_fold, y_val_fold = y[train_index], y[val_index]\n",
    "    \n",
    "    # Inizializza e addestra la rete neurale\n",
    "    nn = NeuralNetwork()\n",
    "    history = nn.model.fit(\n",
    "        x=X_train_fold, \n",
    "        y=y_train_fold,\n",
    "        batch_size=64,\n",
    "        epochs=1000,\n",
    "        verbose=1,\n",
    "        validation_data=(X_val_fold, y_val_fold),\n",
    "        callbacks=[EarlyStopping(restore_best_weights=True, patience=20)]\n",
    "    )\n",
    "    \n",
    "    # Valuta la rete neurale sul fold di validazione\n",
    "    val_loss, val_accuracy, val_mse, val_recall, val_precision = nn.model.evaluate(X_val_fold, y_val_fold)\n",
    "  \n",
    "    \n",
    "\n",
    "    \n",
    "    val_accuracy_cv.append(val_accuracy)\n",
    "    val_recall_cv.append(val_recall)\n",
    "    val_precision_cv.append(val_precision)\n",
    "\n",
    "# Calcola e stampa l'accuracy media dei fold di validazione\n",
    "mean_val_accuracy = np.mean(val_accuracy_cv)\n",
    "mean_val_recall = np.mean(val_recall_cv)\n",
    "mean_val_precision = np.mean(val_precision_cv)\n",
    "print(\"Mean Validation Accuracy:\", mean_val_accuracy)\n",
    "print(\"Mean Validation recall:\", mean_val_recall)\n",
    "print(\"Mean Validation precision:\", mean_val_precision)\n",
    "\n",
    "print(\"accuracy:\", val_accuracy_cv)\n",
    "print(\"recall:\", val_recall_cv)\n",
    "print(\"precision:\", val_precision_cv)"
   ]
  },
  {
   "cell_type": "code",
   "execution_count": 126,
   "metadata": {},
   "outputs": [
    {
     "data": {
      "text/plain": [
       "[0.7692307829856873,\n",
       " 0.8014705777168274,\n",
       " 0.8125,\n",
       " 0.7573529481887817,\n",
       " 0.7463235259056091,\n",
       " 0.7573529481887817,\n",
       " 0.7389705777168274,\n",
       " 0.7536764740943909,\n",
       " 0.7058823704719543,\n",
       " 0.7536764740943909]"
      ]
     },
     "execution_count": 126,
     "metadata": {},
     "output_type": "execute_result"
    }
   ],
   "source": [
    "val_accuracy_cv"
   ]
  }
 ],
 "metadata": {
  "colab": {
   "collapsed_sections": [
    "5_qRAUKplhNa",
    "57LZ_fI59-Tk"
   ],
   "provenance": []
  },
  "kernelspec": {
   "display_name": "Python 3 (ipykernel)",
   "language": "python",
   "name": "python3"
  },
  "language_info": {
   "codemirror_mode": {
    "name": "ipython",
    "version": 3
   },
   "file_extension": ".py",
   "mimetype": "text/x-python",
   "name": "python",
   "nbconvert_exporter": "python",
   "pygments_lexer": "ipython3",
   "version": "3.11.5"
  }
 },
 "nbformat": 4,
 "nbformat_minor": 1
}
