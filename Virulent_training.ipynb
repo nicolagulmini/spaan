{
 "cells": [
  {
   "cell_type": "code",
   "execution_count": 99,
   "metadata": {
    "id": "ezfZzH9lnDl3"
   },
   "outputs": [],
   "source": [
    "import numpy\n",
    "import tensorflow\n",
    "from tensorflow import keras\n",
    "import matplotlib.pyplot as plt\n",
    "from Bio import SeqIO\n"
   ]
  },
  {
   "cell_type": "code",
   "execution_count": 100,
   "metadata": {
    "id": "IXLoKnrvsMK-"
   },
   "outputs": [],
   "source": [
    "def from_files_to_vectors(fasta_path, positive=True):\n",
    "    if positive:\n",
    "        proteins = list(SeqIO.parse(fasta_path+'pos_25.fasta', \"fasta\"))\n",
    "    else:\n",
    "        proteins = list(SeqIO.parse(fasta_path+'neg_25.fasta', \"fasta\"))\n",
    "    extension = \".out\"\n",
    "    files = [\"aac\", \"dpc\", \"ctdc\", \"ctdt\", \"ctdd\"]\n",
    "    if positive:\n",
    "        names = \"_cleaned_pos\"\n",
    "    else:\n",
    "        names = \"_cleaned_neg\"\n",
    "    for i in range(len(files)):\n",
    "        files[i] += names\n",
    "    datasets = [[] for el in files]\n",
    "    for i in range(len(files)):\n",
    "        with open(fasta_path+files[i]+extension) as f:\n",
    "            lines = f.readlines()[1:]\n",
    "            check_prot = 0\n",
    "            for line in lines:\n",
    "                information = line.split('\\t')\n",
    "                if not information[0] == proteins[check_prot].id:\n",
    "                    print(\"Error in protein order! Return\")\n",
    "                    return datasets\n",
    "                datasets[i].append(numpy.array([float(el) for el in information[1:]]))\n",
    "                check_prot += 1\n",
    "        datasets[i] = numpy.array(datasets[i])\n",
    "    return datasets"
   ]
  },
  {
   "cell_type": "code",
   "execution_count": 101,
   "metadata": {
    "id": "qwYSUH_r2Pw6"
   },
   "outputs": [],
   "source": [
    "pos_datasets = from_files_to_vectors(\"./data_v/25_similarity/pos/\", positive=True)\n",
    "neg_datasets = from_files_to_vectors(\"./data_v/25_similarity/neg/\", positive=False)\n",
    "\n",
    "y_pos = numpy.ones(pos_datasets[0].shape[0])\n",
    "y_neg = numpy.zeros(neg_datasets[0].shape[0])"
   ]
  },
  {
   "cell_type": "code",
   "execution_count": 102,
   "metadata": {
    "colab": {
     "base_uri": "https://localhost:8080/"
    },
    "id": "n6ugvKCJ_SQU",
    "outputId": "69aa8c5a-af07-44c5-ea0a-96069b80cfb7"
   },
   "outputs": [
    {
     "name": "stdout",
     "output_type": "stream",
     "text": [
      "Virulent: 1820\n",
      "NON Virulent: 1808\n",
      "1 -th feature dim: 20\n",
      "2 -th feature dim: 400\n",
      "3 -th feature dim: 39\n",
      "4 -th feature dim: 39\n",
      "5 -th feature dim: 195\n",
      "Data matrix dimension: (3628, 693)\n"
     ]
    }
   ],
   "source": [
    "# attach datasets in order to obtain a matrix of (n, 20+400+39+39+195) features\n",
    "\n",
    "# keep in mind the number of virulent factors and the number of not virulent factors\n",
    "rows = 0\n",
    "n_pos = y_pos.shape[0]\n",
    "n_neg = y_neg.shape[0]\n",
    "rows = n_pos + n_neg\n",
    "print('Virulent:', n_pos)\n",
    "print('NON Virulent:', n_neg)\n",
    "\n",
    "# feature vectors dimensions\n",
    "columns = 0\n",
    "for i in range(len(pos_datasets)):\n",
    "    tmp_dim = pos_datasets[i].shape[1]\n",
    "    print(i+1, '-th feature dim:', tmp_dim)\n",
    "    columns += tmp_dim\n",
    "\n",
    "# data matrix to process\n",
    "X = numpy.zeros((rows, columns))\n",
    "print('Data matrix dimension:', X.shape)\n",
    "for i in range(n_pos):\n",
    "    X[i] = numpy.concatenate([pos_datasets[j][i] for j in range(5)])\n",
    "for i in range(n_neg):\n",
    "    X[n_pos+i] = numpy.concatenate([neg_datasets[j][i] for j in range(5)])"
   ]
  },
  {
   "cell_type": "code",
   "execution_count": 103,
   "metadata": {
    "id": "QxfYFLoS_hai"
   },
   "outputs": [],
   "source": [
    "# permutation\n",
    "numpy.random.seed(42)\n",
    "\n",
    "y = numpy.concatenate((y_pos, y_neg), axis=0)\n",
    "c = numpy.random.permutation(numpy.arange(y.shape[0]))\n",
    "y = y[c]\n",
    "X = X[c] "
   ]
  },
  {
   "cell_type": "code",
   "execution_count": 104,
   "metadata": {},
   "outputs": [],
   "source": [
    "import numpy as np\n",
    "from sklearn.model_selection import KFold\n",
    "from sklearn.ensemble import RandomForestClassifier\n",
    "from sklearn.metrics import accuracy_score\n"
   ]
  },
  {
   "cell_type": "code",
   "execution_count": 105,
   "metadata": {
    "colab": {
     "base_uri": "https://localhost:8080/"
    },
    "id": "ZzpCOTgl_o9A",
    "outputId": "538f9805-1ed4-4bc4-fcc4-be1ad9b9b154"
   },
   "outputs": [
    {
     "name": "stdout",
     "output_type": "stream",
     "text": [
      "Training data shape: (1814, 693) (1814,)\n",
      "Validation data shape: (907, 693) (907,)\n",
      "Test data shape: (907, 693) (907,)\n",
      "\n",
      "Training virulent factors and not-virulent factors: 927 887\n",
      "Validation virulent factors and not-virulent factors: 436 471\n",
      "Test virulent factors and not-virulent factors: 457 450\n"
     ]
    }
   ],
   "source": [
    "# remember: standardization or scaling AFTER train-test split, otherwise there's data leakage!!!\n",
    "X_train = X[:int(X.shape[0]*.5)]\n",
    "X_val = X[int(X.shape[0]*.5):int(X.shape[0]*.75)]\n",
    "X_test = X[int(X.shape[0]*.75):]\n",
    "\n",
    "y_train = y[:int(y.shape[0]*.5)]\n",
    "y_val = y[int(y.shape[0]*.5):int(y.shape[0]*.75)]\n",
    "y_test = y[int(y.shape[0]*.75):]\n",
    "\n",
    "print('Training data shape:', X_train.shape, y_train.shape)\n",
    "print('Validation data shape:', X_val.shape, y_val.shape)\n",
    "print('Test data shape:', X_test.shape, y_test.shape)\n",
    "\n",
    "print('\\nTraining virulent factors and not-virulent factors:', int(sum(y_train)), int(y_train.shape[0]-sum(y_train)))\n",
    "print('Validation virulent factors and not-virulent factors:', int(sum(y_val)), int(y_val.shape[0]-sum(y_val)))\n",
    "print('Test virulent factors and not-virulent factors:', int(sum(y_test)), int(y_test.shape[0]-sum(y_test)))"
   ]
  },
  {
   "cell_type": "code",
   "execution_count": 106,
   "metadata": {
    "id": "EWhx9WSsAB-1"
   },
   "outputs": [],
   "source": [
    "# PCA\n",
    "\n",
    "stdX = numpy.zeros(X_train.shape)\n",
    "stdX_val = numpy.zeros(X_val.shape)\n",
    "stdX_test = numpy.zeros(X_test.shape)\n",
    "\n",
    "means = numpy.zeros(X_train.shape[1])\n",
    "std_devs = numpy.zeros(X_train.shape[1])\n",
    "\n",
    "for j in range(X_train.shape[1]):\n",
    "    column = X_train[:,j]\n",
    "    means[j] = numpy.mean(column)\n",
    "    std_devs[j] = numpy.std(column)\n",
    "    stdX[:,j] = (column - means[j]) / std_devs[j]\n",
    "    stdX_val[:,j] = (X_val[:,j] - means[j]) / std_devs[j]\n",
    "    stdX_test[:,j] = (X_test[:,j] - means[j]) / std_devs[j]\n",
    "\n",
    "numpy.save('means', means)\n",
    "numpy.save('std_devs', std_devs)\n",
    "\n",
    "covariance_matrix = numpy.cov(stdX.T)\n",
    "\n",
    "eigen_values, eigen_vectors = numpy.linalg.eig(covariance_matrix)\n",
    "eigen_values = numpy.real(eigen_values)\n",
    "eigen_vectors = numpy.real(eigen_vectors)\n",
    "\n",
    "variance_explained = []\n",
    "for i in eigen_values:\n",
    "    variance_explained.append((i/sum(eigen_values))*100)\n",
    "\n",
    "cumulative_variance_explained = numpy.cumsum(variance_explained)"
   ]
  },
  {
   "cell_type": "code",
   "execution_count": 107,
   "metadata": {
    "colab": {
     "base_uri": "https://localhost:8080/",
     "height": 295
    },
    "id": "3H21ZME1BWz7",
    "outputId": "bc36f7aa-3347-4586-9a36-7c39b5287d34"
   },
   "outputs": [
    {
     "data": {
      "image/png": "[encoded data removed]",
      "text/plain": [
       "<Figure size 640x480 with 1 Axes>"
      ]
     },
     "metadata": {},
     "output_type": "display_data"
    }
   ],
   "source": [
    "plt.title(\"Explained variance vs Number of components\")\n",
    "\n",
    "plt.xlabel(\"Number of components\")\n",
    "plt.ylabel(\"Cumulative explained variance\")\n",
    "plt.grid(color='gray', linewidth=.4)\n",
    "\n",
    "plt.plot(range(len(cumulative_variance_explained)), cumulative_variance_explained)\n",
    "\n",
    "plt.show()\n",
    "#plt.savefig('Explained variance.png')"
   ]
  },
  {
   "cell_type": "code",
   "execution_count": 108,
   "metadata": {
    "colab": {
     "base_uri": "https://localhost:8080/"
    },
    "id": "HNRicsM0BZ82",
    "outputId": "2597cd27-45c5-49f8-be42-741a081d08be"
   },
   "outputs": [
    {
     "name": "stdout",
     "output_type": "stream",
     "text": [
      "Principal components: 400\n",
      "Discarded components: 293\n"
     ]
    }
   ],
   "source": [
    "K = 400 # more or less like adhesin\n",
    "print('Principal components:', K)\n",
    "print('Discarded components:', columns-K)"
   ]
  },
  {
   "cell_type": "code",
   "execution_count": 109,
   "metadata": {
    "colab": {
     "base_uri": "https://localhost:8080/",
     "height": 295
    },
    "id": "z3HVUUpRBdHb",
    "outputId": "1f021dd9-1b76-4807-fa6b-4ef9ee9e766d"
   },
   "outputs": [
    {
     "data": {
      "image/png": "[encoded data removed]",
      "text/plain": [
       "<Figure size 640x480 with 1 Axes>"
      ]
     },
     "metadata": {},
     "output_type": "display_data"
    }
   ],
   "source": [
    "plt.title(\"Explained variance vs first \" + str(K) + \" components\")\n",
    "\n",
    "plt.xlabel(\"Number of components\")\n",
    "plt.ylabel(\"Cumulative explained variance\")\n",
    "plt.grid(color='gray', linewidth=.4)\n",
    "\n",
    "plt.plot(range(K), cumulative_variance_explained[:K])\n",
    "\n",
    "plt.show()\n",
    "#plt.savefig('Explained variance.png')"
   ]
  },
  {
   "cell_type": "code",
   "execution_count": 110,
   "metadata": {
    "colab": {
     "base_uri": "https://localhost:8080/"
    },
    "id": "HtOHXpbNBi30",
    "outputId": "12028f20-cf40-4993-c608-f7dcb03f5551"
   },
   "outputs": [
    {
     "name": "stdout",
     "output_type": "stream",
     "text": [
      "(693, 400)\n"
     ]
    }
   ],
   "source": [
    "# Project using first K components\n",
    "\n",
    "projection_matrix = numpy.real((eigen_vectors.T[:][:K]).T)\n",
    "print(projection_matrix.shape)\n",
    "\n",
    "numpy.save('projection_matrix', projection_matrix)"
   ]
  },
  {
   "cell_type": "code",
   "execution_count": 111,
   "metadata": {
    "id": "NNtLkAdwBlSA"
   },
   "outputs": [],
   "source": [
    "# project matrices\n",
    "X_train = stdX.dot(projection_matrix)\n",
    "X_val = stdX_val.dot(projection_matrix)\n",
    "X_test = stdX_test.dot(projection_matrix)"
   ]
  },
  {
   "cell_type": "code",
   "execution_count": 112,
   "metadata": {},
   "outputs": [
    {
     "data": {
      "text/plain": [
       "(1814, 400)"
      ]
     },
     "execution_count": 112,
     "metadata": {},
     "output_type": "execute_result"
    }
   ],
   "source": [
    "X_train.shape\n"
   ]
  },
  {
   "cell_type": "code",
   "execution_count": 113,
   "metadata": {},
   "outputs": [
    {
     "data": {
      "text/plain": [
       "(907, 400)"
      ]
     },
     "execution_count": 113,
     "metadata": {},
     "output_type": "execute_result"
    }
   ],
   "source": [
    "X_val.shape"
   ]
  },
  {
   "cell_type": "code",
   "execution_count": 114,
   "metadata": {},
   "outputs": [
    {
     "data": {
      "text/plain": [
       "(907, 400)"
      ]
     },
     "execution_count": 114,
     "metadata": {},
     "output_type": "execute_result"
    }
   ],
   "source": [
    "X_test.shape"
   ]
  },
  {
   "cell_type": "code",
   "execution_count": 115,
   "metadata": {},
   "outputs": [
    {
     "data": {
      "text/plain": [
       "(3628, 400)"
      ]
     },
     "execution_count": 115,
     "metadata": {},
     "output_type": "execute_result"
    }
   ],
   "source": [
    "X = np.concatenate((X_train, X_val, X_test), axis=0)\n",
    "y = np.concatenate((y_train, y_val, y_test), axis=0)\n",
    "X.shape\n"
   ]
  },
  {
   "cell_type": "code",
   "execution_count": 116,
   "metadata": {},
   "outputs": [
    {
     "data": {
      "text/plain": [
       "(3628,)"
      ]
     },
     "execution_count": 116,
     "metadata": {},
     "output_type": "execute_result"
    }
   ],
   "source": [
    "y.shape"
   ]
  },
  {
   "cell_type": "code",
   "execution_count": 129,
   "metadata": {},
   "outputs": [
    {
     "name": "stdout",
     "output_type": "stream",
     "text": [
      "Epoch 1/1000\n",
      "\u001b[1m38/38\u001b[0m \u001b[32m━━━━━━━━━━━━━━━━━━━━\u001b[0m\u001b[37m\u001b[0m \u001b[1m1s\u001b[0m 4ms/step - accuracy: 0.6330 - loss: 0.6515 - mse: 0.2296 - precision: 0.6523 - recall: 0.5700 - val_accuracy: 0.6901 - val_loss: 0.6114 - val_mse: 0.2106 - val_precision: 0.7412 - val_recall: 0.6305\n",
      "Epoch 2/1000\n",
      "\u001b[1m38/38\u001b[0m \u001b[32m━━━━━━━━━━━━━━━━━━━━\u001b[0m\u001b[37m\u001b[0m \u001b[1m0s\u001b[0m 779us/step - accuracy: 0.7457 - loss: 0.5673 - mse: 0.1902 - precision: 0.7789 - recall: 0.6576 - val_accuracy: 0.7215 - val_loss: 0.5726 - val_mse: 0.1932 - val_precision: 0.7733 - val_recall: 0.6651\n",
      "Epoch 3/1000\n",
      "\u001b[1m38/38\u001b[0m \u001b[32m━━━━━━━━━━━━━━━━━━━━\u001b[0m\u001b[37m\u001b[0m \u001b[1m0s\u001b[0m 773us/step - accuracy: 0.7821 - loss: 0.5103 - mse: 0.1652 - precision: 0.8220 - recall: 0.7170 - val_accuracy: 0.7347 - val_loss: 0.5477 - val_mse: 0.1828 - val_precision: 0.7890 - val_recall: 0.6761\n",
      "Epoch 4/1000\n",
      "\u001b[1m38/38\u001b[0m \u001b[32m━━━━━━━━━━━━━━━━━━━━\u001b[0m\u001b[37m\u001b[0m \u001b[1m0s\u001b[0m 799us/step - accuracy: 0.8109 - loss: 0.4724 - mse: 0.1499 - precision: 0.8411 - recall: 0.7549 - val_accuracy: 0.7430 - val_loss: 0.5331 - val_mse: 0.1772 - val_precision: 0.7939 - val_recall: 0.6903\n",
      "Epoch 5/1000\n",
      "\u001b[1m38/38\u001b[0m \u001b[32m━━━━━━━━━━━━━━━━━━━━\u001b[0m\u001b[37m\u001b[0m \u001b[1m0s\u001b[0m 783us/step - accuracy: 0.8161 - loss: 0.4522 - mse: 0.1424 - precision: 0.8354 - recall: 0.7564 - val_accuracy: 0.7479 - val_loss: 0.5230 - val_mse: 0.1734 - val_precision: 0.7961 - val_recall: 0.6997\n",
      "Epoch 6/1000\n",
      "\u001b[1m38/38\u001b[0m \u001b[32m━━━━━━━━━━━━━━━━━━━━\u001b[0m\u001b[37m\u001b[0m \u001b[1m0s\u001b[0m 739us/step - accuracy: 0.8373 - loss: 0.4173 - mse: 0.1280 - precision: 0.8636 - recall: 0.7877 - val_accuracy: 0.7446 - val_loss: 0.5184 - val_mse: 0.1719 - val_precision: 0.7946 - val_recall: 0.6934\n",
      "Epoch 7/1000\n",
      "\u001b[1m38/38\u001b[0m \u001b[32m━━━━━━━━━━━━━━━━━━━━\u001b[0m\u001b[37m\u001b[0m \u001b[1m0s\u001b[0m 875us/step - accuracy: 0.8310 - loss: 0.4085 - mse: 0.1258 - precision: 0.8517 - recall: 0.7861 - val_accuracy: 0.7455 - val_loss: 0.5163 - val_mse: 0.1713 - val_precision: 0.7929 - val_recall: 0.6981\n",
      "Epoch 8/1000\n",
      "\u001b[1m38/38\u001b[0m \u001b[32m━━━━━━━━━━━━━━━━━━━━\u001b[0m\u001b[37m\u001b[0m \u001b[1m0s\u001b[0m 728us/step - accuracy: 0.8406 - loss: 0.4020 - mse: 0.1237 - precision: 0.8601 - recall: 0.8089 - val_accuracy: 0.7463 - val_loss: 0.5163 - val_mse: 0.1712 - val_precision: 0.7912 - val_recall: 0.7028\n",
      "Epoch 9/1000\n",
      "\u001b[1m38/38\u001b[0m \u001b[32m━━━━━━━━━━━━━━━━━━━━\u001b[0m\u001b[37m\u001b[0m \u001b[1m0s\u001b[0m 761us/step - accuracy: 0.8565 - loss: 0.3732 - mse: 0.1125 - precision: 0.8773 - recall: 0.8181 - val_accuracy: 0.7471 - val_loss: 0.5177 - val_mse: 0.1717 - val_precision: 0.7915 - val_recall: 0.7044\n",
      "Epoch 10/1000\n",
      "\u001b[1m38/38\u001b[0m \u001b[32m━━━━━━━━━━━━━━━━━━━━\u001b[0m\u001b[37m\u001b[0m \u001b[1m0s\u001b[0m 740us/step - accuracy: 0.8504 - loss: 0.3814 - mse: 0.1166 - precision: 0.8681 - recall: 0.8204 - val_accuracy: 0.7463 - val_loss: 0.5204 - val_mse: 0.1725 - val_precision: 0.7901 - val_recall: 0.7044\n",
      "Epoch 11/1000\n",
      "\u001b[1m38/38\u001b[0m \u001b[32m━━━━━━━━━━━━━━━━━━━━\u001b[0m\u001b[37m\u001b[0m \u001b[1m0s\u001b[0m 749us/step - accuracy: 0.8789 - loss: 0.3397 - mse: 0.1003 - precision: 0.8918 - recall: 0.8486 - val_accuracy: 0.7430 - val_loss: 0.5244 - val_mse: 0.1736 - val_precision: 0.7846 - val_recall: 0.7044\n",
      "Epoch 12/1000\n",
      "\u001b[1m38/38\u001b[0m \u001b[32m━━━━━━━━━━━━━━━━━━━━\u001b[0m\u001b[37m\u001b[0m \u001b[1m0s\u001b[0m 716us/step - accuracy: 0.8702 - loss: 0.3486 - mse: 0.1042 - precision: 0.8806 - recall: 0.8338 - val_accuracy: 0.7446 - val_loss: 0.5285 - val_mse: 0.1748 - val_precision: 0.7824 - val_recall: 0.7123\n",
      "Epoch 13/1000\n",
      "\u001b[1m38/38\u001b[0m \u001b[32m━━━━━━━━━━━━━━━━━━━━\u001b[0m\u001b[37m\u001b[0m \u001b[1m0s\u001b[0m 739us/step - accuracy: 0.8739 - loss: 0.3383 - mse: 0.1010 - precision: 0.9004 - recall: 0.8353 - val_accuracy: 0.7405 - val_loss: 0.5314 - val_mse: 0.1755 - val_precision: 0.7805 - val_recall: 0.7044\n",
      "Epoch 14/1000\n",
      "\u001b[1m38/38\u001b[0m \u001b[32m━━━━━━━━━━━━━━━━━━━━\u001b[0m\u001b[37m\u001b[0m \u001b[1m0s\u001b[0m 719us/step - accuracy: 0.8716 - loss: 0.3371 - mse: 0.1010 - precision: 0.8969 - recall: 0.8400 - val_accuracy: 0.7413 - val_loss: 0.5358 - val_mse: 0.1766 - val_precision: 0.7818 - val_recall: 0.7044\n",
      "Epoch 15/1000\n",
      "\u001b[1m38/38\u001b[0m \u001b[32m━━━━━━━━━━━━━━━━━━━━\u001b[0m\u001b[37m\u001b[0m \u001b[1m0s\u001b[0m 745us/step - accuracy: 0.8844 - loss: 0.3135 - mse: 0.0921 - precision: 0.8986 - recall: 0.8647 - val_accuracy: 0.7372 - val_loss: 0.5402 - val_mse: 0.1778 - val_precision: 0.7760 - val_recall: 0.7028\n",
      "Epoch 16/1000\n",
      "\u001b[1m38/38\u001b[0m \u001b[32m━━━━━━━━━━━━━━━━━━━━\u001b[0m\u001b[37m\u001b[0m \u001b[1m0s\u001b[0m 844us/step - accuracy: 0.8782 - loss: 0.3188 - mse: 0.0947 - precision: 0.8958 - recall: 0.8532 - val_accuracy: 0.7397 - val_loss: 0.5437 - val_mse: 0.1784 - val_precision: 0.7801 - val_recall: 0.7028\n",
      "Epoch 17/1000\n",
      "\u001b[1m38/38\u001b[0m \u001b[32m━━━━━━━━━━━━━━━━━━━━\u001b[0m\u001b[37m\u001b[0m \u001b[1m0s\u001b[0m 785us/step - accuracy: 0.8643 - loss: 0.3336 - mse: 0.1005 - precision: 0.8756 - recall: 0.8413 - val_accuracy: 0.7405 - val_loss: 0.5471 - val_mse: 0.1792 - val_precision: 0.7815 - val_recall: 0.7028\n",
      "Epoch 18/1000\n",
      "\u001b[1m38/38\u001b[0m \u001b[32m━━━━━━━━━━━━━━━━━━━━\u001b[0m\u001b[37m\u001b[0m \u001b[1m0s\u001b[0m 724us/step - accuracy: 0.8800 - loss: 0.3085 - mse: 0.0913 - precision: 0.8904 - recall: 0.8549 - val_accuracy: 0.7355 - val_loss: 0.5518 - val_mse: 0.1803 - val_precision: 0.7762 - val_recall: 0.6981\n",
      "Epoch 19/1000\n",
      "\u001b[1m38/38\u001b[0m \u001b[32m━━━━━━━━━━━━━━━━━━━━\u001b[0m\u001b[37m\u001b[0m \u001b[1m0s\u001b[0m 767us/step - accuracy: 0.8793 - loss: 0.3049 - mse: 0.0899 - precision: 0.8865 - recall: 0.8628 - val_accuracy: 0.7364 - val_loss: 0.5561 - val_mse: 0.1812 - val_precision: 0.7757 - val_recall: 0.7013\n",
      "Epoch 20/1000\n",
      "\u001b[1m38/38\u001b[0m \u001b[32m━━━━━━━━━━━━━━━━━━━━\u001b[0m\u001b[37m\u001b[0m \u001b[1m0s\u001b[0m 742us/step - accuracy: 0.8937 - loss: 0.2930 - mse: 0.0851 - precision: 0.8962 - recall: 0.8800 - val_accuracy: 0.7364 - val_loss: 0.5604 - val_mse: 0.1821 - val_precision: 0.7747 - val_recall: 0.7028\n",
      "Epoch 21/1000\n",
      "\u001b[1m38/38\u001b[0m \u001b[32m━━━━━━━━━━━━━━━━━━━━\u001b[0m\u001b[37m\u001b[0m \u001b[1m0s\u001b[0m 741us/step - accuracy: 0.8874 - loss: 0.3014 - mse: 0.0885 - precision: 0.9016 - recall: 0.8654 - val_accuracy: 0.7331 - val_loss: 0.5642 - val_mse: 0.1828 - val_precision: 0.7722 - val_recall: 0.6981\n",
      "Epoch 22/1000\n",
      "\u001b[1m38/38\u001b[0m \u001b[32m━━━━━━━━━━━━━━━━━━━━\u001b[0m\u001b[37m\u001b[0m \u001b[1m0s\u001b[0m 813us/step - accuracy: 0.8895 - loss: 0.2879 - mse: 0.0842 - precision: 0.8983 - recall: 0.8717 - val_accuracy: 0.7331 - val_loss: 0.5676 - val_mse: 0.1835 - val_precision: 0.7722 - val_recall: 0.6981\n",
      "Epoch 23/1000\n",
      "\u001b[1m38/38\u001b[0m \u001b[32m━━━━━━━━━━━━━━━━━━━━\u001b[0m\u001b[37m\u001b[0m \u001b[1m0s\u001b[0m 743us/step - accuracy: 0.9017 - loss: 0.2777 - mse: 0.0798 - precision: 0.9134 - recall: 0.8827 - val_accuracy: 0.7347 - val_loss: 0.5703 - val_mse: 0.1839 - val_precision: 0.7720 - val_recall: 0.7028\n",
      "Epoch 24/1000\n",
      "\u001b[1m38/38\u001b[0m \u001b[32m━━━━━━━━━━━━━━━━━━━━\u001b[0m\u001b[37m\u001b[0m \u001b[1m0s\u001b[0m 736us/step - accuracy: 0.8886 - loss: 0.2867 - mse: 0.0842 - precision: 0.9074 - recall: 0.8626 - val_accuracy: 0.7331 - val_loss: 0.5745 - val_mse: 0.1848 - val_precision: 0.7712 - val_recall: 0.6997\n",
      "Epoch 25/1000\n",
      "\u001b[1m38/38\u001b[0m \u001b[32m━━━━━━━━━━━━━━━━━━━━\u001b[0m\u001b[37m\u001b[0m \u001b[1m0s\u001b[0m 733us/step - accuracy: 0.8879 - loss: 0.2890 - mse: 0.0852 - precision: 0.9040 - recall: 0.8697 - val_accuracy: 0.7314 - val_loss: 0.5780 - val_mse: 0.1854 - val_precision: 0.7695 - val_recall: 0.6981\n",
      "Epoch 26/1000\n",
      "\u001b[1m38/38\u001b[0m \u001b[32m━━━━━━━━━━━━━━━━━━━━\u001b[0m\u001b[37m\u001b[0m \u001b[1m0s\u001b[0m 743us/step - accuracy: 0.8914 - loss: 0.2777 - mse: 0.0806 - precision: 0.9017 - recall: 0.8733 - val_accuracy: 0.7298 - val_loss: 0.5819 - val_mse: 0.1861 - val_precision: 0.7678 - val_recall: 0.6965\n",
      "Epoch 27/1000\n",
      "\u001b[1m38/38\u001b[0m \u001b[32m━━━━━━━━━━━━━━━━━━━━\u001b[0m\u001b[37m\u001b[0m \u001b[1m0s\u001b[0m 733us/step - accuracy: 0.8962 - loss: 0.2752 - mse: 0.0797 - precision: 0.9100 - recall: 0.8742 - val_accuracy: 0.7331 - val_loss: 0.5849 - val_mse: 0.1866 - val_precision: 0.7703 - val_recall: 0.7013\n",
      "Epoch 28/1000\n",
      "\u001b[1m38/38\u001b[0m \u001b[32m━━━━━━━━━━━━━━━━━━━━\u001b[0m\u001b[37m\u001b[0m \u001b[1m0s\u001b[0m 721us/step - accuracy: 0.9043 - loss: 0.2594 - mse: 0.0749 - precision: 0.9184 - recall: 0.8874 - val_accuracy: 0.7322 - val_loss: 0.5881 - val_mse: 0.1870 - val_precision: 0.7699 - val_recall: 0.6997\n",
      "\u001b[1m38/38\u001b[0m \u001b[32m━━━━━━━━━━━━━━━━━━━━\u001b[0m\u001b[37m\u001b[0m \u001b[1m0s\u001b[0m 321us/step - accuracy: 0.7390 - loss: 0.5348 - mse: 0.1777 - precision: 0.7998 - recall: 0.6894\n",
      "Epoch 1/1000\n",
      "\u001b[1m38/38\u001b[0m \u001b[32m━━━━━━━━━━━━━━━━━━━━\u001b[0m\u001b[37m\u001b[0m \u001b[1m1s\u001b[0m 4ms/step - accuracy: 0.5240 - loss: 0.7248 - mse: 0.2639 - precision: 0.5196 - recall: 0.9532 - val_accuracy: 0.5426 - val_loss: 0.6816 - val_mse: 0.2443 - val_precision: 0.5162 - val_recall: 0.9216\n"
     ]
    },
    {
     "name": "stdout",
     "output_type": "stream",
     "text": [
      "Epoch 2/1000\n",
      "\u001b[1m38/38\u001b[0m \u001b[32m━━━━━━━━━━━━━━━━━━━━\u001b[0m\u001b[37m\u001b[0m \u001b[1m0s\u001b[0m 807us/step - accuracy: 0.6124 - loss: 0.6368 - mse: 0.2238 - precision: 0.5748 - recall: 0.9008 - val_accuracy: 0.6609 - val_loss: 0.6165 - val_mse: 0.2138 - val_precision: 0.6097 - val_recall: 0.8382\n",
      "Epoch 3/1000\n",
      "\u001b[1m38/38\u001b[0m \u001b[32m━━━━━━━━━━━━━━━━━━━━\u001b[0m\u001b[37m\u001b[0m \u001b[1m0s\u001b[0m 755us/step - accuracy: 0.7237 - loss: 0.5687 - mse: 0.1917 - precision: 0.6850 - recall: 0.8527 - val_accuracy: 0.7138 - val_loss: 0.5758 - val_mse: 0.1950 - val_precision: 0.6754 - val_recall: 0.7905\n",
      "Epoch 4/1000\n",
      "\u001b[1m38/38\u001b[0m \u001b[32m━━━━━━━━━━━━━━━━━━━━\u001b[0m\u001b[37m\u001b[0m \u001b[1m0s\u001b[0m 764us/step - accuracy: 0.7712 - loss: 0.5256 - mse: 0.1720 - precision: 0.7639 - recall: 0.8198 - val_accuracy: 0.7378 - val_loss: 0.5488 - val_mse: 0.1832 - val_precision: 0.7103 - val_recall: 0.7768\n",
      "Epoch 5/1000\n",
      "\u001b[1m38/38\u001b[0m \u001b[32m━━━━━━━━━━━━━━━━━━━━\u001b[0m\u001b[37m\u001b[0m \u001b[1m0s\u001b[0m 732us/step - accuracy: 0.8012 - loss: 0.4993 - mse: 0.1607 - precision: 0.7965 - recall: 0.8022 - val_accuracy: 0.7552 - val_loss: 0.5293 - val_mse: 0.1750 - val_precision: 0.7381 - val_recall: 0.7683\n",
      "Epoch 6/1000\n",
      "\u001b[1m38/38\u001b[0m \u001b[32m━━━━━━━━━━━━━━━━━━━━\u001b[0m\u001b[37m\u001b[0m \u001b[1m0s\u001b[0m 716us/step - accuracy: 0.8214 - loss: 0.4596 - mse: 0.1439 - precision: 0.8235 - recall: 0.8222 - val_accuracy: 0.7618 - val_loss: 0.5157 - val_mse: 0.1696 - val_precision: 0.7488 - val_recall: 0.7666\n",
      "Epoch 7/1000\n",
      "\u001b[1m38/38\u001b[0m \u001b[32m━━━━━━━━━━━━━━━━━━━━\u001b[0m\u001b[37m\u001b[0m \u001b[1m0s\u001b[0m 718us/step - accuracy: 0.8208 - loss: 0.4448 - mse: 0.1387 - precision: 0.8337 - recall: 0.8188 - val_accuracy: 0.7742 - val_loss: 0.5053 - val_mse: 0.1656 - val_precision: 0.7634 - val_recall: 0.7751\n",
      "Epoch 8/1000\n",
      "\u001b[1m38/38\u001b[0m \u001b[32m━━━━━━━━━━━━━━━━━━━━\u001b[0m\u001b[37m\u001b[0m \u001b[1m0s\u001b[0m 735us/step - accuracy: 0.8283 - loss: 0.4251 - mse: 0.1310 - precision: 0.8369 - recall: 0.8332 - val_accuracy: 0.7717 - val_loss: 0.4978 - val_mse: 0.1628 - val_precision: 0.7631 - val_recall: 0.7683\n",
      "Epoch 9/1000\n",
      "\u001b[1m38/38\u001b[0m \u001b[32m━━━━━━━━━━━━━━━━━━━━\u001b[0m\u001b[37m\u001b[0m \u001b[1m0s\u001b[0m 730us/step - accuracy: 0.8191 - loss: 0.4267 - mse: 0.1330 - precision: 0.8324 - recall: 0.8115 - val_accuracy: 0.7742 - val_loss: 0.4924 - val_mse: 0.1608 - val_precision: 0.7670 - val_recall: 0.7683\n",
      "Epoch 10/1000\n",
      "\u001b[1m38/38\u001b[0m \u001b[32m━━━━━━━━━━━━━━━━━━━━\u001b[0m\u001b[37m\u001b[0m \u001b[1m0s\u001b[0m 795us/step - accuracy: 0.8386 - loss: 0.4064 - mse: 0.1246 - precision: 0.8564 - recall: 0.8284 - val_accuracy: 0.7725 - val_loss: 0.4897 - val_mse: 0.1599 - val_precision: 0.7653 - val_recall: 0.7666\n",
      "Epoch 11/1000\n",
      "\u001b[1m38/38\u001b[0m \u001b[32m━━━━━━━━━━━━━━━━━━━━\u001b[0m\u001b[37m\u001b[0m \u001b[1m0s\u001b[0m 770us/step - accuracy: 0.8367 - loss: 0.4036 - mse: 0.1240 - precision: 0.8477 - recall: 0.8287 - val_accuracy: 0.7758 - val_loss: 0.4879 - val_mse: 0.1592 - val_precision: 0.7705 - val_recall: 0.7666\n",
      "Epoch 12/1000\n",
      "\u001b[1m38/38\u001b[0m \u001b[32m━━━━━━━━━━━━━━━━━━━━\u001b[0m\u001b[37m\u001b[0m \u001b[1m0s\u001b[0m 771us/step - accuracy: 0.8567 - loss: 0.3708 - mse: 0.1116 - precision: 0.8835 - recall: 0.8322 - val_accuracy: 0.7792 - val_loss: 0.4863 - val_mse: 0.1586 - val_precision: 0.7740 - val_recall: 0.7700\n",
      "Epoch 13/1000\n",
      "\u001b[1m38/38\u001b[0m \u001b[32m━━━━━━━━━━━━━━━━━━━━\u001b[0m\u001b[37m\u001b[0m \u001b[1m0s\u001b[0m 724us/step - accuracy: 0.8458 - loss: 0.3923 - mse: 0.1207 - precision: 0.8591 - recall: 0.8378 - val_accuracy: 0.7816 - val_loss: 0.4862 - val_mse: 0.1584 - val_precision: 0.7780 - val_recall: 0.7700\n",
      "Epoch 14/1000\n",
      "\u001b[1m38/38\u001b[0m \u001b[32m━━━━━━━━━━━━━━━━━━━━\u001b[0m\u001b[37m\u001b[0m \u001b[1m0s\u001b[0m 757us/step - accuracy: 0.8447 - loss: 0.3829 - mse: 0.1176 - precision: 0.8586 - recall: 0.8346 - val_accuracy: 0.7825 - val_loss: 0.4866 - val_mse: 0.1585 - val_precision: 0.7784 - val_recall: 0.7717\n",
      "Epoch 15/1000\n",
      "\u001b[1m38/38\u001b[0m \u001b[32m━━━━━━━━━━━━━━━━━━━━\u001b[0m\u001b[37m\u001b[0m \u001b[1m0s\u001b[0m 780us/step - accuracy: 0.8557 - loss: 0.3584 - mse: 0.1078 - precision: 0.8654 - recall: 0.8473 - val_accuracy: 0.7800 - val_loss: 0.4876 - val_mse: 0.1586 - val_precision: 0.7744 - val_recall: 0.7717\n",
      "Epoch 16/1000\n",
      "\u001b[1m38/38\u001b[0m \u001b[32m━━━━━━━━━━━━━━━━━━━━\u001b[0m\u001b[37m\u001b[0m \u001b[1m0s\u001b[0m 813us/step - accuracy: 0.8595 - loss: 0.3566 - mse: 0.1077 - precision: 0.8695 - recall: 0.8509 - val_accuracy: 0.7849 - val_loss: 0.4889 - val_mse: 0.1590 - val_precision: 0.7795 - val_recall: 0.7768\n",
      "Epoch 17/1000\n",
      "\u001b[1m38/38\u001b[0m \u001b[32m━━━━━━━━━━━━━━━━━━━━\u001b[0m\u001b[37m\u001b[0m \u001b[1m0s\u001b[0m 782us/step - accuracy: 0.8700 - loss: 0.3420 - mse: 0.1023 - precision: 0.8835 - recall: 0.8630 - val_accuracy: 0.7833 - val_loss: 0.4896 - val_mse: 0.1590 - val_precision: 0.7778 - val_recall: 0.7751\n",
      "Epoch 18/1000\n",
      "\u001b[1m38/38\u001b[0m \u001b[32m━━━━━━━━━━━━━━━━━━━━\u001b[0m\u001b[37m\u001b[0m \u001b[1m0s\u001b[0m 776us/step - accuracy: 0.8600 - loss: 0.3443 - mse: 0.1039 - precision: 0.8710 - recall: 0.8497 - val_accuracy: 0.7800 - val_loss: 0.4913 - val_mse: 0.1595 - val_precision: 0.7744 - val_recall: 0.7717\n",
      "Epoch 19/1000\n",
      "\u001b[1m38/38\u001b[0m \u001b[32m━━━━━━━━━━━━━━━━━━━━\u001b[0m\u001b[37m\u001b[0m \u001b[1m0s\u001b[0m 810us/step - accuracy: 0.8597 - loss: 0.3481 - mse: 0.1052 - precision: 0.8635 - recall: 0.8594 - val_accuracy: 0.7825 - val_loss: 0.4929 - val_mse: 0.1597 - val_precision: 0.7774 - val_recall: 0.7734\n",
      "Epoch 20/1000\n",
      "\u001b[1m38/38\u001b[0m \u001b[32m━━━━━━━━━━━━━━━━━━━━\u001b[0m\u001b[37m\u001b[0m \u001b[1m0s\u001b[0m 741us/step - accuracy: 0.8585 - loss: 0.3449 - mse: 0.1046 - precision: 0.8628 - recall: 0.8590 - val_accuracy: 0.7808 - val_loss: 0.4951 - val_mse: 0.1602 - val_precision: 0.7776 - val_recall: 0.7683\n",
      "Epoch 21/1000\n",
      "\u001b[1m38/38\u001b[0m \u001b[32m━━━━━━━━━━━━━━━━━━━━\u001b[0m\u001b[37m\u001b[0m \u001b[1m0s\u001b[0m 753us/step - accuracy: 0.8711 - loss: 0.3216 - mse: 0.0956 - precision: 0.8862 - recall: 0.8540 - val_accuracy: 0.7841 - val_loss: 0.4960 - val_mse: 0.1602 - val_precision: 0.7830 - val_recall: 0.7683\n",
      "Epoch 22/1000\n",
      "\u001b[1m38/38\u001b[0m \u001b[32m━━━━━━━━━━━━━━━━━━━━\u001b[0m\u001b[37m\u001b[0m \u001b[1m0s\u001b[0m 832us/step - accuracy: 0.8728 - loss: 0.3218 - mse: 0.0963 - precision: 0.8916 - recall: 0.8568 - val_accuracy: 0.7841 - val_loss: 0.4981 - val_mse: 0.1606 - val_precision: 0.7820 - val_recall: 0.7700\n",
      "Epoch 23/1000\n",
      "\u001b[1m38/38\u001b[0m \u001b[32m━━━━━━━━━━━━━━━━━━━━\u001b[0m\u001b[37m\u001b[0m \u001b[1m0s\u001b[0m 731us/step - accuracy: 0.8913 - loss: 0.3008 - mse: 0.0879 - precision: 0.9031 - recall: 0.8865 - val_accuracy: 0.7841 - val_loss: 0.5003 - val_mse: 0.1610 - val_precision: 0.7801 - val_recall: 0.7734\n",
      "Epoch 24/1000\n",
      "\u001b[1m38/38\u001b[0m \u001b[32m━━━━━━━━━━━━━━━━━━━━\u001b[0m\u001b[37m\u001b[0m \u001b[1m0s\u001b[0m 803us/step - accuracy: 0.8803 - loss: 0.3131 - mse: 0.0930 - precision: 0.8913 - recall: 0.8796 - val_accuracy: 0.7808 - val_loss: 0.5022 - val_mse: 0.1614 - val_precision: 0.7747 - val_recall: 0.7734\n",
      "Epoch 25/1000\n",
      "\u001b[1m38/38\u001b[0m \u001b[32m━━━━━━━━━━━━━━━━━━━━\u001b[0m\u001b[37m\u001b[0m \u001b[1m0s\u001b[0m 714us/step - accuracy: 0.8884 - loss: 0.3090 - mse: 0.0903 - precision: 0.8964 - recall: 0.8815 - val_accuracy: 0.7800 - val_loss: 0.5044 - val_mse: 0.1618 - val_precision: 0.7734 - val_recall: 0.7734\n",
      "Epoch 26/1000\n",
      "\u001b[1m38/38\u001b[0m \u001b[32m━━━━━━━━━━━━━━━━━━━━\u001b[0m\u001b[37m\u001b[0m \u001b[1m0s\u001b[0m 820us/step - accuracy: 0.8881 - loss: 0.2994 - mse: 0.0879 - precision: 0.9091 - recall: 0.8694 - val_accuracy: 0.7816 - val_loss: 0.5062 - val_mse: 0.1620 - val_precision: 0.7761 - val_recall: 0.7734\n",
      "Epoch 27/1000\n",
      "\u001b[1m38/38\u001b[0m \u001b[32m━━━━━━━━━━━━━━━━━━━━\u001b[0m\u001b[37m\u001b[0m \u001b[1m0s\u001b[0m 740us/step - accuracy: 0.8903 - loss: 0.2973 - mse: 0.0871 - precision: 0.8950 - recall: 0.8886 - val_accuracy: 0.7808 - val_loss: 0.5085 - val_mse: 0.1626 - val_precision: 0.7747 - val_recall: 0.7734\n",
      "Epoch 28/1000\n",
      "\u001b[1m38/38\u001b[0m \u001b[32m━━━━━━━━━━━━━━━━━━━━\u001b[0m\u001b[37m\u001b[0m \u001b[1m0s\u001b[0m 755us/step - accuracy: 0.8842 - loss: 0.3097 - mse: 0.0919 - precision: 0.8867 - recall: 0.8827 - val_accuracy: 0.7808 - val_loss: 0.5107 - val_mse: 0.1630 - val_precision: 0.7757 - val_recall: 0.7717\n",
      "Epoch 29/1000\n",
      "\u001b[1m38/38\u001b[0m \u001b[32m━━━━━━━━━━━━━━━━━━━━\u001b[0m\u001b[37m\u001b[0m \u001b[1m0s\u001b[0m 788us/step - accuracy: 0.9004 - loss: 0.2792 - mse: 0.0810 - precision: 0.9008 - recall: 0.9008 - val_accuracy: 0.7767 - val_loss: 0.5124 - val_mse: 0.1631 - val_precision: 0.7709 - val_recall: 0.7683\n",
      "Epoch 30/1000\n",
      "\u001b[1m38/38\u001b[0m \u001b[32m━━━━━━━━━━━━━━━━━━━━\u001b[0m\u001b[37m\u001b[0m \u001b[1m0s\u001b[0m 798us/step - accuracy: 0.9007 - loss: 0.2732 - mse: 0.0796 - precision: 0.9096 - recall: 0.8963 - val_accuracy: 0.7783 - val_loss: 0.5140 - val_mse: 0.1633 - val_precision: 0.7717 - val_recall: 0.7717\n",
      "Epoch 31/1000\n"
     ]
    },
    {
     "name": "stdout",
     "output_type": "stream",
     "text": [
      "\u001b[1m38/38\u001b[0m \u001b[32m━━━━━━━━━━━━━━━━━━━━\u001b[0m\u001b[37m\u001b[0m \u001b[1m0s\u001b[0m 795us/step - accuracy: 0.9008 - loss: 0.2700 - mse: 0.0783 - precision: 0.9087 - recall: 0.8968 - val_accuracy: 0.7775 - val_loss: 0.5173 - val_mse: 0.1640 - val_precision: 0.7704 - val_recall: 0.7717\n",
      "Epoch 32/1000\n",
      "\u001b[1m38/38\u001b[0m \u001b[32m━━━━━━━━━━━━━━━━━━━━\u001b[0m\u001b[37m\u001b[0m \u001b[1m0s\u001b[0m 742us/step - accuracy: 0.9007 - loss: 0.2771 - mse: 0.0809 - precision: 0.9060 - recall: 0.9006 - val_accuracy: 0.7775 - val_loss: 0.5184 - val_mse: 0.1641 - val_precision: 0.7695 - val_recall: 0.7734\n",
      "Epoch 33/1000\n",
      "\u001b[1m38/38\u001b[0m \u001b[32m━━━━━━━━━━━━━━━━━━━━\u001b[0m\u001b[37m\u001b[0m \u001b[1m0s\u001b[0m 733us/step - accuracy: 0.9120 - loss: 0.2618 - mse: 0.0743 - precision: 0.9195 - recall: 0.9067 - val_accuracy: 0.7783 - val_loss: 0.5201 - val_mse: 0.1643 - val_precision: 0.7708 - val_recall: 0.7734\n",
      "\u001b[1m38/38\u001b[0m \u001b[32m━━━━━━━━━━━━━━━━━━━━\u001b[0m\u001b[37m\u001b[0m \u001b[1m0s\u001b[0m 277us/step - accuracy: 0.7887 - loss: 0.4703 - mse: 0.1520 - precision: 0.7993 - recall: 0.7837\n",
      "Epoch 1/1000\n",
      "\u001b[1m38/38\u001b[0m \u001b[32m━━━━━━━━━━━━━━━━━━━━\u001b[0m\u001b[37m\u001b[0m \u001b[1m1s\u001b[0m 4ms/step - accuracy: 0.5433 - loss: 0.6919 - mse: 0.2493 - precision: 0.5901 - recall: 0.3526 - val_accuracy: 0.6543 - val_loss: 0.6387 - val_mse: 0.2234 - val_precision: 0.6751 - val_recall: 0.5779\n",
      "Epoch 2/1000\n",
      "\u001b[1m38/38\u001b[0m \u001b[32m━━━━━━━━━━━━━━━━━━━━\u001b[0m\u001b[37m\u001b[0m \u001b[1m0s\u001b[0m 775us/step - accuracy: 0.6958 - loss: 0.6136 - mse: 0.2116 - precision: 0.7425 - recall: 0.6147 - val_accuracy: 0.7237 - val_loss: 0.5902 - val_mse: 0.2006 - val_precision: 0.7361 - val_recall: 0.6868\n",
      "Epoch 3/1000\n",
      "\u001b[1m38/38\u001b[0m \u001b[32m━━━━━━━━━━━━━━━━━━━━\u001b[0m\u001b[37m\u001b[0m \u001b[1m0s\u001b[0m 737us/step - accuracy: 0.7568 - loss: 0.5553 - mse: 0.1845 - precision: 0.7791 - recall: 0.7023 - val_accuracy: 0.7502 - val_loss: 0.5555 - val_mse: 0.1851 - val_precision: 0.7601 - val_recall: 0.7219\n",
      "Epoch 4/1000\n",
      "\u001b[1m38/38\u001b[0m \u001b[32m━━━━━━━━━━━━━━━━━━━━\u001b[0m\u001b[37m\u001b[0m \u001b[1m0s\u001b[0m 714us/step - accuracy: 0.7847 - loss: 0.5131 - mse: 0.1662 - precision: 0.8064 - recall: 0.7535 - val_accuracy: 0.7643 - val_loss: 0.5294 - val_mse: 0.1741 - val_precision: 0.7727 - val_recall: 0.7404\n",
      "Epoch 5/1000\n",
      "\u001b[1m38/38\u001b[0m \u001b[32m━━━━━━━━━━━━━━━━━━━━\u001b[0m\u001b[37m\u001b[0m \u001b[1m0s\u001b[0m 749us/step - accuracy: 0.8153 - loss: 0.4792 - mse: 0.1518 - precision: 0.8472 - recall: 0.7730 - val_accuracy: 0.7692 - val_loss: 0.5111 - val_mse: 0.1669 - val_precision: 0.7751 - val_recall: 0.7504\n",
      "Epoch 6/1000\n",
      "\u001b[1m38/38\u001b[0m \u001b[32m━━━━━━━━━━━━━━━━━━━━\u001b[0m\u001b[37m\u001b[0m \u001b[1m0s\u001b[0m 743us/step - accuracy: 0.8072 - loss: 0.4645 - mse: 0.1468 - precision: 0.8283 - recall: 0.7818 - val_accuracy: 0.7709 - val_loss: 0.4992 - val_mse: 0.1624 - val_precision: 0.7759 - val_recall: 0.7538\n",
      "Epoch 7/1000\n",
      "\u001b[1m38/38\u001b[0m \u001b[32m━━━━━━━━━━━━━━━━━━━━\u001b[0m\u001b[37m\u001b[0m \u001b[1m0s\u001b[0m 711us/step - accuracy: 0.8230 - loss: 0.4335 - mse: 0.1348 - precision: 0.8530 - recall: 0.7891 - val_accuracy: 0.7717 - val_loss: 0.4917 - val_mse: 0.1599 - val_precision: 0.7725 - val_recall: 0.7621\n",
      "Epoch 8/1000\n",
      "\u001b[1m38/38\u001b[0m \u001b[32m━━━━━━━━━━━━━━━━━━━━\u001b[0m\u001b[37m\u001b[0m \u001b[1m0s\u001b[0m 685us/step - accuracy: 0.8253 - loss: 0.4225 - mse: 0.1312 - precision: 0.8442 - recall: 0.7892 - val_accuracy: 0.7725 - val_loss: 0.4880 - val_mse: 0.1590 - val_precision: 0.7674 - val_recall: 0.7739\n",
      "Epoch 9/1000\n",
      "\u001b[1m38/38\u001b[0m \u001b[32m━━━━━━━━━━━━━━━━━━━━\u001b[0m\u001b[37m\u001b[0m \u001b[1m0s\u001b[0m 701us/step - accuracy: 0.8289 - loss: 0.4050 - mse: 0.1247 - precision: 0.8517 - recall: 0.8062 - val_accuracy: 0.7709 - val_loss: 0.4852 - val_mse: 0.1582 - val_precision: 0.7676 - val_recall: 0.7688\n",
      "Epoch 10/1000\n",
      "\u001b[1m38/38\u001b[0m \u001b[32m━━━━━━━━━━━━━━━━━━━━\u001b[0m\u001b[37m\u001b[0m \u001b[1m0s\u001b[0m 728us/step - accuracy: 0.8226 - loss: 0.4039 - mse: 0.1246 - precision: 0.8510 - recall: 0.7967 - val_accuracy: 0.7742 - val_loss: 0.4849 - val_mse: 0.1584 - val_precision: 0.7673 - val_recall: 0.7789\n",
      "Epoch 11/1000\n",
      "\u001b[1m38/38\u001b[0m \u001b[32m━━━━━━━━━━━━━━━━━━━━\u001b[0m\u001b[37m\u001b[0m \u001b[1m0s\u001b[0m 699us/step - accuracy: 0.8457 - loss: 0.3785 - mse: 0.1152 - precision: 0.8629 - recall: 0.8254 - val_accuracy: 0.7676 - val_loss: 0.4854 - val_mse: 0.1588 - val_precision: 0.7625 - val_recall: 0.7688\n",
      "Epoch 12/1000\n",
      "\u001b[1m38/38\u001b[0m \u001b[32m━━━━━━━━━━━━━━━━━━━━\u001b[0m\u001b[37m\u001b[0m \u001b[1m0s\u001b[0m 735us/step - accuracy: 0.8430 - loss: 0.3707 - mse: 0.1130 - precision: 0.8580 - recall: 0.8274 - val_accuracy: 0.7659 - val_loss: 0.4873 - val_mse: 0.1597 - val_precision: 0.7574 - val_recall: 0.7739\n",
      "Epoch 13/1000\n",
      "\u001b[1m38/38\u001b[0m \u001b[32m━━━━━━━━━━━━━━━━━━━━\u001b[0m\u001b[37m\u001b[0m \u001b[1m0s\u001b[0m 718us/step - accuracy: 0.8548 - loss: 0.3646 - mse: 0.1106 - precision: 0.8883 - recall: 0.8201 - val_accuracy: 0.7667 - val_loss: 0.4903 - val_mse: 0.1608 - val_precision: 0.7586 - val_recall: 0.7739\n",
      "Epoch 14/1000\n",
      "\u001b[1m38/38\u001b[0m \u001b[32m━━━━━━━━━━━━━━━━━━━━\u001b[0m\u001b[37m\u001b[0m \u001b[1m0s\u001b[0m 700us/step - accuracy: 0.8489 - loss: 0.3633 - mse: 0.1108 - precision: 0.8673 - recall: 0.8308 - val_accuracy: 0.7626 - val_loss: 0.4927 - val_mse: 0.1617 - val_precision: 0.7541 - val_recall: 0.7705\n",
      "Epoch 15/1000\n",
      "\u001b[1m38/38\u001b[0m \u001b[32m━━━━━━━━━━━━━━━━━━━━\u001b[0m\u001b[37m\u001b[0m \u001b[1m0s\u001b[0m 723us/step - accuracy: 0.8569 - loss: 0.3539 - mse: 0.1074 - precision: 0.8927 - recall: 0.8139 - val_accuracy: 0.7577 - val_loss: 0.4961 - val_mse: 0.1628 - val_precision: 0.7476 - val_recall: 0.7688\n",
      "Epoch 16/1000\n",
      "\u001b[1m38/38\u001b[0m \u001b[32m━━━━━━━━━━━━━━━━━━━━\u001b[0m\u001b[37m\u001b[0m \u001b[1m0s\u001b[0m 753us/step - accuracy: 0.8694 - loss: 0.3450 - mse: 0.1040 - precision: 0.8906 - recall: 0.8429 - val_accuracy: 0.7593 - val_loss: 0.4990 - val_mse: 0.1637 - val_precision: 0.7516 - val_recall: 0.7655\n",
      "Epoch 17/1000\n",
      "\u001b[1m38/38\u001b[0m \u001b[32m━━━━━━━━━━━━━━━━━━━━\u001b[0m\u001b[37m\u001b[0m \u001b[1m0s\u001b[0m 749us/step - accuracy: 0.8692 - loss: 0.3319 - mse: 0.0993 - precision: 0.8809 - recall: 0.8594 - val_accuracy: 0.7568 - val_loss: 0.5030 - val_mse: 0.1652 - val_precision: 0.7496 - val_recall: 0.7621\n",
      "Epoch 18/1000\n",
      "\u001b[1m38/38\u001b[0m \u001b[32m━━━━━━━━━━━━━━━━━━━━\u001b[0m\u001b[37m\u001b[0m \u001b[1m0s\u001b[0m 768us/step - accuracy: 0.8683 - loss: 0.3312 - mse: 0.0998 - precision: 0.8880 - recall: 0.8492 - val_accuracy: 0.7560 - val_loss: 0.5066 - val_mse: 0.1662 - val_precision: 0.7500 - val_recall: 0.7588\n",
      "Epoch 19/1000\n",
      "\u001b[1m38/38\u001b[0m \u001b[32m━━━━━━━━━━━━━━━━━━━━\u001b[0m\u001b[37m\u001b[0m \u001b[1m0s\u001b[0m 717us/step - accuracy: 0.8737 - loss: 0.3245 - mse: 0.0972 - precision: 0.8986 - recall: 0.8408 - val_accuracy: 0.7552 - val_loss: 0.5099 - val_mse: 0.1672 - val_precision: 0.7479 - val_recall: 0.7605\n",
      "Epoch 20/1000\n",
      "\u001b[1m38/38\u001b[0m \u001b[32m━━━━━━━━━━━━━━━━━━━━\u001b[0m\u001b[37m\u001b[0m \u001b[1m0s\u001b[0m 766us/step - accuracy: 0.8777 - loss: 0.3155 - mse: 0.0942 - precision: 0.8894 - recall: 0.8621 - val_accuracy: 0.7527 - val_loss: 0.5140 - val_mse: 0.1684 - val_precision: 0.7467 - val_recall: 0.7554\n",
      "Epoch 21/1000\n",
      "\u001b[1m38/38\u001b[0m \u001b[32m━━━━━━━━━━━━━━━━━━━━\u001b[0m\u001b[37m\u001b[0m \u001b[1m0s\u001b[0m 723us/step - accuracy: 0.8665 - loss: 0.3273 - mse: 0.0990 - precision: 0.8823 - recall: 0.8571 - val_accuracy: 0.7535 - val_loss: 0.5161 - val_mse: 0.1689 - val_precision: 0.7455 - val_recall: 0.7605\n",
      "Epoch 22/1000\n",
      "\u001b[1m38/38\u001b[0m \u001b[32m━━━━━━━━━━━━━━━━━━━━\u001b[0m\u001b[37m\u001b[0m \u001b[1m0s\u001b[0m 780us/step - accuracy: 0.8847 - loss: 0.3096 - mse: 0.0917 - precision: 0.8997 - recall: 0.8678 - val_accuracy: 0.7552 - val_loss: 0.5207 - val_mse: 0.1702 - val_precision: 0.7479 - val_recall: 0.7605\n",
      "Epoch 23/1000\n",
      "\u001b[1m38/38\u001b[0m \u001b[32m━━━━━━━━━━━━━━━━━━━━\u001b[0m\u001b[37m\u001b[0m \u001b[1m0s\u001b[0m 714us/step - accuracy: 0.8767 - loss: 0.3213 - mse: 0.0959 - precision: 0.8874 - recall: 0.8700 - val_accuracy: 0.7552 - val_loss: 0.5237 - val_mse: 0.1709 - val_precision: 0.7471 - val_recall: 0.7621\n",
      "Epoch 24/1000\n",
      "\u001b[1m38/38\u001b[0m \u001b[32m━━━━━━━━━━━━━━━━━━━━\u001b[0m\u001b[37m\u001b[0m \u001b[1m0s\u001b[0m 743us/step - accuracy: 0.8828 - loss: 0.3045 - mse: 0.0902 - precision: 0.9001 - recall: 0.8620 - val_accuracy: 0.7543 - val_loss: 0.5267 - val_mse: 0.1717 - val_precision: 0.7451 - val_recall: 0.7638\n",
      "Epoch 25/1000\n",
      "\u001b[1m38/38\u001b[0m \u001b[32m━━━━━━━━━━━━━━━━━━━━\u001b[0m\u001b[37m\u001b[0m \u001b[1m0s\u001b[0m 724us/step - accuracy: 0.8806 - loss: 0.3008 - mse: 0.0887 - precision: 0.8820 - recall: 0.8808 - val_accuracy: 0.7552 - val_loss: 0.5300 - val_mse: 0.1724 - val_precision: 0.7479 - val_recall: 0.7605\n",
      "Epoch 26/1000\n",
      "\u001b[1m38/38\u001b[0m \u001b[32m━━━━━━━━━━━━━━━━━━━━\u001b[0m\u001b[37m\u001b[0m \u001b[1m0s\u001b[0m 701us/step - accuracy: 0.8918 - loss: 0.2907 - mse: 0.0852 - precision: 0.9093 - recall: 0.8771 - val_accuracy: 0.7543 - val_loss: 0.5328 - val_mse: 0.1731 - val_precision: 0.7443 - val_recall: 0.7655\n"
     ]
    },
    {
     "name": "stdout",
     "output_type": "stream",
     "text": [
      "Epoch 27/1000\n",
      "\u001b[1m38/38\u001b[0m \u001b[32m━━━━━━━━━━━━━━━━━━━━\u001b[0m\u001b[37m\u001b[0m \u001b[1m0s\u001b[0m 743us/step - accuracy: 0.8854 - loss: 0.2844 - mse: 0.0832 - precision: 0.9005 - recall: 0.8735 - val_accuracy: 0.7527 - val_loss: 0.5372 - val_mse: 0.1741 - val_precision: 0.7443 - val_recall: 0.7605\n",
      "Epoch 28/1000\n",
      "\u001b[1m38/38\u001b[0m \u001b[32m━━━━━━━━━━━━━━━━━━━━\u001b[0m\u001b[37m\u001b[0m \u001b[1m0s\u001b[0m 716us/step - accuracy: 0.8822 - loss: 0.2934 - mse: 0.0868 - precision: 0.8969 - recall: 0.8645 - val_accuracy: 0.7552 - val_loss: 0.5399 - val_mse: 0.1747 - val_precision: 0.7463 - val_recall: 0.7638\n",
      "Epoch 29/1000\n",
      "\u001b[1m38/38\u001b[0m \u001b[32m━━━━━━━━━━━━━━━━━━━━\u001b[0m\u001b[37m\u001b[0m \u001b[1m0s\u001b[0m 736us/step - accuracy: 0.8898 - loss: 0.2837 - mse: 0.0832 - precision: 0.8972 - recall: 0.8823 - val_accuracy: 0.7502 - val_loss: 0.5439 - val_mse: 0.1758 - val_precision: 0.7398 - val_recall: 0.7621\n",
      "Epoch 30/1000\n",
      "\u001b[1m38/38\u001b[0m \u001b[32m━━━━━━━━━━━━━━━━━━━━\u001b[0m\u001b[37m\u001b[0m \u001b[1m0s\u001b[0m 688us/step - accuracy: 0.8868 - loss: 0.2859 - mse: 0.0843 - precision: 0.8904 - recall: 0.8865 - val_accuracy: 0.7502 - val_loss: 0.5471 - val_mse: 0.1764 - val_precision: 0.7398 - val_recall: 0.7621\n",
      "\u001b[1m38/38\u001b[0m \u001b[32m━━━━━━━━━━━━━━━━━━━━\u001b[0m\u001b[37m\u001b[0m \u001b[1m0s\u001b[0m 272us/step - accuracy: 0.7678 - loss: 0.4810 - mse: 0.1575 - precision: 0.7750 - recall: 0.7505\n",
      "Mean Validation Accuracy: 0.7673707405726115\n",
      "Mean Validation recall: 0.7505805691083273\n",
      "Mean Validation precision: 0.7788153886795044\n",
      "accuracy: [0.7462809681892395, 0.7816377282142639, 0.774193525314331]\n",
      "recall: [0.7028301954269409, 0.7700170278549194, 0.7788944840431213]\n",
      "precision: [0.7911504507064819, 0.7779690027236938, 0.7673267126083374]\n"
     ]
    }
   ],
   "source": [
    "import numpy as np\n",
    "from sklearn.model_selection import KFold\n",
    "from tensorflow.keras.models import Sequential\n",
    "from tensorflow.keras.layers import Dense\n",
    "from tensorflow.keras.callbacks import EarlyStopping\n",
    "\n",
    "# Definisci la classe della rete neurale\n",
    "class NeuralNetwork:\n",
    "    def __init__(self):\n",
    "        self.model = self.build_model()\n",
    "\n",
    "    def build_model(self):\n",
    "        model = Sequential([\n",
    "            Dense(units=10, activation='sigmoid', input_shape=(K,)),\n",
    "            Dense(units=1, activation='sigmoid')\n",
    "        ])\n",
    "        model.compile(optimizer='adam', loss='binary_crossentropy',  metrics=['accuracy', 'mse', 'recall', 'precision'])\n",
    "        return model\n",
    "\n",
    "# Definisci il numero di fold per la cross-validation\n",
    "n_splits = 3\n",
    "kf = KFold(n_splits=n_splits, shuffle=True, random_state=42)\n",
    "\n",
    "# Inizializza una lista per salvare gli score di validazione per ogni fold\n",
    "val_accuracy_cv = []\n",
    "val_recall_cv = []\n",
    "val_precision_cv = []\n",
    "\n",
    "# Itera attraverso i fold della cross-validation\n",
    "for train_index, val_index in kf.split(X):\n",
    "    X_train_fold, X_val_fold = X[train_index], X[val_index]\n",
    "    y_train_fold, y_val_fold = y[train_index], y[val_index]\n",
    "    \n",
    "    # Inizializza e addestra la rete neurale\n",
    "    nn = NeuralNetwork()\n",
    "    history = nn.model.fit(\n",
    "        x=X_train_fold, \n",
    "        y=y_train_fold,\n",
    "        batch_size=64,\n",
    "        epochs=1000,\n",
    "        verbose=1,\n",
    "        validation_data=(X_val_fold, y_val_fold),\n",
    "        callbacks=[EarlyStopping(restore_best_weights=True, patience=20)]\n",
    "    )\n",
    "    \n",
    "    # Valuta la rete neurale sul fold di validazione\n",
    "    val_loss, val_accuracy, val_mse, val_recall, val_precision = nn.model.evaluate(X_val_fold, y_val_fold)\n",
    "  \n",
    "    \n",
    "\n",
    "    \n",
    "    val_accuracy_cv.append(val_accuracy)\n",
    "    val_recall_cv.append(val_recall)\n",
    "    val_precision_cv.append(val_precision)\n",
    "\n",
    "# Calcola e stampa l'accuracy media dei fold di validazione\n",
    "mean_val_accuracy = np.mean(val_accuracy_cv)\n",
    "mean_val_recall = np.mean(val_recall_cv)\n",
    "mean_val_precision = np.mean(val_precision_cv)\n",
    "print(\"Mean Validation Accuracy:\", mean_val_accuracy)\n",
    "print(\"Mean Validation recall:\", mean_val_recall)\n",
    "print(\"Mean Validation precision:\", mean_val_precision)\n",
    "\n",
    "print(\"accuracy:\", val_accuracy_cv)\n",
    "print(\"recall:\", val_recall_cv)\n",
    "print(\"precision:\", val_precision_cv)"
   ]
  },
  {
   "cell_type": "code",
   "execution_count": 79,
   "metadata": {},
   "outputs": [
    {
     "data": {
      "text/plain": [
       "[0.7528925538063049, 0.7775020599365234, 0.7659222483634949]"
      ]
     },
     "execution_count": 79,
     "metadata": {},
     "output_type": "execute_result"
    }
   ],
   "source": [
    "val_accuracy_cv"
   ]
  },
  {
   "cell_type": "code",
   "execution_count": 13,
   "metadata": {
    "id": "WRA6m63cBsnQ"
   },
   "outputs": [],
   "source": [
    "from tensorflow.keras import regularizers\n",
    "\n",
    "class neural_network:\n",
    "    def __init__(self):\n",
    "        input = tensorflow.keras.Input(shape=(K,))\n",
    "\n",
    "        dense = tensorflow.keras.layers.Dense(units=10, activation='sigmoid')(input) # it shows that a linear activation is sufficiet to get the same accuracy of the sigmoid (so it's like a matrix multiplication with a non-linearity at the end...)\n",
    "        #batch = tensorflow.keras.layers.BatchNormalization()(dense)\n",
    "        #activation = tensorflow.keras.activations.sigmoid(batch)\n",
    "        #drop = tensorflow.keras.layers.Dropout(.1)(activation)\n",
    "\n",
    "        output = tensorflow.keras.layers.Dense(1, activation='sigmoid')(dense)\n",
    "\n",
    "        model = tensorflow.keras.models.Model(inputs=input, outputs=output)\n",
    "        model.compile(optimizer=tensorflow.keras.optimizers.Adam(learning_rate=0.0001), loss='binary_crossentropy', metrics=['accuracy', 'mse', 'recall'])\n",
    "        self.model = model"
   ]
  },
  {
   "cell_type": "code",
   "execution_count": 14,
   "metadata": {
    "id": "GyOV0zbtBu6a"
   },
   "outputs": [
    {
     "name": "stderr",
     "output_type": "stream",
     "text": [
      "2024-04-23 22:27:35.684753: I external/local_xla/xla/stream_executor/cuda/cuda_executor.cc:998] successful NUMA node read from SysFS had negative value (-1), but there must be at least one NUMA node, so returning NUMA node zero. See more at https://github.com/torvalds/linux/blob/v6.0/Documentation/ABI/testing/sysfs-bus-pci#L344-L355\n",
      "2024-04-23 22:27:35.685138: W tensorflow/core/common_runtime/gpu/gpu_device.cc:2251] Cannot dlopen some GPU libraries. Please make sure the missing libraries mentioned above are installed properly if you would like to use GPU. Follow the guide at https://www.tensorflow.org/install/gpu for how to download and setup the required libraries for your platform.\n",
      "Skipping registering GPU devices...\n"
     ]
    }
   ],
   "source": [
    "nn = neural_network()"
   ]
  },
  {
   "cell_type": "code",
   "execution_count": 15,
   "metadata": {
    "id": "z8HiUAOvBwuw"
   },
   "outputs": [
    {
     "name": "stdout",
     "output_type": "stream",
     "text": [
      "Epoch 1/1000\n",
      "\u001b[1m29/29\u001b[0m \u001b[32m━━━━━━━━━━━━━━━━━━━━\u001b[0m\u001b[37m\u001b[0m \u001b[1m1s\u001b[0m 4ms/step - accuracy: 0.5200 - loss: 0.7082 - mse: 0.2565 - recall: 0.1950 - val_accuracy: 0.5623 - val_loss: 0.6820 - val_mse: 0.2445 - val_recall: 0.2615\n",
      "Epoch 2/1000\n",
      "\u001b[1m29/29\u001b[0m \u001b[32m━━━━━━━━━━━━━━━━━━━━\u001b[0m\u001b[37m\u001b[0m \u001b[1m0s\u001b[0m 845us/step - accuracy: 0.5561 - loss: 0.6890 - mse: 0.2475 - recall: 0.2615 - val_accuracy: 0.5700 - val_loss: 0.6762 - val_mse: 0.2417 - val_recall: 0.2775\n",
      "Epoch 3/1000\n",
      "\u001b[1m29/29\u001b[0m \u001b[32m━━━━━━━━━━━━━━━━━━━━\u001b[0m\u001b[37m\u001b[0m \u001b[1m0s\u001b[0m 811us/step - accuracy: 0.5714 - loss: 0.6830 - mse: 0.2445 - recall: 0.2706 - val_accuracy: 0.5722 - val_loss: 0.6704 - val_mse: 0.2390 - val_recall: 0.2913\n",
      "Epoch 4/1000\n",
      "\u001b[1m29/29\u001b[0m \u001b[32m━━━━━━━━━━━━━━━━━━━━\u001b[0m\u001b[37m\u001b[0m \u001b[1m0s\u001b[0m 803us/step - accuracy: 0.5723 - loss: 0.6803 - mse: 0.2433 - recall: 0.3021 - val_accuracy: 0.5788 - val_loss: 0.6648 - val_mse: 0.2363 - val_recall: 0.3119\n",
      "Epoch 5/1000\n",
      "\u001b[1m29/29\u001b[0m \u001b[32m━━━━━━━━━━━━━━━━━━━━\u001b[0m\u001b[37m\u001b[0m \u001b[1m0s\u001b[0m 855us/step - accuracy: 0.5809 - loss: 0.6744 - mse: 0.2405 - recall: 0.3093 - val_accuracy: 0.5877 - val_loss: 0.6594 - val_mse: 0.2337 - val_recall: 0.3234\n",
      "Epoch 6/1000\n",
      "\u001b[1m29/29\u001b[0m \u001b[32m━━━━━━━━━━━━━━━━━━━━\u001b[0m\u001b[37m\u001b[0m \u001b[1m0s\u001b[0m 810us/step - accuracy: 0.6051 - loss: 0.6653 - mse: 0.2363 - recall: 0.3697 - val_accuracy: 0.6020 - val_loss: 0.6542 - val_mse: 0.2312 - val_recall: 0.3532\n",
      "Epoch 7/1000\n",
      "\u001b[1m29/29\u001b[0m \u001b[32m━━━━━━━━━━━━━━━━━━━━\u001b[0m\u001b[37m\u001b[0m \u001b[1m0s\u001b[0m 793us/step - accuracy: 0.6280 - loss: 0.6599 - mse: 0.2337 - recall: 0.4195 - val_accuracy: 0.6152 - val_loss: 0.6491 - val_mse: 0.2288 - val_recall: 0.3830\n",
      "Epoch 8/1000\n",
      "\u001b[1m29/29\u001b[0m \u001b[32m━━━━━━━━━━━━━━━━━━━━\u001b[0m\u001b[37m\u001b[0m \u001b[1m0s\u001b[0m 835us/step - accuracy: 0.6410 - loss: 0.6547 - mse: 0.2309 - recall: 0.4209 - val_accuracy: 0.6218 - val_loss: 0.6441 - val_mse: 0.2264 - val_recall: 0.4037\n",
      "Epoch 9/1000\n",
      "\u001b[1m29/29\u001b[0m \u001b[32m━━━━━━━━━━━━━━━━━━━━\u001b[0m\u001b[37m\u001b[0m \u001b[1m0s\u001b[0m 832us/step - accuracy: 0.6671 - loss: 0.6350 - mse: 0.2217 - recall: 0.4526 - val_accuracy: 0.6329 - val_loss: 0.6394 - val_mse: 0.2241 - val_recall: 0.4243\n",
      "Epoch 10/1000\n",
      "\u001b[1m29/29\u001b[0m \u001b[32m━━━━━━━━━━━━━━━━━━━━\u001b[0m\u001b[37m\u001b[0m \u001b[1m0s\u001b[0m 826us/step - accuracy: 0.6502 - loss: 0.6453 - mse: 0.2265 - recall: 0.4523 - val_accuracy: 0.6373 - val_loss: 0.6348 - val_mse: 0.2219 - val_recall: 0.4358\n",
      "Epoch 11/1000\n",
      "\u001b[1m29/29\u001b[0m \u001b[32m━━━━━━━━━━━━━━━━━━━━\u001b[0m\u001b[37m\u001b[0m \u001b[1m0s\u001b[0m 818us/step - accuracy: 0.6728 - loss: 0.6283 - mse: 0.2185 - recall: 0.4758 - val_accuracy: 0.6483 - val_loss: 0.6302 - val_mse: 0.2197 - val_recall: 0.4518\n",
      "Epoch 12/1000\n",
      "\u001b[1m29/29\u001b[0m \u001b[32m━━━━━━━━━━━━━━━━━━━━\u001b[0m\u001b[37m\u001b[0m \u001b[1m0s\u001b[0m 808us/step - accuracy: 0.6578 - loss: 0.6331 - mse: 0.2210 - recall: 0.4691 - val_accuracy: 0.6560 - val_loss: 0.6258 - val_mse: 0.2176 - val_recall: 0.4679\n",
      "Epoch 13/1000\n",
      "\u001b[1m29/29\u001b[0m \u001b[32m━━━━━━━━━━━━━━━━━━━━\u001b[0m\u001b[37m\u001b[0m \u001b[1m0s\u001b[0m 811us/step - accuracy: 0.6836 - loss: 0.6254 - mse: 0.2172 - recall: 0.5221 - val_accuracy: 0.6637 - val_loss: 0.6216 - val_mse: 0.2156 - val_recall: 0.4817\n",
      "Epoch 14/1000\n",
      "\u001b[1m29/29\u001b[0m \u001b[32m━━━━━━━━━━━━━━━━━━━━\u001b[0m\u001b[37m\u001b[0m \u001b[1m0s\u001b[0m 817us/step - accuracy: 0.6861 - loss: 0.6200 - mse: 0.2145 - recall: 0.5356 - val_accuracy: 0.6725 - val_loss: 0.6176 - val_mse: 0.2137 - val_recall: 0.5000\n",
      "Epoch 15/1000\n",
      "\u001b[1m29/29\u001b[0m \u001b[32m━━━━━━━━━━━━━━━━━━━━\u001b[0m\u001b[37m\u001b[0m \u001b[1m0s\u001b[0m 843us/step - accuracy: 0.7099 - loss: 0.6079 - mse: 0.2088 - recall: 0.5477 - val_accuracy: 0.6814 - val_loss: 0.6134 - val_mse: 0.2117 - val_recall: 0.5183\n",
      "Epoch 16/1000\n",
      "\u001b[1m29/29\u001b[0m \u001b[32m━━━━━━━━━━━━━━━━━━━━\u001b[0m\u001b[37m\u001b[0m \u001b[1m0s\u001b[0m 816us/step - accuracy: 0.7319 - loss: 0.6008 - mse: 0.2054 - recall: 0.6070 - val_accuracy: 0.6858 - val_loss: 0.6095 - val_mse: 0.2098 - val_recall: 0.5298\n",
      "Epoch 17/1000\n",
      "\u001b[1m29/29\u001b[0m \u001b[32m━━━━━━━━━━━━━━━━━━━━\u001b[0m\u001b[37m\u001b[0m \u001b[1m0s\u001b[0m 899us/step - accuracy: 0.7229 - loss: 0.5985 - mse: 0.2045 - recall: 0.5929 - val_accuracy: 0.6913 - val_loss: 0.6058 - val_mse: 0.2081 - val_recall: 0.5390\n",
      "Epoch 18/1000\n",
      "\u001b[1m29/29\u001b[0m \u001b[32m━━━━━━━━━━━━━━━━━━━━\u001b[0m\u001b[37m\u001b[0m \u001b[1m0s\u001b[0m 836us/step - accuracy: 0.7306 - loss: 0.5940 - mse: 0.2022 - recall: 0.6114 - val_accuracy: 0.6946 - val_loss: 0.6021 - val_mse: 0.2063 - val_recall: 0.5482\n",
      "Epoch 19/1000\n",
      "\u001b[1m29/29\u001b[0m \u001b[32m━━━━━━━━━━━━━━━━━━━━\u001b[0m\u001b[37m\u001b[0m \u001b[1m0s\u001b[0m 814us/step - accuracy: 0.7300 - loss: 0.5903 - mse: 0.2005 - recall: 0.6087 - val_accuracy: 0.7001 - val_loss: 0.5985 - val_mse: 0.2046 - val_recall: 0.5619\n",
      "Epoch 20/1000\n",
      "\u001b[1m29/29\u001b[0m \u001b[32m━━━━━━━━━━━━━━━━━━━━\u001b[0m\u001b[37m\u001b[0m \u001b[1m0s\u001b[0m 881us/step - accuracy: 0.7589 - loss: 0.5836 - mse: 0.1972 - recall: 0.6601 - val_accuracy: 0.7100 - val_loss: 0.5950 - val_mse: 0.2030 - val_recall: 0.5803\n",
      "Epoch 21/1000\n",
      "\u001b[1m29/29\u001b[0m \u001b[32m━━━━━━━━━━━━━━━━━━━━\u001b[0m\u001b[37m\u001b[0m \u001b[1m0s\u001b[0m 826us/step - accuracy: 0.7458 - loss: 0.5850 - mse: 0.1981 - recall: 0.6411 - val_accuracy: 0.7122 - val_loss: 0.5917 - val_mse: 0.2015 - val_recall: 0.5849\n",
      "Epoch 22/1000\n",
      "\u001b[1m29/29\u001b[0m \u001b[32m━━━━━━━━━━━━━━━━━━━━\u001b[0m\u001b[37m\u001b[0m \u001b[1m0s\u001b[0m 790us/step - accuracy: 0.7598 - loss: 0.5727 - mse: 0.1922 - recall: 0.6639 - val_accuracy: 0.7155 - val_loss: 0.5883 - val_mse: 0.1999 - val_recall: 0.6009\n",
      "Epoch 23/1000\n",
      "\u001b[1m29/29\u001b[0m \u001b[32m━━━━━━━━━━━━━━━━━━━━\u001b[0m\u001b[37m\u001b[0m \u001b[1m0s\u001b[0m 898us/step - accuracy: 0.7641 - loss: 0.5686 - mse: 0.1903 - recall: 0.6533 - val_accuracy: 0.7189 - val_loss: 0.5851 - val_mse: 0.1984 - val_recall: 0.6078\n",
      "Epoch 24/1000\n",
      "\u001b[1m29/29\u001b[0m \u001b[32m━━━━━━━━━━━━━━━━━━━━\u001b[0m\u001b[37m\u001b[0m \u001b[1m0s\u001b[0m 846us/step - accuracy: 0.7703 - loss: 0.5606 - mse: 0.1866 - recall: 0.6795 - val_accuracy: 0.7222 - val_loss: 0.5818 - val_mse: 0.1969 - val_recall: 0.6193\n",
      "Epoch 25/1000\n",
      "\u001b[1m29/29\u001b[0m \u001b[32m━━━━━━━━━━━━━━━━━━━━\u001b[0m\u001b[37m\u001b[0m \u001b[1m0s\u001b[0m 812us/step - accuracy: 0.7741 - loss: 0.5558 - mse: 0.1842 - recall: 0.6921 - val_accuracy: 0.7288 - val_loss: 0.5789 - val_mse: 0.1955 - val_recall: 0.6284\n",
      "Epoch 26/1000\n",
      "\u001b[1m29/29\u001b[0m \u001b[32m━━━━━━━━━━━━━━━━━━━━\u001b[0m\u001b[37m\u001b[0m \u001b[1m0s\u001b[0m 791us/step - accuracy: 0.7845 - loss: 0.5536 - mse: 0.1834 - recall: 0.7024 - val_accuracy: 0.7332 - val_loss: 0.5758 - val_mse: 0.1942 - val_recall: 0.6399\n",
      "Epoch 27/1000\n",
      "\u001b[1m29/29\u001b[0m \u001b[32m━━━━━━━━━━━━━━━━━━━━\u001b[0m\u001b[37m\u001b[0m \u001b[1m0s\u001b[0m 852us/step - accuracy: 0.7803 - loss: 0.5535 - mse: 0.1834 - recall: 0.7132 - val_accuracy: 0.7332 - val_loss: 0.5730 - val_mse: 0.1929 - val_recall: 0.6399\n",
      "Epoch 28/1000\n",
      "\u001b[1m29/29\u001b[0m \u001b[32m━━━━━━━━━━━━━━━━━━━━\u001b[0m\u001b[37m\u001b[0m \u001b[1m0s\u001b[0m 778us/step - accuracy: 0.7890 - loss: 0.5487 - mse: 0.1812 - recall: 0.7008 - val_accuracy: 0.7398 - val_loss: 0.5701 - val_mse: 0.1916 - val_recall: 0.6537\n",
      "Epoch 29/1000\n",
      "\u001b[1m29/29\u001b[0m \u001b[32m━━━━━━━━━━━━━━━━━━━━\u001b[0m\u001b[37m\u001b[0m \u001b[1m0s\u001b[0m 813us/step - accuracy: 0.7908 - loss: 0.5356 - mse: 0.1752 - recall: 0.7124 - val_accuracy: 0.7387 - val_loss: 0.5673 - val_mse: 0.1903 - val_recall: 0.6583\n",
      "Epoch 30/1000\n",
      "\u001b[1m29/29\u001b[0m \u001b[32m━━━━━━━━━━━━━━━━━━━━\u001b[0m\u001b[37m\u001b[0m \u001b[1m0s\u001b[0m 781us/step - accuracy: 0.7762 - loss: 0.5427 - mse: 0.1786 - recall: 0.7064 - val_accuracy: 0.7365 - val_loss: 0.5645 - val_mse: 0.1891 - val_recall: 0.6583\n",
      "Epoch 31/1000\n",
      "\u001b[1m29/29\u001b[0m \u001b[32m━━━━━━━━━━━━━━━━━━━━\u001b[0m\u001b[37m\u001b[0m \u001b[1m0s\u001b[0m 802us/step - accuracy: 0.7569 - loss: 0.5502 - mse: 0.1822 - recall: 0.6729 - val_accuracy: 0.7387 - val_loss: 0.5620 - val_mse: 0.1879 - val_recall: 0.6674\n",
      "Epoch 32/1000\n",
      "\u001b[1m29/29\u001b[0m \u001b[32m━━━━━━━━━━━━━━━━━━━━\u001b[0m\u001b[37m\u001b[0m \u001b[1m0s\u001b[0m 841us/step - accuracy: 0.8120 - loss: 0.5262 - mse: 0.1707 - recall: 0.7696 - val_accuracy: 0.7387 - val_loss: 0.5593 - val_mse: 0.1867 - val_recall: 0.6674\n",
      "Epoch 33/1000\n",
      "\u001b[1m29/29\u001b[0m \u001b[32m━━━━━━━━━━━━━━━━━━━━\u001b[0m\u001b[37m\u001b[0m \u001b[1m0s\u001b[0m 815us/step - accuracy: 0.7919 - loss: 0.5271 - mse: 0.1714 - recall: 0.7205 - val_accuracy: 0.7453 - val_loss: 0.5569 - val_mse: 0.1857 - val_recall: 0.6789\n",
      "Epoch 34/1000\n",
      "\u001b[1m29/29\u001b[0m \u001b[32m━━━━━━━━━━━━━━━━━━━━\u001b[0m\u001b[37m\u001b[0m \u001b[1m0s\u001b[0m 846us/step - accuracy: 0.7924 - loss: 0.5276 - mse: 0.1719 - recall: 0.7321 - val_accuracy: 0.7442 - val_loss: 0.5545 - val_mse: 0.1846 - val_recall: 0.6789\n",
      "Epoch 35/1000\n",
      "\u001b[1m29/29\u001b[0m \u001b[32m━━━━━━━━━━━━━━━━━━━━\u001b[0m\u001b[37m\u001b[0m \u001b[1m0s\u001b[0m 835us/step - accuracy: 0.7852 - loss: 0.5204 - mse: 0.1686 - recall: 0.7343 - val_accuracy: 0.7453 - val_loss: 0.5521 - val_mse: 0.1836 - val_recall: 0.6789\n"
     ]
    },
    {
     "name": "stdout",
     "output_type": "stream",
     "text": [
      "Epoch 36/1000\n",
      "\u001b[1m29/29\u001b[0m \u001b[32m━━━━━━━━━━━━━━━━━━━━\u001b[0m\u001b[37m\u001b[0m \u001b[1m0s\u001b[0m 801us/step - accuracy: 0.7920 - loss: 0.5205 - mse: 0.1686 - recall: 0.7252 - val_accuracy: 0.7475 - val_loss: 0.5498 - val_mse: 0.1826 - val_recall: 0.6812\n",
      "Epoch 37/1000\n",
      "\u001b[1m29/29\u001b[0m \u001b[32m━━━━━━━━━━━━━━━━━━━━\u001b[0m\u001b[37m\u001b[0m \u001b[1m0s\u001b[0m 783us/step - accuracy: 0.7957 - loss: 0.5138 - mse: 0.1658 - recall: 0.7531 - val_accuracy: 0.7519 - val_loss: 0.5476 - val_mse: 0.1816 - val_recall: 0.6904\n",
      "Epoch 38/1000\n",
      "\u001b[1m29/29\u001b[0m \u001b[32m━━━━━━━━━━━━━━━━━━━━\u001b[0m\u001b[37m\u001b[0m \u001b[1m0s\u001b[0m 784us/step - accuracy: 0.7946 - loss: 0.5149 - mse: 0.1664 - recall: 0.7420 - val_accuracy: 0.7508 - val_loss: 0.5454 - val_mse: 0.1807 - val_recall: 0.6927\n",
      "Epoch 39/1000\n",
      "\u001b[1m29/29\u001b[0m \u001b[32m━━━━━━━━━━━━━━━━━━━━\u001b[0m\u001b[37m\u001b[0m \u001b[1m0s\u001b[0m 770us/step - accuracy: 0.7993 - loss: 0.5062 - mse: 0.1625 - recall: 0.7503 - val_accuracy: 0.7486 - val_loss: 0.5433 - val_mse: 0.1798 - val_recall: 0.6950\n",
      "Epoch 40/1000\n",
      "\u001b[1m29/29\u001b[0m \u001b[32m━━━━━━━━━━━━━━━━━━━━\u001b[0m\u001b[37m\u001b[0m \u001b[1m0s\u001b[0m 789us/step - accuracy: 0.8023 - loss: 0.5039 - mse: 0.1614 - recall: 0.7570 - val_accuracy: 0.7519 - val_loss: 0.5412 - val_mse: 0.1789 - val_recall: 0.6995\n",
      "Epoch 41/1000\n",
      "\u001b[1m29/29\u001b[0m \u001b[32m━━━━━━━━━━━━━━━━━━━━\u001b[0m\u001b[37m\u001b[0m \u001b[1m0s\u001b[0m 811us/step - accuracy: 0.7872 - loss: 0.5133 - mse: 0.1660 - recall: 0.7363 - val_accuracy: 0.7563 - val_loss: 0.5393 - val_mse: 0.1781 - val_recall: 0.6995\n",
      "Epoch 42/1000\n",
      "\u001b[1m29/29\u001b[0m \u001b[32m━━━━━━━━━━━━━━━━━━━━\u001b[0m\u001b[37m\u001b[0m \u001b[1m0s\u001b[0m 809us/step - accuracy: 0.8044 - loss: 0.4972 - mse: 0.1585 - recall: 0.7534 - val_accuracy: 0.7541 - val_loss: 0.5373 - val_mse: 0.1772 - val_recall: 0.6972\n",
      "Epoch 43/1000\n",
      "\u001b[1m29/29\u001b[0m \u001b[32m━━━━━━━━━━━━━━━━━━━━\u001b[0m\u001b[37m\u001b[0m \u001b[1m0s\u001b[0m 799us/step - accuracy: 0.8040 - loss: 0.4983 - mse: 0.1590 - recall: 0.7759 - val_accuracy: 0.7563 - val_loss: 0.5353 - val_mse: 0.1764 - val_recall: 0.6972\n",
      "Epoch 44/1000\n",
      "\u001b[1m29/29\u001b[0m \u001b[32m━━━━━━━━━━━━━━━━━━━━\u001b[0m\u001b[37m\u001b[0m \u001b[1m0s\u001b[0m 786us/step - accuracy: 0.8126 - loss: 0.4905 - mse: 0.1557 - recall: 0.7634 - val_accuracy: 0.7607 - val_loss: 0.5335 - val_mse: 0.1756 - val_recall: 0.7018\n",
      "Epoch 45/1000\n",
      "\u001b[1m29/29\u001b[0m \u001b[32m━━━━━━━━━━━━━━━━━━━━\u001b[0m\u001b[37m\u001b[0m \u001b[1m0s\u001b[0m 798us/step - accuracy: 0.8125 - loss: 0.4864 - mse: 0.1541 - recall: 0.7598 - val_accuracy: 0.7585 - val_loss: 0.5316 - val_mse: 0.1749 - val_recall: 0.6995\n",
      "Epoch 46/1000\n",
      "\u001b[1m29/29\u001b[0m \u001b[32m━━━━━━━━━━━━━━━━━━━━\u001b[0m\u001b[37m\u001b[0m \u001b[1m0s\u001b[0m 840us/step - accuracy: 0.8065 - loss: 0.4877 - mse: 0.1546 - recall: 0.7583 - val_accuracy: 0.7596 - val_loss: 0.5298 - val_mse: 0.1741 - val_recall: 0.7041\n",
      "Epoch 47/1000\n",
      "\u001b[1m29/29\u001b[0m \u001b[32m━━━━━━━━━━━━━━━━━━━━\u001b[0m\u001b[37m\u001b[0m \u001b[1m0s\u001b[0m 817us/step - accuracy: 0.8068 - loss: 0.4877 - mse: 0.1549 - recall: 0.7499 - val_accuracy: 0.7607 - val_loss: 0.5281 - val_mse: 0.1734 - val_recall: 0.7064\n",
      "Epoch 48/1000\n",
      "\u001b[1m29/29\u001b[0m \u001b[32m━━━━━━━━━━━━━━━━━━━━\u001b[0m\u001b[37m\u001b[0m \u001b[1m0s\u001b[0m 811us/step - accuracy: 0.7994 - loss: 0.4934 - mse: 0.1573 - recall: 0.7574 - val_accuracy: 0.7641 - val_loss: 0.5264 - val_mse: 0.1727 - val_recall: 0.7133\n",
      "Epoch 49/1000\n",
      "\u001b[1m29/29\u001b[0m \u001b[32m━━━━━━━━━━━━━━━━━━━━\u001b[0m\u001b[37m\u001b[0m \u001b[1m0s\u001b[0m 793us/step - accuracy: 0.8094 - loss: 0.4767 - mse: 0.1501 - recall: 0.7616 - val_accuracy: 0.7630 - val_loss: 0.5247 - val_mse: 0.1720 - val_recall: 0.7133\n",
      "Epoch 50/1000\n",
      "\u001b[1m29/29\u001b[0m \u001b[32m━━━━━━━━━━━━━━━━━━━━\u001b[0m\u001b[37m\u001b[0m \u001b[1m0s\u001b[0m 882us/step - accuracy: 0.8195 - loss: 0.4740 - mse: 0.1488 - recall: 0.7848 - val_accuracy: 0.7641 - val_loss: 0.5231 - val_mse: 0.1714 - val_recall: 0.7179\n",
      "Epoch 51/1000\n",
      "\u001b[1m29/29\u001b[0m \u001b[32m━━━━━━━━━━━━━━━━━━━━\u001b[0m\u001b[37m\u001b[0m \u001b[1m0s\u001b[0m 807us/step - accuracy: 0.8098 - loss: 0.4711 - mse: 0.1478 - recall: 0.7741 - val_accuracy: 0.7641 - val_loss: 0.5215 - val_mse: 0.1707 - val_recall: 0.7179\n",
      "Epoch 52/1000\n",
      "\u001b[1m29/29\u001b[0m \u001b[32m━━━━━━━━━━━━━━━━━━━━\u001b[0m\u001b[37m\u001b[0m \u001b[1m0s\u001b[0m 803us/step - accuracy: 0.8234 - loss: 0.4699 - mse: 0.1472 - recall: 0.7882 - val_accuracy: 0.7663 - val_loss: 0.5201 - val_mse: 0.1702 - val_recall: 0.7225\n",
      "Epoch 53/1000\n",
      "\u001b[1m29/29\u001b[0m \u001b[32m━━━━━━━━━━━━━━━━━━━━\u001b[0m\u001b[37m\u001b[0m \u001b[1m0s\u001b[0m 815us/step - accuracy: 0.8187 - loss: 0.4696 - mse: 0.1472 - recall: 0.7677 - val_accuracy: 0.7652 - val_loss: 0.5186 - val_mse: 0.1696 - val_recall: 0.7225\n",
      "Epoch 54/1000\n",
      "\u001b[1m29/29\u001b[0m \u001b[32m━━━━━━━━━━━━━━━━━━━━\u001b[0m\u001b[37m\u001b[0m \u001b[1m0s\u001b[0m 832us/step - accuracy: 0.8248 - loss: 0.4628 - mse: 0.1444 - recall: 0.7877 - val_accuracy: 0.7652 - val_loss: 0.5172 - val_mse: 0.1690 - val_recall: 0.7225\n",
      "Epoch 55/1000\n",
      "\u001b[1m29/29\u001b[0m \u001b[32m━━━━━━━━━━━━━━━━━━━━\u001b[0m\u001b[37m\u001b[0m \u001b[1m0s\u001b[0m 825us/step - accuracy: 0.8434 - loss: 0.4521 - mse: 0.1395 - recall: 0.8085 - val_accuracy: 0.7652 - val_loss: 0.5158 - val_mse: 0.1685 - val_recall: 0.7248\n",
      "Epoch 56/1000\n",
      "\u001b[1m29/29\u001b[0m \u001b[32m━━━━━━━━━━━━━━━━━━━━\u001b[0m\u001b[37m\u001b[0m \u001b[1m0s\u001b[0m 814us/step - accuracy: 0.8301 - loss: 0.4590 - mse: 0.1429 - recall: 0.7846 - val_accuracy: 0.7652 - val_loss: 0.5144 - val_mse: 0.1679 - val_recall: 0.7248\n",
      "Epoch 57/1000\n",
      "\u001b[1m29/29\u001b[0m \u001b[32m━━━━━━━━━━━━━━━━━━━━\u001b[0m\u001b[37m\u001b[0m \u001b[1m0s\u001b[0m 885us/step - accuracy: 0.8126 - loss: 0.4653 - mse: 0.1460 - recall: 0.7620 - val_accuracy: 0.7663 - val_loss: 0.5131 - val_mse: 0.1674 - val_recall: 0.7271\n",
      "Epoch 58/1000\n",
      "\u001b[1m29/29\u001b[0m \u001b[32m━━━━━━━━━━━━━━━━━━━━\u001b[0m\u001b[37m\u001b[0m \u001b[1m0s\u001b[0m 848us/step - accuracy: 0.8151 - loss: 0.4607 - mse: 0.1440 - recall: 0.7587 - val_accuracy: 0.7641 - val_loss: 0.5118 - val_mse: 0.1669 - val_recall: 0.7271\n",
      "Epoch 59/1000\n",
      "\u001b[1m29/29\u001b[0m \u001b[32m━━━━━━━━━━━━━━━━━━━━\u001b[0m\u001b[37m\u001b[0m \u001b[1m0s\u001b[0m 877us/step - accuracy: 0.8274 - loss: 0.4511 - mse: 0.1399 - recall: 0.7854 - val_accuracy: 0.7652 - val_loss: 0.5107 - val_mse: 0.1665 - val_recall: 0.7294\n",
      "Epoch 60/1000\n",
      "\u001b[1m29/29\u001b[0m \u001b[32m━━━━━━━━━━━━━━━━━━━━\u001b[0m\u001b[37m\u001b[0m \u001b[1m0s\u001b[0m 816us/step - accuracy: 0.8220 - loss: 0.4509 - mse: 0.1398 - recall: 0.7831 - val_accuracy: 0.7652 - val_loss: 0.5093 - val_mse: 0.1659 - val_recall: 0.7294\n",
      "Epoch 61/1000\n",
      "\u001b[1m29/29\u001b[0m \u001b[32m━━━━━━━━━━━━━━━━━━━━\u001b[0m\u001b[37m\u001b[0m \u001b[1m0s\u001b[0m 821us/step - accuracy: 0.8253 - loss: 0.4564 - mse: 0.1422 - recall: 0.7863 - val_accuracy: 0.7652 - val_loss: 0.5082 - val_mse: 0.1655 - val_recall: 0.7317\n",
      "Epoch 62/1000\n",
      "\u001b[1m29/29\u001b[0m \u001b[32m━━━━━━━━━━━━━━━━━━━━\u001b[0m\u001b[37m\u001b[0m \u001b[1m0s\u001b[0m 789us/step - accuracy: 0.8135 - loss: 0.4531 - mse: 0.1411 - recall: 0.7788 - val_accuracy: 0.7652 - val_loss: 0.5071 - val_mse: 0.1651 - val_recall: 0.7317\n",
      "Epoch 63/1000\n",
      "\u001b[1m29/29\u001b[0m \u001b[32m━━━━━━━━━━━━━━━━━━━━\u001b[0m\u001b[37m\u001b[0m \u001b[1m0s\u001b[0m 792us/step - accuracy: 0.8231 - loss: 0.4406 - mse: 0.1357 - recall: 0.8002 - val_accuracy: 0.7674 - val_loss: 0.5060 - val_mse: 0.1647 - val_recall: 0.7339\n",
      "Epoch 64/1000\n",
      "\u001b[1m29/29\u001b[0m \u001b[32m━━━━━━━━━━━━━━━━━━━━\u001b[0m\u001b[37m\u001b[0m \u001b[1m0s\u001b[0m 786us/step - accuracy: 0.8338 - loss: 0.4387 - mse: 0.1349 - recall: 0.7980 - val_accuracy: 0.7674 - val_loss: 0.5049 - val_mse: 0.1643 - val_recall: 0.7339\n",
      "Epoch 65/1000\n",
      "\u001b[1m29/29\u001b[0m \u001b[32m━━━━━━━━━━━━━━━━━━━━\u001b[0m\u001b[37m\u001b[0m \u001b[1m0s\u001b[0m 806us/step - accuracy: 0.8382 - loss: 0.4284 - mse: 0.1304 - recall: 0.8091 - val_accuracy: 0.7685 - val_loss: 0.5040 - val_mse: 0.1639 - val_recall: 0.7339\n",
      "Epoch 66/1000\n",
      "\u001b[1m29/29\u001b[0m \u001b[32m━━━━━━━━━━━━━━━━━━━━\u001b[0m\u001b[37m\u001b[0m \u001b[1m0s\u001b[0m 784us/step - accuracy: 0.8336 - loss: 0.4374 - mse: 0.1343 - recall: 0.7909 - val_accuracy: 0.7674 - val_loss: 0.5029 - val_mse: 0.1635 - val_recall: 0.7339\n",
      "Epoch 67/1000\n",
      "\u001b[1m29/29\u001b[0m \u001b[32m━━━━━━━━━━━━━━━━━━━━\u001b[0m\u001b[37m\u001b[0m \u001b[1m0s\u001b[0m 784us/step - accuracy: 0.8293 - loss: 0.4340 - mse: 0.1333 - recall: 0.8110 - val_accuracy: 0.7674 - val_loss: 0.5019 - val_mse: 0.1632 - val_recall: 0.7339\n",
      "Epoch 68/1000\n",
      "\u001b[1m29/29\u001b[0m \u001b[32m━━━━━━━━━━━━━━━━━━━━\u001b[0m\u001b[37m\u001b[0m \u001b[1m0s\u001b[0m 807us/step - accuracy: 0.8369 - loss: 0.4318 - mse: 0.1321 - recall: 0.8189 - val_accuracy: 0.7696 - val_loss: 0.5009 - val_mse: 0.1628 - val_recall: 0.7385\n",
      "Epoch 69/1000\n",
      "\u001b[1m29/29\u001b[0m \u001b[32m━━━━━━━━━━━━━━━━━━━━\u001b[0m\u001b[37m\u001b[0m \u001b[1m0s\u001b[0m 835us/step - accuracy: 0.8372 - loss: 0.4246 - mse: 0.1293 - recall: 0.7961 - val_accuracy: 0.7696 - val_loss: 0.5000 - val_mse: 0.1625 - val_recall: 0.7385\n",
      "Epoch 70/1000\n",
      "\u001b[1m29/29\u001b[0m \u001b[32m━━━━━━━━━━━━━━━━━━━━\u001b[0m\u001b[37m\u001b[0m \u001b[1m0s\u001b[0m 1ms/step - accuracy: 0.8424 - loss: 0.4215 - mse: 0.1280 - recall: 0.8029 - val_accuracy: 0.7707 - val_loss: 0.4992 - val_mse: 0.1621 - val_recall: 0.7408\n"
     ]
    },
    {
     "name": "stdout",
     "output_type": "stream",
     "text": [
      "Epoch 71/1000\n",
      "\u001b[1m29/29\u001b[0m \u001b[32m━━━━━━━━━━━━━━━━━━━━\u001b[0m\u001b[37m\u001b[0m \u001b[1m0s\u001b[0m 891us/step - accuracy: 0.8340 - loss: 0.4407 - mse: 0.1361 - recall: 0.8110 - val_accuracy: 0.7696 - val_loss: 0.4984 - val_mse: 0.1618 - val_recall: 0.7385\n",
      "Epoch 72/1000\n",
      "\u001b[1m29/29\u001b[0m \u001b[32m━━━━━━━━━━━━━━━━━━━━\u001b[0m\u001b[37m\u001b[0m \u001b[1m0s\u001b[0m 804us/step - accuracy: 0.8296 - loss: 0.4230 - mse: 0.1289 - recall: 0.7895 - val_accuracy: 0.7718 - val_loss: 0.4975 - val_mse: 0.1615 - val_recall: 0.7408\n",
      "Epoch 73/1000\n",
      "\u001b[1m29/29\u001b[0m \u001b[32m━━━━━━━━━━━━━━━━━━━━\u001b[0m\u001b[37m\u001b[0m \u001b[1m0s\u001b[0m 792us/step - accuracy: 0.8402 - loss: 0.4190 - mse: 0.1273 - recall: 0.8160 - val_accuracy: 0.7729 - val_loss: 0.4966 - val_mse: 0.1612 - val_recall: 0.7431\n",
      "Epoch 74/1000\n",
      "\u001b[1m29/29\u001b[0m \u001b[32m━━━━━━━━━━━━━━━━━━━━\u001b[0m\u001b[37m\u001b[0m \u001b[1m0s\u001b[0m 881us/step - accuracy: 0.8387 - loss: 0.4184 - mse: 0.1270 - recall: 0.8134 - val_accuracy: 0.7729 - val_loss: 0.4959 - val_mse: 0.1609 - val_recall: 0.7431\n",
      "Epoch 75/1000\n",
      "\u001b[1m29/29\u001b[0m \u001b[32m━━━━━━━━━━━━━━━━━━━━\u001b[0m\u001b[37m\u001b[0m \u001b[1m0s\u001b[0m 799us/step - accuracy: 0.8416 - loss: 0.4170 - mse: 0.1265 - recall: 0.8185 - val_accuracy: 0.7740 - val_loss: 0.4952 - val_mse: 0.1607 - val_recall: 0.7454\n",
      "Epoch 76/1000\n",
      "\u001b[1m29/29\u001b[0m \u001b[32m━━━━━━━━━━━━━━━━━━━━\u001b[0m\u001b[37m\u001b[0m \u001b[1m0s\u001b[0m 772us/step - accuracy: 0.8365 - loss: 0.4129 - mse: 0.1252 - recall: 0.8213 - val_accuracy: 0.7729 - val_loss: 0.4944 - val_mse: 0.1604 - val_recall: 0.7408\n",
      "Epoch 77/1000\n",
      "\u001b[1m29/29\u001b[0m \u001b[32m━━━━━━━━━━━━━━━━━━━━\u001b[0m\u001b[37m\u001b[0m \u001b[1m0s\u001b[0m 811us/step - accuracy: 0.8378 - loss: 0.4157 - mse: 0.1263 - recall: 0.8029 - val_accuracy: 0.7740 - val_loss: 0.4937 - val_mse: 0.1602 - val_recall: 0.7431\n",
      "Epoch 78/1000\n",
      "\u001b[1m29/29\u001b[0m \u001b[32m━━━━━━━━━━━━━━━━━━━━\u001b[0m\u001b[37m\u001b[0m \u001b[1m0s\u001b[0m 786us/step - accuracy: 0.8452 - loss: 0.4099 - mse: 0.1236 - recall: 0.8195 - val_accuracy: 0.7740 - val_loss: 0.4931 - val_mse: 0.1600 - val_recall: 0.7431\n",
      "Epoch 79/1000\n",
      "\u001b[1m29/29\u001b[0m \u001b[32m━━━━━━━━━━━━━━━━━━━━\u001b[0m\u001b[37m\u001b[0m \u001b[1m0s\u001b[0m 785us/step - accuracy: 0.8433 - loss: 0.4154 - mse: 0.1262 - recall: 0.8077 - val_accuracy: 0.7740 - val_loss: 0.4924 - val_mse: 0.1597 - val_recall: 0.7431\n",
      "Epoch 80/1000\n",
      "\u001b[1m29/29\u001b[0m \u001b[32m━━━━━━━━━━━━━━━━━━━━\u001b[0m\u001b[37m\u001b[0m \u001b[1m0s\u001b[0m 865us/step - accuracy: 0.8448 - loss: 0.4039 - mse: 0.1218 - recall: 0.8259 - val_accuracy: 0.7740 - val_loss: 0.4918 - val_mse: 0.1595 - val_recall: 0.7454\n",
      "Epoch 81/1000\n",
      "\u001b[1m29/29\u001b[0m \u001b[32m━━━━━━━━━━━━━━━━━━━━\u001b[0m\u001b[37m\u001b[0m \u001b[1m0s\u001b[0m 816us/step - accuracy: 0.8518 - loss: 0.4045 - mse: 0.1215 - recall: 0.8224 - val_accuracy: 0.7740 - val_loss: 0.4911 - val_mse: 0.1593 - val_recall: 0.7454\n",
      "Epoch 82/1000\n",
      "\u001b[1m29/29\u001b[0m \u001b[32m━━━━━━━━━━━━━━━━━━━━\u001b[0m\u001b[37m\u001b[0m \u001b[1m0s\u001b[0m 789us/step - accuracy: 0.8388 - loss: 0.4139 - mse: 0.1257 - recall: 0.8192 - val_accuracy: 0.7751 - val_loss: 0.4905 - val_mse: 0.1590 - val_recall: 0.7454\n",
      "Epoch 83/1000\n",
      "\u001b[1m29/29\u001b[0m \u001b[32m━━━━━━━━━━━━━━━━━━━━\u001b[0m\u001b[37m\u001b[0m \u001b[1m0s\u001b[0m 788us/step - accuracy: 0.8437 - loss: 0.4072 - mse: 0.1231 - recall: 0.8231 - val_accuracy: 0.7751 - val_loss: 0.4898 - val_mse: 0.1588 - val_recall: 0.7454\n",
      "Epoch 84/1000\n",
      "\u001b[1m29/29\u001b[0m \u001b[32m━━━━━━━━━━━━━━━━━━━━\u001b[0m\u001b[37m\u001b[0m \u001b[1m0s\u001b[0m 781us/step - accuracy: 0.8289 - loss: 0.4195 - mse: 0.1288 - recall: 0.8089 - val_accuracy: 0.7751 - val_loss: 0.4894 - val_mse: 0.1586 - val_recall: 0.7454\n",
      "Epoch 85/1000\n",
      "\u001b[1m29/29\u001b[0m \u001b[32m━━━━━━━━━━━━━━━━━━━━\u001b[0m\u001b[37m\u001b[0m \u001b[1m0s\u001b[0m 774us/step - accuracy: 0.8467 - loss: 0.4034 - mse: 0.1220 - recall: 0.8409 - val_accuracy: 0.7751 - val_loss: 0.4888 - val_mse: 0.1584 - val_recall: 0.7454\n",
      "Epoch 86/1000\n",
      "\u001b[1m29/29\u001b[0m \u001b[32m━━━━━━━━━━━━━━━━━━━━\u001b[0m\u001b[37m\u001b[0m \u001b[1m0s\u001b[0m 769us/step - accuracy: 0.8487 - loss: 0.4025 - mse: 0.1213 - recall: 0.8282 - val_accuracy: 0.7751 - val_loss: 0.4883 - val_mse: 0.1583 - val_recall: 0.7454\n",
      "Epoch 87/1000\n",
      "\u001b[1m29/29\u001b[0m \u001b[32m━━━━━━━━━━━━━━━━━━━━\u001b[0m\u001b[37m\u001b[0m \u001b[1m0s\u001b[0m 780us/step - accuracy: 0.8491 - loss: 0.3972 - mse: 0.1193 - recall: 0.8311 - val_accuracy: 0.7751 - val_loss: 0.4879 - val_mse: 0.1581 - val_recall: 0.7454\n",
      "Epoch 88/1000\n",
      "\u001b[1m29/29\u001b[0m \u001b[32m━━━━━━━━━━━━━━━━━━━━\u001b[0m\u001b[37m\u001b[0m \u001b[1m0s\u001b[0m 821us/step - accuracy: 0.8393 - loss: 0.3997 - mse: 0.1205 - recall: 0.8090 - val_accuracy: 0.7751 - val_loss: 0.4874 - val_mse: 0.1580 - val_recall: 0.7454\n",
      "Epoch 89/1000\n",
      "\u001b[1m29/29\u001b[0m \u001b[32m━━━━━━━━━━━━━━━━━━━━\u001b[0m\u001b[37m\u001b[0m \u001b[1m0s\u001b[0m 781us/step - accuracy: 0.8447 - loss: 0.3940 - mse: 0.1187 - recall: 0.8267 - val_accuracy: 0.7740 - val_loss: 0.4869 - val_mse: 0.1578 - val_recall: 0.7454\n",
      "Epoch 90/1000\n",
      "\u001b[1m29/29\u001b[0m \u001b[32m━━━━━━━━━━━━━━━━━━━━\u001b[0m\u001b[37m\u001b[0m \u001b[1m0s\u001b[0m 804us/step - accuracy: 0.8454 - loss: 0.3970 - mse: 0.1194 - recall: 0.8247 - val_accuracy: 0.7751 - val_loss: 0.4865 - val_mse: 0.1577 - val_recall: 0.7454\n",
      "Epoch 91/1000\n",
      "\u001b[1m29/29\u001b[0m \u001b[32m━━━━━━━━━━━━━━━━━━━━\u001b[0m\u001b[37m\u001b[0m \u001b[1m0s\u001b[0m 783us/step - accuracy: 0.8551 - loss: 0.3875 - mse: 0.1159 - recall: 0.8233 - val_accuracy: 0.7762 - val_loss: 0.4861 - val_mse: 0.1575 - val_recall: 0.7477\n",
      "Epoch 92/1000\n",
      "\u001b[1m29/29\u001b[0m \u001b[32m━━━━━━━━━━━━━━━━━━━━\u001b[0m\u001b[37m\u001b[0m \u001b[1m0s\u001b[0m 790us/step - accuracy: 0.8343 - loss: 0.4050 - mse: 0.1231 - recall: 0.8098 - val_accuracy: 0.7762 - val_loss: 0.4858 - val_mse: 0.1574 - val_recall: 0.7477\n",
      "Epoch 93/1000\n",
      "\u001b[1m29/29\u001b[0m \u001b[32m━━━━━━━━━━━━━━━━━━━━\u001b[0m\u001b[37m\u001b[0m \u001b[1m0s\u001b[0m 843us/step - accuracy: 0.8581 - loss: 0.3788 - mse: 0.1122 - recall: 0.8275 - val_accuracy: 0.7762 - val_loss: 0.4853 - val_mse: 0.1572 - val_recall: 0.7477\n",
      "Epoch 94/1000\n",
      "\u001b[1m29/29\u001b[0m \u001b[32m━━━━━━━━━━━━━━━━━━━━\u001b[0m\u001b[37m\u001b[0m \u001b[1m0s\u001b[0m 770us/step - accuracy: 0.8483 - loss: 0.3920 - mse: 0.1180 - recall: 0.8349 - val_accuracy: 0.7762 - val_loss: 0.4850 - val_mse: 0.1571 - val_recall: 0.7477\n",
      "Epoch 95/1000\n",
      "\u001b[1m29/29\u001b[0m \u001b[32m━━━━━━━━━━━━━━━━━━━━\u001b[0m\u001b[37m\u001b[0m \u001b[1m0s\u001b[0m 788us/step - accuracy: 0.8584 - loss: 0.3784 - mse: 0.1121 - recall: 0.8306 - val_accuracy: 0.7762 - val_loss: 0.4846 - val_mse: 0.1570 - val_recall: 0.7477\n",
      "Epoch 96/1000\n",
      "\u001b[1m29/29\u001b[0m \u001b[32m━━━━━━━━━━━━━━━━━━━━\u001b[0m\u001b[37m\u001b[0m \u001b[1m0s\u001b[0m 790us/step - accuracy: 0.8547 - loss: 0.3850 - mse: 0.1152 - recall: 0.8403 - val_accuracy: 0.7751 - val_loss: 0.4843 - val_mse: 0.1569 - val_recall: 0.7477\n",
      "Epoch 97/1000\n",
      "\u001b[1m29/29\u001b[0m \u001b[32m━━━━━━━━━━━━━━━━━━━━\u001b[0m\u001b[37m\u001b[0m \u001b[1m0s\u001b[0m 825us/step - accuracy: 0.8543 - loss: 0.3816 - mse: 0.1140 - recall: 0.8412 - val_accuracy: 0.7762 - val_loss: 0.4840 - val_mse: 0.1568 - val_recall: 0.7500\n",
      "Epoch 98/1000\n",
      "\u001b[1m29/29\u001b[0m \u001b[32m━━━━━━━━━━━━━━━━━━━━\u001b[0m\u001b[37m\u001b[0m \u001b[1m0s\u001b[0m 790us/step - accuracy: 0.8457 - loss: 0.3919 - mse: 0.1182 - recall: 0.8280 - val_accuracy: 0.7762 - val_loss: 0.4837 - val_mse: 0.1567 - val_recall: 0.7500\n",
      "Epoch 99/1000\n",
      "\u001b[1m29/29\u001b[0m \u001b[32m━━━━━━━━━━━━━━━━━━━━\u001b[0m\u001b[37m\u001b[0m \u001b[1m0s\u001b[0m 806us/step - accuracy: 0.8511 - loss: 0.3738 - mse: 0.1111 - recall: 0.8336 - val_accuracy: 0.7762 - val_loss: 0.4833 - val_mse: 0.1566 - val_recall: 0.7500\n",
      "Epoch 100/1000\n",
      "\u001b[1m29/29\u001b[0m \u001b[32m━━━━━━━━━━━━━━━━━━━━\u001b[0m\u001b[37m\u001b[0m \u001b[1m0s\u001b[0m 788us/step - accuracy: 0.8628 - loss: 0.3677 - mse: 0.1081 - recall: 0.8514 - val_accuracy: 0.7762 - val_loss: 0.4832 - val_mse: 0.1566 - val_recall: 0.7500\n",
      "Epoch 101/1000\n",
      "\u001b[1m29/29\u001b[0m \u001b[32m━━━━━━━━━━━━━━━━━━━━\u001b[0m\u001b[37m\u001b[0m \u001b[1m0s\u001b[0m 798us/step - accuracy: 0.8545 - loss: 0.3825 - mse: 0.1147 - recall: 0.8349 - val_accuracy: 0.7762 - val_loss: 0.4829 - val_mse: 0.1565 - val_recall: 0.7500\n",
      "Epoch 102/1000\n",
      "\u001b[1m29/29\u001b[0m \u001b[32m━━━━━━━━━━━━━━━━━━━━\u001b[0m\u001b[37m\u001b[0m \u001b[1m0s\u001b[0m 774us/step - accuracy: 0.8425 - loss: 0.3905 - mse: 0.1184 - recall: 0.8263 - val_accuracy: 0.7762 - val_loss: 0.4827 - val_mse: 0.1564 - val_recall: 0.7500\n",
      "Epoch 103/1000\n",
      "\u001b[1m29/29\u001b[0m \u001b[32m━━━━━━━━━━━━━━━━━━━━\u001b[0m\u001b[37m\u001b[0m \u001b[1m0s\u001b[0m 804us/step - accuracy: 0.8618 - loss: 0.3683 - mse: 0.1088 - recall: 0.8427 - val_accuracy: 0.7784 - val_loss: 0.4824 - val_mse: 0.1563 - val_recall: 0.7523\n",
      "Epoch 104/1000\n",
      "\u001b[1m29/29\u001b[0m \u001b[32m━━━━━━━━━━━━━━━━━━━━\u001b[0m\u001b[37m\u001b[0m \u001b[1m0s\u001b[0m 789us/step - accuracy: 0.8655 - loss: 0.3674 - mse: 0.1084 - recall: 0.8579 - val_accuracy: 0.7795 - val_loss: 0.4822 - val_mse: 0.1563 - val_recall: 0.7523\n",
      "Epoch 105/1000\n",
      "\u001b[1m29/29\u001b[0m \u001b[32m━━━━━━━━━━━━━━━━━━━━\u001b[0m\u001b[37m\u001b[0m \u001b[1m0s\u001b[0m 796us/step - accuracy: 0.8662 - loss: 0.3627 - mse: 0.1069 - recall: 0.8424 - val_accuracy: 0.7795 - val_loss: 0.4820 - val_mse: 0.1562 - val_recall: 0.7523\n"
     ]
    },
    {
     "name": "stdout",
     "output_type": "stream",
     "text": [
      "Epoch 106/1000\n",
      "\u001b[1m29/29\u001b[0m \u001b[32m━━━━━━━━━━━━━━━━━━━━\u001b[0m\u001b[37m\u001b[0m \u001b[1m0s\u001b[0m 799us/step - accuracy: 0.8572 - loss: 0.3744 - mse: 0.1115 - recall: 0.8452 - val_accuracy: 0.7806 - val_loss: 0.4818 - val_mse: 0.1561 - val_recall: 0.7546\n",
      "Epoch 107/1000\n",
      "\u001b[1m29/29\u001b[0m \u001b[32m━━━━━━━━━━━━━━━━━━━━\u001b[0m\u001b[37m\u001b[0m \u001b[1m0s\u001b[0m 796us/step - accuracy: 0.8575 - loss: 0.3700 - mse: 0.1100 - recall: 0.8366 - val_accuracy: 0.7784 - val_loss: 0.4816 - val_mse: 0.1561 - val_recall: 0.7523\n",
      "Epoch 108/1000\n",
      "\u001b[1m29/29\u001b[0m \u001b[32m━━━━━━━━━━━━━━━━━━━━\u001b[0m\u001b[37m\u001b[0m \u001b[1m0s\u001b[0m 795us/step - accuracy: 0.8616 - loss: 0.3726 - mse: 0.1113 - recall: 0.8324 - val_accuracy: 0.7806 - val_loss: 0.4815 - val_mse: 0.1560 - val_recall: 0.7523\n",
      "Epoch 109/1000\n",
      "\u001b[1m29/29\u001b[0m \u001b[32m━━━━━━━━━━━━━━━━━━━━\u001b[0m\u001b[37m\u001b[0m \u001b[1m0s\u001b[0m 779us/step - accuracy: 0.8552 - loss: 0.3742 - mse: 0.1121 - recall: 0.8371 - val_accuracy: 0.7817 - val_loss: 0.4812 - val_mse: 0.1559 - val_recall: 0.7546\n",
      "Epoch 110/1000\n",
      "\u001b[1m29/29\u001b[0m \u001b[32m━━━━━━━━━━━━━━━━━━━━\u001b[0m\u001b[37m\u001b[0m \u001b[1m0s\u001b[0m 766us/step - accuracy: 0.8647 - loss: 0.3654 - mse: 0.1081 - recall: 0.8419 - val_accuracy: 0.7806 - val_loss: 0.4810 - val_mse: 0.1559 - val_recall: 0.7523\n",
      "Epoch 111/1000\n",
      "\u001b[1m29/29\u001b[0m \u001b[32m━━━━━━━━━━━━━━━━━━━━\u001b[0m\u001b[37m\u001b[0m \u001b[1m0s\u001b[0m 781us/step - accuracy: 0.8725 - loss: 0.3540 - mse: 0.1038 - recall: 0.8605 - val_accuracy: 0.7806 - val_loss: 0.4809 - val_mse: 0.1558 - val_recall: 0.7523\n",
      "Epoch 112/1000\n",
      "\u001b[1m29/29\u001b[0m \u001b[32m━━━━━━━━━━━━━━━━━━━━\u001b[0m\u001b[37m\u001b[0m \u001b[1m0s\u001b[0m 807us/step - accuracy: 0.8729 - loss: 0.3554 - mse: 0.1041 - recall: 0.8573 - val_accuracy: 0.7817 - val_loss: 0.4810 - val_mse: 0.1559 - val_recall: 0.7546\n",
      "Epoch 113/1000\n",
      "\u001b[1m29/29\u001b[0m \u001b[32m━━━━━━━━━━━━━━━━━━━━\u001b[0m\u001b[37m\u001b[0m \u001b[1m0s\u001b[0m 763us/step - accuracy: 0.8589 - loss: 0.3667 - mse: 0.1095 - recall: 0.8517 - val_accuracy: 0.7817 - val_loss: 0.4807 - val_mse: 0.1558 - val_recall: 0.7546\n",
      "Epoch 114/1000\n",
      "\u001b[1m29/29\u001b[0m \u001b[32m━━━━━━━━━━━━━━━━━━━━\u001b[0m\u001b[37m\u001b[0m \u001b[1m0s\u001b[0m 805us/step - accuracy: 0.8634 - loss: 0.3681 - mse: 0.1099 - recall: 0.8387 - val_accuracy: 0.7806 - val_loss: 0.4806 - val_mse: 0.1558 - val_recall: 0.7546\n",
      "Epoch 115/1000\n",
      "\u001b[1m29/29\u001b[0m \u001b[32m━━━━━━━━━━━━━━━━━━━━\u001b[0m\u001b[37m\u001b[0m \u001b[1m0s\u001b[0m 811us/step - accuracy: 0.8719 - loss: 0.3588 - mse: 0.1059 - recall: 0.8480 - val_accuracy: 0.7806 - val_loss: 0.4805 - val_mse: 0.1558 - val_recall: 0.7546\n",
      "Epoch 116/1000\n",
      "\u001b[1m29/29\u001b[0m \u001b[32m━━━━━━━━━━━━━━━━━━━━\u001b[0m\u001b[37m\u001b[0m \u001b[1m0s\u001b[0m 754us/step - accuracy: 0.8791 - loss: 0.3464 - mse: 0.1012 - recall: 0.8597 - val_accuracy: 0.7806 - val_loss: 0.4803 - val_mse: 0.1557 - val_recall: 0.7546\n",
      "Epoch 117/1000\n",
      "\u001b[1m29/29\u001b[0m \u001b[32m━━━━━━━━━━━━━━━━━━━━\u001b[0m\u001b[37m\u001b[0m \u001b[1m0s\u001b[0m 806us/step - accuracy: 0.8505 - loss: 0.3780 - mse: 0.1141 - recall: 0.8314 - val_accuracy: 0.7806 - val_loss: 0.4803 - val_mse: 0.1557 - val_recall: 0.7546\n",
      "Epoch 118/1000\n",
      "\u001b[1m29/29\u001b[0m \u001b[32m━━━━━━━━━━━━━━━━━━━━\u001b[0m\u001b[37m\u001b[0m \u001b[1m0s\u001b[0m 767us/step - accuracy: 0.8677 - loss: 0.3613 - mse: 0.1071 - recall: 0.8554 - val_accuracy: 0.7806 - val_loss: 0.4802 - val_mse: 0.1556 - val_recall: 0.7546\n",
      "Epoch 119/1000\n",
      "\u001b[1m29/29\u001b[0m \u001b[32m━━━━━━━━━━━━━━━━━━━━\u001b[0m\u001b[37m\u001b[0m \u001b[1m0s\u001b[0m 809us/step - accuracy: 0.8651 - loss: 0.3610 - mse: 0.1072 - recall: 0.8438 - val_accuracy: 0.7806 - val_loss: 0.4801 - val_mse: 0.1556 - val_recall: 0.7546\n",
      "Epoch 120/1000\n",
      "\u001b[1m29/29\u001b[0m \u001b[32m━━━━━━━━━━━━━━━━━━━━\u001b[0m\u001b[37m\u001b[0m \u001b[1m0s\u001b[0m 812us/step - accuracy: 0.8523 - loss: 0.3694 - mse: 0.1105 - recall: 0.8309 - val_accuracy: 0.7806 - val_loss: 0.4802 - val_mse: 0.1557 - val_recall: 0.7546\n",
      "Epoch 121/1000\n",
      "\u001b[1m29/29\u001b[0m \u001b[32m━━━━━━━━━━━━━━━━━━━━\u001b[0m\u001b[37m\u001b[0m \u001b[1m0s\u001b[0m 773us/step - accuracy: 0.8653 - loss: 0.3533 - mse: 0.1046 - recall: 0.8359 - val_accuracy: 0.7795 - val_loss: 0.4801 - val_mse: 0.1556 - val_recall: 0.7523\n",
      "Epoch 122/1000\n",
      "\u001b[1m29/29\u001b[0m \u001b[32m━━━━━━━━━━━━━━━━━━━━\u001b[0m\u001b[37m\u001b[0m \u001b[1m0s\u001b[0m 922us/step - accuracy: 0.8670 - loss: 0.3545 - mse: 0.1051 - recall: 0.8500 - val_accuracy: 0.7806 - val_loss: 0.4798 - val_mse: 0.1555 - val_recall: 0.7546\n",
      "Epoch 123/1000\n",
      "\u001b[1m29/29\u001b[0m \u001b[32m━━━━━━━━━━━━━━━━━━━━\u001b[0m\u001b[37m\u001b[0m \u001b[1m0s\u001b[0m 793us/step - accuracy: 0.8642 - loss: 0.3576 - mse: 0.1062 - recall: 0.8441 - val_accuracy: 0.7784 - val_loss: 0.4800 - val_mse: 0.1556 - val_recall: 0.7500\n",
      "Epoch 124/1000\n",
      "\u001b[1m29/29\u001b[0m \u001b[32m━━━━━━━━━━━━━━━━━━━━\u001b[0m\u001b[37m\u001b[0m \u001b[1m0s\u001b[0m 796us/step - accuracy: 0.8781 - loss: 0.3471 - mse: 0.1012 - recall: 0.8507 - val_accuracy: 0.7773 - val_loss: 0.4800 - val_mse: 0.1556 - val_recall: 0.7500\n",
      "Epoch 125/1000\n",
      "\u001b[1m29/29\u001b[0m \u001b[32m━━━━━━━━━━━━━━━━━━━━\u001b[0m\u001b[37m\u001b[0m \u001b[1m0s\u001b[0m 805us/step - accuracy: 0.8667 - loss: 0.3467 - mse: 0.1020 - recall: 0.8512 - val_accuracy: 0.7773 - val_loss: 0.4800 - val_mse: 0.1556 - val_recall: 0.7500\n",
      "Epoch 126/1000\n",
      "\u001b[1m29/29\u001b[0m \u001b[32m━━━━━━━━━━━━━━━━━━━━\u001b[0m\u001b[37m\u001b[0m \u001b[1m0s\u001b[0m 797us/step - accuracy: 0.8597 - loss: 0.3520 - mse: 0.1043 - recall: 0.8341 - val_accuracy: 0.7751 - val_loss: 0.4800 - val_mse: 0.1556 - val_recall: 0.7477\n",
      "Epoch 127/1000\n",
      "\u001b[1m29/29\u001b[0m \u001b[32m━━━━━━━━━━━━━━━━━━━━\u001b[0m\u001b[37m\u001b[0m \u001b[1m0s\u001b[0m 767us/step - accuracy: 0.8528 - loss: 0.3545 - mse: 0.1060 - recall: 0.8274 - val_accuracy: 0.7751 - val_loss: 0.4800 - val_mse: 0.1556 - val_recall: 0.7477\n",
      "Epoch 128/1000\n",
      "\u001b[1m29/29\u001b[0m \u001b[32m━━━━━━━━━━━━━━━━━━━━\u001b[0m\u001b[37m\u001b[0m \u001b[1m0s\u001b[0m 791us/step - accuracy: 0.8781 - loss: 0.3370 - mse: 0.0981 - recall: 0.8664 - val_accuracy: 0.7751 - val_loss: 0.4799 - val_mse: 0.1556 - val_recall: 0.7477\n",
      "Epoch 129/1000\n",
      "\u001b[1m29/29\u001b[0m \u001b[32m━━━━━━━━━━━━━━━━━━━━\u001b[0m\u001b[37m\u001b[0m \u001b[1m0s\u001b[0m 793us/step - accuracy: 0.8663 - loss: 0.3385 - mse: 0.0998 - recall: 0.8495 - val_accuracy: 0.7762 - val_loss: 0.4799 - val_mse: 0.1556 - val_recall: 0.7477\n",
      "Epoch 130/1000\n",
      "\u001b[1m29/29\u001b[0m \u001b[32m━━━━━━━━━━━━━━━━━━━━\u001b[0m\u001b[37m\u001b[0m \u001b[1m0s\u001b[0m 785us/step - accuracy: 0.8668 - loss: 0.3469 - mse: 0.1022 - recall: 0.8327 - val_accuracy: 0.7751 - val_loss: 0.4800 - val_mse: 0.1556 - val_recall: 0.7477\n",
      "Epoch 131/1000\n",
      "\u001b[1m29/29\u001b[0m \u001b[32m━━━━━━━━━━━━━━━━━━━━\u001b[0m\u001b[37m\u001b[0m \u001b[1m0s\u001b[0m 791us/step - accuracy: 0.8773 - loss: 0.3323 - mse: 0.0965 - recall: 0.8609 - val_accuracy: 0.7751 - val_loss: 0.4801 - val_mse: 0.1557 - val_recall: 0.7477\n",
      "Epoch 132/1000\n",
      "\u001b[1m29/29\u001b[0m \u001b[32m━━━━━━━━━━━━━━━━━━━━\u001b[0m\u001b[37m\u001b[0m \u001b[1m0s\u001b[0m 768us/step - accuracy: 0.8617 - loss: 0.3519 - mse: 0.1050 - recall: 0.8449 - val_accuracy: 0.7762 - val_loss: 0.4801 - val_mse: 0.1557 - val_recall: 0.7477\n",
      "Epoch 133/1000\n",
      "\u001b[1m29/29\u001b[0m \u001b[32m━━━━━━━━━━━━━━━━━━━━\u001b[0m\u001b[37m\u001b[0m \u001b[1m0s\u001b[0m 807us/step - accuracy: 0.8644 - loss: 0.3469 - mse: 0.1028 - recall: 0.8505 - val_accuracy: 0.7762 - val_loss: 0.4801 - val_mse: 0.1556 - val_recall: 0.7477\n",
      "Epoch 134/1000\n",
      "\u001b[1m29/29\u001b[0m \u001b[32m━━━━━━━━━━━━━━━━━━━━\u001b[0m\u001b[37m\u001b[0m \u001b[1m0s\u001b[0m 790us/step - accuracy: 0.8775 - loss: 0.3450 - mse: 0.1015 - recall: 0.8586 - val_accuracy: 0.7762 - val_loss: 0.4801 - val_mse: 0.1557 - val_recall: 0.7477\n",
      "Epoch 135/1000\n",
      "\u001b[1m29/29\u001b[0m \u001b[32m━━━━━━━━━━━━━━━━━━━━\u001b[0m\u001b[37m\u001b[0m \u001b[1m0s\u001b[0m 793us/step - accuracy: 0.8602 - loss: 0.3472 - mse: 0.1029 - recall: 0.8492 - val_accuracy: 0.7762 - val_loss: 0.4802 - val_mse: 0.1557 - val_recall: 0.7477\n",
      "Epoch 136/1000\n",
      "\u001b[1m29/29\u001b[0m \u001b[32m━━━━━━━━━━━━━━━━━━━━\u001b[0m\u001b[37m\u001b[0m \u001b[1m0s\u001b[0m 771us/step - accuracy: 0.8748 - loss: 0.3410 - mse: 0.1004 - recall: 0.8471 - val_accuracy: 0.7762 - val_loss: 0.4803 - val_mse: 0.1557 - val_recall: 0.7477\n",
      "Epoch 137/1000\n",
      "\u001b[1m29/29\u001b[0m \u001b[32m━━━━━━━━━━━━━━━━━━━━\u001b[0m\u001b[37m\u001b[0m \u001b[1m0s\u001b[0m 779us/step - accuracy: 0.8658 - loss: 0.3450 - mse: 0.1023 - recall: 0.8444 - val_accuracy: 0.7762 - val_loss: 0.4804 - val_mse: 0.1557 - val_recall: 0.7477\n",
      "Epoch 138/1000\n",
      "\u001b[1m29/29\u001b[0m \u001b[32m━━━━━━━━━━━━━━━━━━━━\u001b[0m\u001b[37m\u001b[0m \u001b[1m0s\u001b[0m 777us/step - accuracy: 0.8705 - loss: 0.3408 - mse: 0.1007 - recall: 0.8560 - val_accuracy: 0.7762 - val_loss: 0.4804 - val_mse: 0.1557 - val_recall: 0.7477\n",
      "Epoch 139/1000\n",
      "\u001b[1m29/29\u001b[0m \u001b[32m━━━━━━━━━━━━━━━━━━━━\u001b[0m\u001b[37m\u001b[0m \u001b[1m0s\u001b[0m 760us/step - accuracy: 0.8867 - loss: 0.3276 - mse: 0.0952 - recall: 0.8651 - val_accuracy: 0.7762 - val_loss: 0.4804 - val_mse: 0.1557 - val_recall: 0.7477\n",
      "Epoch 140/1000\n",
      "\u001b[1m29/29\u001b[0m \u001b[32m━━━━━━━━━━━━━━━━━━━━\u001b[0m\u001b[37m\u001b[0m \u001b[1m0s\u001b[0m 782us/step - accuracy: 0.8796 - loss: 0.3360 - mse: 0.0990 - recall: 0.8669 - val_accuracy: 0.7751 - val_loss: 0.4805 - val_mse: 0.1558 - val_recall: 0.7477\n"
     ]
    },
    {
     "name": "stdout",
     "output_type": "stream",
     "text": [
      "Epoch 141/1000\n",
      "\u001b[1m29/29\u001b[0m \u001b[32m━━━━━━━━━━━━━━━━━━━━\u001b[0m\u001b[37m\u001b[0m \u001b[1m0s\u001b[0m 790us/step - accuracy: 0.8784 - loss: 0.3321 - mse: 0.0972 - recall: 0.8618 - val_accuracy: 0.7751 - val_loss: 0.4806 - val_mse: 0.1558 - val_recall: 0.7477\n",
      "Epoch 142/1000\n",
      "\u001b[1m29/29\u001b[0m \u001b[32m━━━━━━━━━━━━━━━━━━━━\u001b[0m\u001b[37m\u001b[0m \u001b[1m0s\u001b[0m 801us/step - accuracy: 0.8802 - loss: 0.3360 - mse: 0.0988 - recall: 0.8663 - val_accuracy: 0.7751 - val_loss: 0.4807 - val_mse: 0.1558 - val_recall: 0.7477\n"
     ]
    }
   ],
   "source": [
    "history = nn.model.fit(\n",
    "    x=X_train, \n",
    "    y=y_train,\n",
    "    batch_size=64,\n",
    "    epochs=1000,\n",
    "    verbose=1,\n",
    "    validation_data=(X_val, y_val),\n",
    "    shuffle=True,\n",
    "    callbacks=[tensorflow.keras.callbacks.EarlyStopping(\n",
    "    restore_best_weights=True,\n",
    "    patience=20\n",
    "        )]\n",
    ")"
   ]
  },
  {
   "cell_type": "code",
   "execution_count": 16,
   "metadata": {
    "colab": {
     "base_uri": "https://localhost:8080/",
     "height": 295
    },
    "id": "to8ynCJUB1QC",
    "outputId": "cbe47f19-fa3e-44e4-ac78-8d6c2a21643a"
   },
   "outputs": [
    {
     "data": {
      "image/png": "[encoded data removed]",
      "text/plain": [
       "<Figure size 640x480 with 1 Axes>"
      ]
     },
     "metadata": {},
     "output_type": "display_data"
    }
   ],
   "source": [
    "plt.title('Accuracy during training')\n",
    "plt.plot(range(len(history.history['loss'])), history.history['accuracy'], label='training accuracy', color='green')\n",
    "plt.plot(range(len(history.history['loss'])), history.history['val_accuracy'], label='validation accuracy', color='red')\n",
    "plt.grid(color='gray', linewidth=.4)\n",
    "\n",
    "plt.legend(loc=\"lower right\")\n",
    "plt.xlabel(\"epochs\")\n",
    "plt.ylabel(\"accuracy\")\n",
    "plt.xlim(0, len(history.history['loss'])+1)\n",
    "plt.ylim(.45, 1.)\n",
    "plt.savefig('acc.png')"
   ]
  },
  {
   "cell_type": "code",
   "execution_count": 17,
   "metadata": {
    "colab": {
     "base_uri": "https://localhost:8080/",
     "height": 295
    },
    "id": "L2gFo_gLB4Dc",
    "outputId": "60eb7c90-3290-4006-f55e-dd22d3c2bf56"
   },
   "outputs": [
    {
     "data": {
      "image/png": "[encoded data removed]",
      "text/plain": [
       "<Figure size 640x480 with 1 Axes>"
      ]
     },
     "metadata": {},
     "output_type": "display_data"
    }
   ],
   "source": [
    "plt.title('Loss during training')\n",
    "plt.plot(range(len(history.history['loss'])), history.history['loss'], label='training loss', color='green')\n",
    "plt.plot(range(len(history.history['loss'])), history.history['val_loss'], label='validation loss', color='red')\n",
    "plt.grid(color='gray', linewidth=.4)\n",
    "\n",
    "plt.legend(loc=\"upper right\")\n",
    "plt.xlabel(\"epochs\")\n",
    "plt.ylabel(\"loss\")\n",
    "plt.savefig('loss.png')"
   ]
  },
  {
   "cell_type": "code",
   "execution_count": 18,
   "metadata": {
    "colab": {
     "base_uri": "https://localhost:8080/"
    },
    "id": "k3zkL_DUB52B",
    "outputId": "8a4bc362-fadd-4bf3-fc22-66b9a80dceab"
   },
   "outputs": [
    {
     "name": "stdout",
     "output_type": "stream",
     "text": [
      "\u001b[1m29/29\u001b[0m \u001b[32m━━━━━━━━━━━━━━━━━━━━\u001b[0m\u001b[37m\u001b[0m \u001b[1m0s\u001b[0m 281us/step - accuracy: 0.7469 - loss: 0.5177 - mse: 0.1726 - recall: 0.7003\n"
     ]
    },
    {
     "data": {
      "text/plain": [
       "[0.5166293978691101,\n",
       " 0.7497243881225586,\n",
       " 0.17164233326911926,\n",
       " 0.7199124693870544]"
      ]
     },
     "execution_count": 18,
     "metadata": {},
     "output_type": "execute_result"
    }
   ],
   "source": [
    "nn.model.evaluate(x=X_test, y=y_test)"
   ]
  },
  {
   "cell_type": "code",
   "execution_count": 19,
   "metadata": {
    "id": "49fcjVFUB79k"
   },
   "outputs": [
    {
     "name": "stderr",
     "output_type": "stream",
     "text": [
      "WARNING:absl:You are saving your model as an HDF5 file via `model.save()` or `keras.saving.save_model(model)`. This file format is considered legacy. We recommend using instead the native Keras format, e.g. `model.save('my_model.keras')` or `keras.saving.save_model(model, 'my_model.keras')`. \n"
     ]
    }
   ],
   "source": [
    "nn.model.save('vcm.h5')"
   ]
  },
  {
   "cell_type": "markdown",
   "metadata": {
    "id": "57LZ_fI59-Tk"
   },
   "source": [
    "### Check performace on negative and positive classes"
   ]
  },
  {
   "cell_type": "code",
   "execution_count": 20,
   "metadata": {
    "colab": {
     "base_uri": "https://localhost:8080/",
     "height": 0
    },
    "id": "vVhjh964zo0i",
    "outputId": "2a867053-d51e-4f8e-dade-75adf4495f1d"
   },
   "outputs": [
    {
     "data": {
      "text/plain": [
       "\"\\npos_dataset_test = [[] for array in range(len(datasets_test))]\\nfor array in range(len(datasets_test)):\\n    for item, i in zip(datasets_test[array], y_test):\\n        if i == 1:\\n            pos_dataset_test[array].append(list(item))\\nfor i in range(5):\\n    pos_dataset_test[i]=numpy.array(pos_dataset_test[i])\\ny_pos_test = numpy.array([1. for _ in range(len(pos_dataset_test[0]))])\\n\\nneg_dataset_test = [[] for array in range(len(datasets_test))]\\nfor array in range(len(datasets_test)):\\n    for item, i in zip(datasets_test[array], y_test):\\n        if i == 0:\\n            neg_dataset_test[array].append(list(item))\\nfor i in range(5):\\n    neg_dataset_test[i]=numpy.array(neg_dataset_test[i])\\ny_neg_test = numpy.array([0. for _ in range(len(neg_dataset_test[0]))])\\n\\npos_perf = nn.model.evaluate(x=pos_dataset_test, y=y_pos_test)\\nneg_perf = nn.model.evaluate(x=neg_dataset_test, y=y_neg_test)\\nprint('Accuracy on POSITIVE classes:', pos_perf[1])\\nprint('Accuracy on NEGATIVE classes:', neg_perf[1])\\n\\n\""
      ]
     },
     "execution_count": 20,
     "metadata": {},
     "output_type": "execute_result"
    }
   ],
   "source": [
    "'''\n",
    "pos_dataset_test = [[] for array in range(len(datasets_test))]\n",
    "for array in range(len(datasets_test)):\n",
    "    for item, i in zip(datasets_test[array], y_test):\n",
    "        if i == 1:\n",
    "            pos_dataset_test[array].append(list(item))\n",
    "for i in range(5):\n",
    "    pos_dataset_test[i]=numpy.array(pos_dataset_test[i])\n",
    "y_pos_test = numpy.array([1. for _ in range(len(pos_dataset_test[0]))])\n",
    "\n",
    "neg_dataset_test = [[] for array in range(len(datasets_test))]\n",
    "for array in range(len(datasets_test)):\n",
    "    for item, i in zip(datasets_test[array], y_test):\n",
    "        if i == 0:\n",
    "            neg_dataset_test[array].append(list(item))\n",
    "for i in range(5):\n",
    "    neg_dataset_test[i]=numpy.array(neg_dataset_test[i])\n",
    "y_neg_test = numpy.array([0. for _ in range(len(neg_dataset_test[0]))])\n",
    "\n",
    "pos_perf = nn.model.evaluate(x=pos_dataset_test, y=y_pos_test)\n",
    "neg_perf = nn.model.evaluate(x=neg_dataset_test, y=y_neg_test)\n",
    "print('Accuracy on POSITIVE classes:', pos_perf[1])\n",
    "print('Accuracy on NEGATIVE classes:', neg_perf[1])\n",
    "\n",
    "'''"
   ]
  },
  {
   "cell_type": "code",
   "execution_count": 46,
   "metadata": {},
   "outputs": [
    {
     "name": "stdout",
     "output_type": "stream",
     "text": [
      "\u001b[1m29/29\u001b[0m \u001b[32m━━━━━━━━━━━━━━━━━━━━\u001b[0m\u001b[37m\u001b[0m \u001b[1m0s\u001b[0m 571us/step\n"
     ]
    }
   ],
   "source": [
    "# Evaluate prediction distributions\n",
    "predictions = nn.model.predict(X_test)\n",
    "ground_truth = y_test"
   ]
  },
  {
   "cell_type": "code",
   "execution_count": 47,
   "metadata": {},
   "outputs": [],
   "source": [
    "# get true and false negative and positives\n",
    "results = numpy.c_[predictions, ground_truth]\n",
    "TP = results[numpy.where(((results[:,1] == 1) & (results[:,0] > .50)))]\n",
    "TN = results[numpy.where((results[:,1] == 0) & (results[:,0] < .50))]\n",
    "FP = results[numpy.where(((results[:,1] == 0) & (results[:,0] > .50)))]\n",
    "FN = results[numpy.where((results[:,1] == 1) & (results[:,0] < .50))]"
   ]
  },
  {
   "cell_type": "code",
   "execution_count": 48,
   "metadata": {},
   "outputs": [
    {
     "data": {
      "image/png": "[encoded data removed]",
      "text/plain": [
       "<Figure size 900x500 with 1 Axes>"
      ]
     },
     "metadata": {},
     "output_type": "display_data"
    }
   ],
   "source": [
    "plt.figure(figsize=[9,5])\n",
    "plt.hist(numpy.append(TP[:,0], TN[:,0]), bins=20, alpha=0.5, label = 'True positives and True negatives')\n",
    "plt.hist(numpy.append(FP[:,0], FN[:,0]), bins=20, alpha=0.5, label = 'False positives and False negatives')\n",
    "plt.xticks(numpy.arange(0, 1.05, step=0.05))\n",
    "plt.legend()\n",
    "plt.title('Virulent predictions on test set')\n",
    "plt.xlabel('Predicted value')\n",
    "plt.show()"
   ]
  },
  {
   "cell_type": "code",
   "execution_count": 49,
   "metadata": {},
   "outputs": [
    {
     "name": "stdout",
     "output_type": "stream",
     "text": [
      "Accuracy: 0.5633958103638368\n",
      "Sensitivity (Recall): 0.5973741794310722\n",
      "Precision: 0.5628865979381443\n",
      "F1-score: 0.5796178343949044\n",
      "False Positive Rate (FPR): 0.4711111111111111\n",
      "False Negative Rate (FNR): 0.4026258205689278\n",
      "True Negative Rate (TNR): 0.5288888888888889\n",
      "False Discovery Rate (FDR): 0.43711340206185567\n",
      "True Positive Rate (FDR): 0.5973741794310722\n",
      "Negative Predictive Value (NPV): 0.5639810426540285\n"
     ]
    }
   ],
   "source": [
    "accuracy = (len(TP) + len(TN)) / len(results)\n",
    "sensitivity = len(TP) / (len(TP) + len(FN))\n",
    "precision = len(TP) / (len(TP) + len(FP))\n",
    "f1_score = 2 * (precision * sensitivity) / (precision + sensitivity)\n",
    "FPR = len(FP) / (len(FP) + len(TN))\n",
    "FNR = len(FN)/ (len(TP)+len(FN))\n",
    "TNR = len(TN)/(len(TN)+len(FP))\n",
    "FDR = len(FP)/(len(FP)+len(TP))\n",
    "TPR = len(TP)/(len(TP)+len(FN))\n",
    "NPV = len(TN)/(len(TN)+len(FN))\n",
    "\n",
    "print(\"Accuracy:\", accuracy)\n",
    "print(\"Sensitivity (Recall):\", sensitivity)\n",
    "print(\"Precision:\", precision)\n",
    "print(\"F1-score:\", f1_score)\n",
    "print(\"False Positive Rate (FPR):\", FPR)\n",
    "print(\"False Negative Rate (FNR):\", FNR)\n",
    "print(\"True Negative Rate (TNR):\", TNR)\n",
    "print(\"False Discovery Rate (FDR):\", FDR)\n",
    "print(\"True Positive Rate (FDR):\", TPR)\n",
    "print(\"Negative Predictive Value (NPV):\", NPV)\n"
   ]
  },
  {
   "cell_type": "code",
   "execution_count": 50,
   "metadata": {},
   "outputs": [],
   "source": [
    "from sklearn.metrics import confusion_matrix\n",
    "\n",
    "y_pred_class = predictions > 0.51\n",
    "cm = confusion_matrix(ground_truth, y_pred_class)\n",
    "TN, FP, FN, TP = cm.ravel()"
   ]
  },
  {
   "cell_type": "code",
   "execution_count": 51,
   "metadata": {},
   "outputs": [
    {
     "data": {
      "text/plain": [
       "array([[264, 186],\n",
       "       [200, 257]])"
      ]
     },
     "execution_count": 51,
     "metadata": {},
     "output_type": "execute_result"
    }
   ],
   "source": [
    "cm"
   ]
  },
  {
   "cell_type": "code",
   "execution_count": 52,
   "metadata": {},
   "outputs": [
    {
     "data": {
      "text/plain": [
       "array([264, 186, 200, 257])"
      ]
     },
     "execution_count": 52,
     "metadata": {},
     "output_type": "execute_result"
    }
   ],
   "source": [
    "cm.ravel()"
   ]
  },
  {
   "cell_type": "code",
   "execution_count": 53,
   "metadata": {},
   "outputs": [],
   "source": [
    "import numpy as np\n",
    "from sklearn import metrics\n",
    "from sklearn.metrics import accuracy_score, precision_score, recall_score, f1_score\n",
    "from sklearn.metrics import classification_report\n",
    "import matplotlib.pyplot as plt\n",
    "import seaborn as sns"
   ]
  },
  {
   "cell_type": "code",
   "execution_count": 54,
   "metadata": {},
   "outputs": [],
   "source": [
    "confusion_matrix = metrics.confusion_matrix(ground_truth, y_pred_class)"
   ]
  },
  {
   "cell_type": "code",
   "execution_count": 55,
   "metadata": {},
   "outputs": [],
   "source": [
    "cm_display = metrics.ConfusionMatrixDisplay(confusion_matrix = confusion_matrix, display_labels = [\"not vir\", \"vir\"])"
   ]
  },
  {
   "cell_type": "code",
   "execution_count": 56,
   "metadata": {},
   "outputs": [
    {
     "data": {
      "image/png": "[encoded data removed]",
      "text/plain": [
       "<Figure size 640x480 with 2 Axes>"
      ]
     },
     "metadata": {},
     "output_type": "display_data"
    }
   ],
   "source": [
    "cm_display.plot(cmap='Blues')\n",
    "plt.show()"
   ]
  },
  {
   "cell_type": "code",
   "execution_count": 57,
   "metadata": {},
   "outputs": [
    {
     "name": "stdout",
     "output_type": "stream",
     "text": [
      "Numero di valori uguali a 1: 457\n",
      "Numero di valori uguali a 0: 450\n"
     ]
    }
   ],
   "source": [
    "num_ones = np.count_nonzero(ground_truth == 1)\n",
    "num_zeros = np.count_nonzero(ground_truth == 0)\n",
    "\n",
    "print(\"Numero di valori uguali a 1:\", num_ones)\n",
    "print(\"Numero di valori uguali a 0:\", num_zeros)"
   ]
  },
  {
   "cell_type": "code",
   "execution_count": 58,
   "metadata": {},
   "outputs": [
    {
     "data": {
      "text/plain": [
       "450"
      ]
     },
     "execution_count": 58,
     "metadata": {},
     "output_type": "execute_result"
    }
   ],
   "source": [
    "sum(ground_truth==0)"
   ]
  },
  {
   "cell_type": "code",
   "execution_count": 59,
   "metadata": {},
   "outputs": [
    {
     "name": "stdout",
     "output_type": "stream",
     "text": [
      "                           Metrica    Valore\n",
      "0                         Accuracy  0.750827\n",
      "1             Sensitivity (Recall)  0.724289\n",
      "2                        Precision  0.767981\n",
      "3                         F1-score  0.745495\n",
      "4        False Positive Rate (FPR)  0.222222\n",
      "5        False Negative Rate (FNR)  0.275711\n",
      "6         True Negative Rate (TNR)  0.777778\n",
      "7       False Discovery Rate (FDR)  0.232019\n",
      "8         True Positive Rate (FDR)  0.724289\n",
      "9  Negative Predictive Value (NPV)  0.735294\n"
     ]
    }
   ],
   "source": [
    "import pandas as pd\n",
    "\n",
    "# Creazione del dizionario contenente le metriche\n",
    "metrics_dict = {\n",
    "    \"Metrica\": [\"Accuracy\", \"Sensitivity (Recall)\", \"Precision\", \"F1-score\", \n",
    "                \"False Positive Rate (FPR)\", \"False Negative Rate (FNR)\",\n",
    "                \"True Negative Rate (TNR)\", \"False Discovery Rate (FDR)\",\n",
    "                \"True Positive Rate (FDR)\", \"Negative Predictive Value (NPV)\"],\n",
    "    \"Valore\": [0.7508269018743109, 0.7242888402625821, 0.7679814385150812, 0.7454954954954955,\n",
    "               0.2222222222222222, 0.27571115973741794, 0.7777777777777778, 0.23201856148491878,\n",
    "               0.7242888402625821, 0.7352941176470589]\n",
    "}\n",
    "\n",
    "# Creazione del DataFrame pandas\n",
    "metrics_df = pd.DataFrame(metrics_dict)\n",
    "\n",
    "# Stampa del DataFrame\n",
    "print(metrics_df)\n",
    "\n",
    "# Salvataggio del DataFrame in un file CSV\n",
    "metrics_df.to_csv(\"metrics_vir050.csv\", index=False)\n"
   ]
  },
  {
   "cell_type": "code",
   "execution_count": null,
   "metadata": {},
   "outputs": [],
   "source": []
  }
 ],
 "metadata": {
  "colab": {
   "collapsed_sections": [
    "5_qRAUKplhNa",
    "57LZ_fI59-Tk"
   ],
   "provenance": []
  },
  "kernelspec": {
   "display_name": "Python 3 (ipykernel)",
   "language": "python",
   "name": "python3"
  },
  "language_info": {
   "codemirror_mode": {
    "name": "ipython",
    "version": 3
   },
   "file_extension": ".py",
   "mimetype": "text/x-python",
   "name": "python",
   "nbconvert_exporter": "python",
   "pygments_lexer": "ipython3",
   "version": "3.11.5"
  }
 },
 "nbformat": 4,
 "nbformat_minor": 1
}
