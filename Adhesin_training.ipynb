{
 "cells": [
  {
   "cell_type": "markdown",
   "metadata": {
    "id": "0n7PxHqkaz62"
   },
   "source": [
    "# Adhesin Classification"
   ]
  },
  {
   "cell_type": "code",
   "execution_count": 26,
   "metadata": {
    "id": "PWVGuYECU5Re"
   },
   "outputs": [],
   "source": [
    "import numpy as np\n",
    "import tensorflow\n",
    "from tensorflow import keras\n",
    "import matplotlib.pyplot as plt\n",
    "from Bio import SeqIO\n",
    "\n",
    "np.random.seed(990)"
   ]
  },
  {
   "cell_type": "markdown",
   "metadata": {
    "id": "VEeoI6ARa3dL"
   },
   "source": [
    "## Compute features from sequences using iFeature"
   ]
  },
  {
   "cell_type": "code",
   "execution_count": 27,
   "metadata": {
    "colab": {
     "base_uri": "https://localhost:8080/",
     "height": 178
    },
    "id": "pzEvZQh1U7s9",
    "outputId": "04247103-8e60-4cae-a9c9-951d40b0b895"
   },
   "outputs": [
    {
     "data": {
      "text/plain": [
       "'\\n# put the right path\\n!python iFeature/iFeature.py --file ./spaan/data/25_similarity/positive/adhesins.fasta --type AAC --out aac_cleaned_pos.out    # amino acids composition\\n!python iFeature/iFeature.py --file ./spaan/data/25_similarity/positive/adhesins.fasta --type DPC --out dpc_cleaned_pos.out    # dipeptide composition\\n!python iFeature/iFeature.py --file ./spaan/data/25_similarity/positive/adhesins.fasta --type CTDC --out ctdc_cleaned_pos.out  # composition\\n!python iFeature/iFeature.py --file ./spaan/data/25_similarity/positive/adhesins.fasta --type CTDT --out ctdt_cleaned_pos.out  # transition\\n!python iFeature/iFeature.py --file ./spaan/data/25_similarity/positive/adhesins.fasta --type CTDD --out ctdd_cleaned_pos.out  # distribution\\n\\nprint(\"pos: DONE!\")\\n\\n!python iFeature/iFeature.py --file ./spaan/data/25_similarity/negative/non_adhesins.fasta --type AAC --out aac_cleaned_neg.out    # amino acids composition\\n!python iFeature/iFeature.py --file ./spaan/data/25_similarity/negative/non_adhesins.fasta --type DPC --out dpc_cleaned_neg.out    # dipeptide composition\\n!python iFeature/iFeature.py --file ./spaan/data/25_similarity/negative/non_adhesins.fasta --type CTDC --out ctdc_cleaned_neg.out  # composition\\n!python iFeature/iFeature.py --file ./spaan/data/25_similarity/negative/non_adhesins.fasta --type CTDT --out ctdt_cleaned_neg.out  # transition\\n!python iFeature/iFeature.py --file ./spaan/data/25_similarity/negative/non_adhesins.fasta --type CTDD --out ctdd_cleaned_neg.out  # distribution\\n\\nprint(\"neg: DONE!\")\\n'"
      ]
     },
     "execution_count": 27,
     "metadata": {},
     "output_type": "execute_result"
    }
   ],
   "source": [
    "'''\n",
    "# put the right path\n",
    "!python iFeature/iFeature.py --file ./spaan/data/25_similarity/positive/adhesins.fasta --type AAC --out aac_cleaned_pos.out    # amino acids composition\n",
    "!python iFeature/iFeature.py --file ./spaan/data/25_similarity/positive/adhesins.fasta --type DPC --out dpc_cleaned_pos.out    # dipeptide composition\n",
    "!python iFeature/iFeature.py --file ./spaan/data/25_similarity/positive/adhesins.fasta --type CTDC --out ctdc_cleaned_pos.out  # composition\n",
    "!python iFeature/iFeature.py --file ./spaan/data/25_similarity/positive/adhesins.fasta --type CTDT --out ctdt_cleaned_pos.out  # transition\n",
    "!python iFeature/iFeature.py --file ./spaan/data/25_similarity/positive/adhesins.fasta --type CTDD --out ctdd_cleaned_pos.out  # distribution\n",
    "\n",
    "print(\"pos: DONE!\")\n",
    "\n",
    "!python iFeature/iFeature.py --file ./spaan/data/25_similarity/negative/non_adhesins.fasta --type AAC --out aac_cleaned_neg.out    # amino acids composition\n",
    "!python iFeature/iFeature.py --file ./spaan/data/25_similarity/negative/non_adhesins.fasta --type DPC --out dpc_cleaned_neg.out    # dipeptide composition\n",
    "!python iFeature/iFeature.py --file ./spaan/data/25_similarity/negative/non_adhesins.fasta --type CTDC --out ctdc_cleaned_neg.out  # composition\n",
    "!python iFeature/iFeature.py --file ./spaan/data/25_similarity/negative/non_adhesins.fasta --type CTDT --out ctdt_cleaned_neg.out  # transition\n",
    "!python iFeature/iFeature.py --file ./spaan/data/25_similarity/negative/non_adhesins.fasta --type CTDD --out ctdd_cleaned_neg.out  # distribution\n",
    "\n",
    "print(\"neg: DONE!\")\n",
    "'''"
   ]
  },
  {
   "cell_type": "code",
   "execution_count": 28,
   "metadata": {
    "id": "IYbll8nFWFeB"
   },
   "outputs": [],
   "source": [
    "def from_files_to_vectors(fasta_path, positive=True):\n",
    "    if positive:\n",
    "        proteins = list(SeqIO.parse(fasta_path+'adhesins.fasta', \"fasta\"))\n",
    "    else:\n",
    "        proteins = list(SeqIO.parse(fasta_path+'non_adhesins.fasta', \"fasta\"))\n",
    "    extension = \".out\"\n",
    "    files = [\"aac\", \"dpc\", \"ctdc\", \"ctdt\", \"ctdd\"]\n",
    "    if positive:\n",
    "        names = \"_pos\"\n",
    "    else:\n",
    "        names = \"_neg\"\n",
    "    for i in range(len(files)):\n",
    "        files[i] += names\n",
    "    datasets = [[] for el in files]\n",
    "    for i in range(len(files)):\n",
    "        with open(fasta_path+files[i]+extension) as f:\n",
    "            lines = f.readlines()[1:]\n",
    "            check_prot = 0\n",
    "            for line in lines:\n",
    "                information = line.split('\\t')\n",
    "                if not information[0] == proteins[check_prot].id:\n",
    "                    print(\"Error in protein order! Return\")\n",
    "                    return datasets\n",
    "                datasets[i].append(np.array([float(el) for el in information[1:]]))\n",
    "                check_prot += 1\n",
    "        datasets[i] = np.array(datasets[i])\n",
    "    return datasets"
   ]
  },
  {
   "cell_type": "code",
   "execution_count": 29,
   "metadata": {
    "id": "UhhYXnkFd4f-"
   },
   "outputs": [],
   "source": [
    "# put the right path\n",
    "pos_datasets = from_files_to_vectors(\"./spaan/data/25_similarity/positive/\", positive=True)\n",
    "neg_datasets = from_files_to_vectors(\"./spaan/data/25_similarity/negative/\", positive=False)"
   ]
  },
  {
   "cell_type": "code",
   "execution_count": 30,
   "metadata": {
    "id": "ygAG4O2mbTqE"
   },
   "outputs": [],
   "source": [
    "y_pos = np.ones(pos_datasets[0].shape[0])\n",
    "y_neg = np.zeros(neg_datasets[0].shape[0])"
   ]
  },
  {
   "cell_type": "code",
   "execution_count": 31,
   "metadata": {
    "colab": {
     "base_uri": "https://localhost:8080/"
    },
    "id": "smNPp1kx8wjn",
    "outputId": "82b1c70f-7b49-4998-837b-e54a9ffefe5b"
   },
   "outputs": [
    {
     "name": "stdout",
     "output_type": "stream",
     "text": [
      "Adhesins: 3140\n",
      "NON Adhesins: 3710\n",
      "1 -th feature dim: 20\n",
      "2 -th feature dim: 400\n",
      "3 -th feature dim: 39\n",
      "4 -th feature dim: 39\n",
      "5 -th feature dim: 195\n",
      "Data matrix dimension: (6850, 693)\n"
     ]
    }
   ],
   "source": [
    "# attach datasets in order to obtain a matrix of (n, 20+400+39+39+195) features\n",
    "\n",
    "# keep in mind the number of adhesins and the number of not adhesins\n",
    "rows = 0\n",
    "n_pos = y_pos.shape[0]\n",
    "n_neg = y_neg.shape[0]\n",
    "rows = n_pos + n_neg\n",
    "print('Adhesins:', n_pos)\n",
    "print('NON Adhesins:', n_neg)\n",
    "\n",
    "# feature vectors dimensions\n",
    "columns = 0\n",
    "for i in range(len(pos_datasets)):\n",
    "    tmp_dim = pos_datasets[i].shape[1]\n",
    "    print(i+1, '-th feature dim:', tmp_dim)\n",
    "    columns += tmp_dim\n",
    "\n",
    "# data matrix to process\n",
    "X = np.zeros((rows, columns))\n",
    "print('Data matrix dimension:', X.shape)\n",
    "for i in range(n_pos):\n",
    "    X[i] = np.concatenate([pos_datasets[j][i] for j in range(5)])\n",
    "for i in range(n_neg):\n",
    "    X[n_pos+i] = np.concatenate([neg_datasets[j][i] for j in range(5)])"
   ]
  },
  {
   "cell_type": "code",
   "execution_count": 32,
   "metadata": {
    "id": "Le_qOBDQbtIR"
   },
   "outputs": [],
   "source": [
    "# permutation\n",
    "y = np.concatenate((y_pos, y_neg), axis=0)\n",
    "c = np.random.permutation(np.arange(y.shape[0]))\n",
    "y = y[c]\n",
    "X = X[c] "
   ]
  },
  {
   "cell_type": "code",
   "execution_count": 33,
   "metadata": {
    "id": "C6lIL92bil0D"
   },
   "outputs": [],
   "source": [
    "# we should remove outliers"
   ]
  },
  {
   "cell_type": "code",
   "execution_count": 34,
   "metadata": {
    "colab": {
     "base_uri": "https://localhost:8080/"
    },
    "id": "ux8mpZZwb-AD",
    "outputId": "5f81e2a0-fe6b-4346-8962-9181091ffb81"
   },
   "outputs": [
    {
     "name": "stdout",
     "output_type": "stream",
     "text": [
      "Training data shape: (3425, 693) (3425,)\n",
      "Validation data shape: (1712, 693) (1712,)\n",
      "Test data shape: (1713, 693) (1713,)\n",
      "\n",
      "Training adhesins and not-adhesins: 1598 1827\n",
      "Validation adhesins and not-adhesins: 746 966\n",
      "Test adhesins and not-adhesins: 796 917\n"
     ]
    }
   ],
   "source": [
    "# remember: standardization or scaling AFTER train-test split, otherwise there's data leakage!!!\n",
    "X_train = X[:int(X.shape[0]*.5)]\n",
    "X_val = X[int(X.shape[0]*.5):int(X.shape[0]*.75)]\n",
    "X_test = X[int(X.shape[0]*.75):]\n",
    "\n",
    "y_train = y[:int(y.shape[0]*.5)]\n",
    "y_val = y[int(y.shape[0]*.5):int(y.shape[0]*.75)]\n",
    "y_test = y[int(y.shape[0]*.75):]\n",
    "\n",
    "print('Training data shape:', X_train.shape, y_train.shape)\n",
    "print('Validation data shape:', X_val.shape, y_val.shape)\n",
    "print('Test data shape:', X_test.shape, y_test.shape)\n",
    "\n",
    "print('\\nTraining adhesins and not-adhesins:', int(sum(y_train)), int(y_train.shape[0]-sum(y_train)))\n",
    "print('Validation adhesins and not-adhesins:', int(sum(y_val)), int(y_val.shape[0]-sum(y_val)))\n",
    "print('Test adhesins and not-adhesins:', int(sum(y_test)), int(y_test.shape[0]-sum(y_test)))"
   ]
  },
  {
   "cell_type": "markdown",
   "metadata": {
    "id": "A3f7wcI98ukB"
   },
   "source": [
    "## PCA"
   ]
  },
  {
   "cell_type": "code",
   "execution_count": 35,
   "metadata": {
    "colab": {
     "base_uri": "https://localhost:8080/"
    },
    "id": "uos3QwWo9Mnt",
    "outputId": "61476efe-b3c5-4a8f-eefa-c917a08c4861"
   },
   "outputs": [
    {
     "name": "stdout",
     "output_type": "stream",
     "text": [
      "Before standardization:\n",
      "mean of the first column: 0.08563613920628796\n",
      "mean of the second column: 0.01013786208206454\n",
      "mean of the 451-th column: 0.10030911713991403\n",
      "After standardization:\n",
      "mean of the first column: -2.323526610368795e-16\n",
      "mean of the second column: 2.4894927968237086e-17\n",
      "mean of the 451-th column: -2.2301706304879057e-17\n"
     ]
    }
   ],
   "source": [
    "# standardize data\n",
    "# remember that test and validation data have to be standardized with training mean and std dev\n",
    "# https://stats.stackexchange.com/questions/174823/how-to-apply-standardization-normalization-to-train-and-testset-if-prediction-i\n",
    "\n",
    "# print some column vectors to check\n",
    "print('Before standardization:')\n",
    "print('mean of the first column:', np.mean(X_train[:,0]))\n",
    "print('mean of the second column:', np.mean(X_train[:,1]))\n",
    "print('mean of the 451-th column:', np.mean(X_train[:,450]))\n",
    "\n",
    "stdX = np.zeros(X_train.shape)\n",
    "stdX_val = np.zeros(X_val.shape)\n",
    "stdX_test = np.zeros(X_test.shape)\n",
    "\n",
    "means = np.zeros(X_train.shape[1])\n",
    "std_devs = np.zeros(X_train.shape[1])\n",
    "\n",
    "for j in range(X_train.shape[1]):\n",
    "    column = X_train[:,j]\n",
    "    means[j] = np.mean(column)\n",
    "    std_devs[j] = np.std(column)\n",
    "\n",
    "    stdX[:,j] = (column - means[j]) / std_devs[j]\n",
    "    stdX_val[:,j] = (X_val[:,j] - means[j]) / std_devs[j]\n",
    "    stdX_test[:,j] = (X_test[:,j] - means[j]) / std_devs[j]\n",
    "\n",
    "print('After standardization:')\n",
    "print('mean of the first column:', np.mean(stdX[:,0]))\n",
    "print('mean of the second column:', np.mean(stdX[:,1]))\n",
    "print('mean of the 451-th column:', np.mean(stdX[:,450]))\n",
    "\n",
    "np.save('mean', means)\n",
    "np.save('std', std_devs)"
   ]
  },
  {
   "cell_type": "code",
   "execution_count": 36,
   "metadata": {
    "id": "1rxxgMIFBCiy"
   },
   "outputs": [],
   "source": [
    "covariance_matrix = np.cov(stdX.T)"
   ]
  },
  {
   "cell_type": "code",
   "execution_count": 37,
   "metadata": {
    "id": "WP-_Lnn-ClUY"
   },
   "outputs": [],
   "source": [
    "# The covariance matrix is symmetric, and thus has real eigenvalues. You may see a small imaginary part in some eigenvalues due to numerical error. The imaginary parts can generally be ignored.\n",
    "# source: https://stackoverflow.com/questions/10420648/complex-eigen-values-in-pca-calculation\n",
    "\n",
    "eigen_values, eigen_vectors = np.linalg.eig(covariance_matrix)\n",
    "eigen_values = np.real(eigen_values)\n",
    "eigen_vectors = np.real(eigen_vectors)"
   ]
  },
  {
   "cell_type": "code",
   "execution_count": 38,
   "metadata": {
    "colab": {
     "base_uri": "https://localhost:8080/"
    },
    "id": "hTqYBNJ6CpPm",
    "outputId": "ee4ce8e4-3fa7-455f-842e-89b1e2dbd468"
   },
   "outputs": [
    {
     "name": "stdout",
     "output_type": "stream",
     "text": [
      "[7.207969857539394, 5.5591769744244806, 4.286083603075206, 3.5416290897356575, 3.204703807259368, 2.680337544081207, 1.7964853033258164, 1.4997106024529692, 1.4110630244277302, 1.3036943558780987, 1.0134836456401877, 0.977479426487575, 0.9326483953881307, 0.8928300748233355, 0.8672363969461041, 0.8210607342432378, 0.7871422477345418, 0.7549063312592033, 0.7150979170848257, 0.6748852641096867, 0.6523842516591135, 0.6182417664133572, 0.5914909559902239, 0.5801294023122471, 0.5624955087183882, 0.5363471826353415, 0.5294615847600248, 0.5124485775386113, 0.4956969666016103, 0.489857757367391, 0.45952004788286, 0.45329659755378776, 0.43772413915602837, 0.4267608673152629, 0.41354049226873046, 0.4102864316174985, 0.3924903741738815, 0.38073317340492757, 0.3583497581548481, 0.35517502374073906, 0.35089929928078256, 0.34192103744076835, 0.33755357317145684, 0.32739260138745546, 0.3216299379017567, 0.32042717239749086, 0.30987049937721767, 0.30622327510689795, 0.3021187737631595, 0.29913743935038367, 0.2896787995327733, 0.28527141711579324, 0.2817588480371392, 0.279389058484568, 0.27562985914732446, 0.27293408601852465, 0.26919979956952234, 0.2698594019086392, 0.26431620883026746, 0.26118450484913025, 0.2586109539630154, 0.25903525035074293, 0.25535176944043597, 0.25379804570143094, 0.25095308050491155, 0.24652378240049055, 0.24540041738625026, 0.2419501381479268, 0.2389209457403855, 0.23826021980287398, 0.23676332368514408, 0.2334542983887535, 0.23221073542733275, 0.23132346148482108, 0.2294382656542381, 0.22891504981646615, 0.22710007332607685, 0.2248737945539943, 0.22109709177562867, 0.22030022233440974, 0.21875520888468264, 0.21634022983389936, 0.21902334692693004, 0.21381554061823094, 0.21205812249679876, 0.21067067664921596, 0.20941442182105868, 0.20842961147419414, 0.2053920092493775, 0.20627527039301807, 0.20731007447858324, 0.2042415060136354, 0.20161340583063284, 0.20131333572294624, 0.1999965483718317, 0.19871193251788105, 0.19848230941368078, 0.19735332020289595, 0.1950521237506321, 0.19496721434748976, 0.19214875356414735, 0.19334865070524718, 0.19117995729506654, 0.18916738103542202, 0.19026213454246155, 0.17330510607519634, 0.18814807390499547, 0.18715887802905684, 0.17463292215661524, 0.18585051188997595, 0.18425068038164713, 0.17645838379027606, 0.17753034392657382, 0.17864986430591476, 0.18281464104195458, 0.17528855920417263, 0.18252322654041683, 0.18093083369458007, 0.18033868337793973, 0.17957001706480613, 0.18452877069414028, 0.17260846601334362, 0.17065749904311933, 0.17134052405338152, 0.1703590090288303, 0.16897198590868603, 0.16815080617059677, 0.16730241876971222, 0.1666984887097249, 0.16586726265964566, 0.16530798021779985, 0.1639718872250684, 0.16331216166684723, 0.16253687999177252, 0.1615456063734447, 0.16084678839243827, 0.16029047872618268, 0.15954611530002707, 0.15890358614956704, 0.15692938009031368, 0.15638660163244697, 0.1559352390846766, 0.15505578051042027, 0.15497452910409013, 0.15279271682129736, 0.1523979626395396, 0.1519264032417628, 0.15166757274528853, 0.1498237441843344, 0.1505129422279352, 0.15088226290603846, 0.14919643822008224, 0.14850147354474802, 0.13120138028134345, 0.14729869662165074, 0.14709932082529537, 0.13154196208320587, 0.13194924543977724, 0.1323682868122884, 0.13297987121474744, 0.1336359657417171, 0.14565229228672685, 0.13411618684562854, 0.14646738488254613, 0.14461873512303228, 0.14246045393664775, 0.13454023908070173, 0.14348273153077581, 0.14096909401328095, 0.1404143242309245, 0.1447680310749412, 0.14200358911557281, 0.13930003770727697, 0.14501561335259647, 0.1382712098380929, 0.13791440152222506, 0.13544336182780842, 0.1417731298627306, 0.13744826863674425, 0.1366897661773464, 0.1366013148301457, 0.13865321884203838, 0.13571196475308953, 0.1307044549825171, 0.12935586636691143, 0.11157391009442984, 0.1284997715728363, 0.1284207579205484, 0.1278148368482407, 0.1269975806523417, 0.11232124176739006, 0.11258968046373825, 0.11285063910911387, 0.11337132206642611, 0.12638662062586994, 0.11417348665509666, 0.11455734415087365, 0.11481251419807356, 0.12588780132562244, 0.12550216188639363, 0.12499894877622068, 0.12362963537975885, 0.12470339288141348, 0.1156076018843908, 0.11571162815274982, 0.12294918516424903, 0.11721998473453155, 0.11853005223352363, 0.12002937839778972, 0.11965784120790328, 0.12056865960883832, 0.12244803244848333, 0.12094511612794878, 0.11777808434220886, 0.1192714683412653, 0.12146058731322198, 0.12181328269525947, 0.11787850805996994, 0.11656816706000468, 0.12236987527742059, 0.09983314330687638, 0.09996766533289045, 0.10028371409943346, 0.10054951520015883, 0.1013127820384014, 0.10162858267330141, 0.10204473916866558, 0.1110132146048404, 0.11026179992427647, 0.11066104673317062, 0.10267715055956145, 0.10959923995849082, 0.10415441487359409, 0.10455970114272475, 0.10288940993774046, 0.10930653548648904, 0.10882757425108114, 0.10821684881620616, 0.10518773815178317, 0.10641314422197999, 0.10625228319535102, 0.10789180772645979, 0.1036746241707299, 0.1074492369439029, 0.10562824608342399, 0.10582671728615958, 0.10749003470896971, 0.10538901216012744, 0.09001768543421143, 0.09032934379392535, 0.09086841911996539, 0.09117373870392359, 0.09189731498194863, 0.09211252156985274, 0.09234108225091256, 0.09294349099264608, 0.0936772938752533, 0.09412976170574815, 0.09786550185730636, 0.0973501461868152, 0.09831778917626388, 0.09645120868415889, 0.09582254577877916, 0.09501068337292581, 0.09540667507180157, 0.09859719517978476, 0.0993004352060192, 0.09665388760284203, 0.09513577757763171, 0.09898445502711964, 0.09431028650801741, 0.08954394097838664, 0.08940548757093882, 0.08875193368207984, 0.08109142324000639, 0.08116121917843788, 0.08245634931134448, 0.0813132292193309, 0.08183624886392724, 0.08171244309315272, 0.08829467770704788, 0.08581542518454924, 0.08776764541692776, 0.08525277749861264, 0.08345091889845035, 0.08446662233583718, 0.08330041080103454, 0.08741775572233175, 0.08647881561341147, 0.08387312651071768, 0.08805077166045243, 0.0870802796145791, 0.08489532583268448, 0.08150953445472785, 0.08673933272329043, 0.0868248413486426, 0.08304748374012591, 0.07995569000656853, 0.0796190783108098, 0.07951358054599286, 0.07900675245393171, 0.07935365298031133, 0.07823259558719386, 0.0778115702169324, 0.0776127495514168, 0.07876772204514641, 0.07741364307338895, 0.07697610959972946, 0.07638380247462419, 0.07571746057625543, 0.07599888499852228, 0.07144260878030644, 0.07174476074055589, 0.07458647618029651, 0.0737612766711988, 0.07327375608918278, 0.0744567938780274, 0.07433788574864773, 0.07133912435751293, 0.07242781537622699, 0.07509158603853051, 0.0729484127069214, 0.07315971818379166, 0.07196552500741808, 0.0722262892976646, 0.07619401250281996, 0.07076408010161479, 0.06993062039051895, 0.06979071453466797, 0.06968551113706417, 0.06939653176126871, 0.06885194209919933, 0.06855301584916203, 0.06839500210584709, 0.06791490460634562, 0.06778420286756287, 0.03163660515175019, 0.03126501822295401, 0.03257335145457206, 0.02861942262224451, 0.02879839742477084, 0.027806891290240936, 0.029597189683583623, 0.030543606361373647, 0.033021805976336284, 0.03018510107812153, 0.02727027550616138, 0.026768748885171955, 0.03000029749316923, 0.03420148524734991, 0.02655395369344622, 0.03397201204503237, 0.026094616138451064, 0.025673606690359407, 0.03616144404323797, 0.03483970880865255, 0.025193200180826884, 0.02443142926014637, 0.035786070485631434, 0.02294044615980212, 0.036804567671631976, 0.023394595350977494, 0.023770204815073914, 0.03492461096793534, 0.06680671159347529, 0.02216177775797035, 0.03758182403355908, 0.03810295286238024, 0.037198787913197404, 0.02489480853554321, 0.022506447772110905, 0.0667549901867785, 0.023952211711597223, 0.03900589834332614, 0.01791050639008329, 0.02136398826199878, 0.018286902079987986, 0.0185367861060204, 0.018921668922498285, 0.020851356427298514, 0.02096873791005932, 0.019140574147123085, 0.019413956012339452, 0.019880906548173562, 0.02032431462307931, 0.020274084586121996, 0.039142157236651785, 0.039577004684600924, 0.0671368766919897, 0.06635067191293824, 0.04025506567107447, 0.040489389362502494, 0.06591689377183305, 0.0657046143067249, 0.06537744871980251, 0.04081637475731963, 0.0411932509664433, 0.04320435956424735, 0.04274011603407109, 0.041888992135011606, 0.04178325908055257, 0.0434832417630729, 0.04222315182441166, 0.06519682033985351, 0.06483555629441556, 0.0644662130547934, 0.0640965485025333, 0.06045794944815969, 0.06095247490489814, 0.061073183881721914, 0.0631098961108421, 0.06358826737946682, 0.06346072404023047, 0.06389782605529835, 0.06281039669851503, 0.0614858047874446, 0.06239664573904236, 0.0622561617604871, 0.06197900084985505, 0.06184087530050271, 0.017282971311642414, 0.017369264872687334, 0.016852154288480165, 0.043692187955274776, 0.044036654722273506, 0.04426696859902564, 0.0598534612577448, 0.05929563694190014, 0.05892398940242814, 0.058718161232456406, 0.060242819032421464, 0.05827487037561161, 0.01645687466704119, 0.04503574680582411, 0.05800973005330405, 0.05949408648946572, 0.016172837630466116, 0.05753015077484988, 0.016538690227300513, 0.015750112081854364, 0.015283847933148879, 0.014607630671337947, 0.012623981157157878, 0.015033654266295295, 0.014102806972438538, 0.01302268551970755, 0.014004062992611341, 0.012328571303386129, 0.013615260874950123, 0.013192372918725083, 0.05725508474385356, 0.04642177902702575, 0.04572958654987056, 0.014898097635642172, 0.013330370760849258, 0.011957050577552376, 0.011683417945271758, 0.0077334838958975005, 0.007899058861817222, 0.008006236876352178, 0.008253172273159429, 0.008654601818372461, 0.009053265830848522, 0.00965498887147587, 0.009753516928664984, 0.009991608589260438, 0.008956028612309777, 0.009306984223093567, 0.010159365063839677, 0.011414808742030439, 0.010627777403197473, 0.010731317100434526, 0.056529728119393885, 0.04561728425398303, 0.01089977614467906, 0.04649559288814313, 0.05704367660259489, 0.05667193366188191, 0.05616193014089592, 0.011027015817028285, 0.04727469523308069, 0.056031543392241735, 0.055505677537732986, 0.047771174620303586, 0.05522037761385427, 0.04705463343124357, 0.05459257452212481, 0.054798165875151746, 0.054072538111278365, 0.05026362791140448, 0.04974457515615255, 0.04915633175632938, 0.04695582266264758, 0.05356735335837445, 0.048356084103506676, 0.04864691406059997, 0.052727913473300594, 0.05386037707800932, 0.05315519492103346, 0.05055788418851738, 0.04880540502890308, 0.051125229025353755, 0.011051394924815924, 0.052035781665006164, 0.05323763958339184, 0.049515907533555635, 0.05178284693545686, 0.05096891960673313, 0.05184653697910633, 0.05161655955355245, 0.04845840783271464, 0.014774565412094993, 0.006583377399284404, 0.0066702098431462385, 0.007293591049594843, 0.007006188045548622, 0.007183822674733827, 0.0075209274234190986, 0.008824081413748526, 0.005817584627431845, 0.006382142195322227, 0.0061000343397686965, 0.006328318774434875, 0.005572384051740507, 0.005442703517324243, 0.006055339162940657, 0.0025559384315290137, 0.0026655721726936157, 0.00500735954762403, 0.005239912796861632, 0.005146621542064536, 0.003956269170316502, 0.0030584580527946363, 0.004741484550561327, 0.0029291612783935534, 0.002878353126149656, 0.004188920731825769, 0.0046481778119871675, 0.004223006545440502, 0.004625252060127419, 0.0033853376621436797, 0.0036286330862462133, 0.003592108122909568, 0.003282673582207766, 0.004426651638728791, 0.0019846364859155232, 0.0015061731225001786, 0.0014440737844892788, 0.002147374768546739, 0.0017047924962105725, 0.0018449038046537685, 0.002374543640710149, 0.002411541184048344, 0.0011299973242313694, 0.0008474121742899166, 0.0007152129062963126, 0.000360172930954291, 0.00032322576900107686, 0.00031874634392175676, 0.0002915197686580621, 0.00028695765731786123, 0.00027173877939326753, 0.0002520563779303061, 0.0002395232905717039, 0.00023534749651928221, 0.00022817868349768098, 0.00021735372570776321, 0.00020682190410540224, 0.00019604192448509892, 0.00017544535682884288, 0.00017015900316386473, 0.00015395808593836763, 0.00014711669569604535, 0.00013766651788077748, 0.00013062511003578844, 0.00011578731984445236, 0.0001066908494757072, 0.00010105166290783218, 5.7247329289467034e-05, 3.1044906119269084e-05, 1.2638205385043869e-05, 6.25993858728285e-06, 5.6226137942161425e-06, 5.0400580907300505e-06, 4.677603673577103e-06, 3.5037340343587773e-06, 3.2438371299979967e-06, 2.6234358653933987e-06, 2.538182714462837e-06, 2.0957653612575255e-06, 1.98709144722765e-06, 1.7531493429278704e-06, 1.6122420978303385e-06, 1.2382477674618164e-06, 1.213193011949279e-06, 1.056901727238088e-06, 8.555396432885995e-07, 7.165835376419053e-07, -3.064380011828701e-16, 2.5088691610424437e-16, 2.5088691610424437e-16, -2.464934799931451e-16, -2.464934799931451e-16, -1.8794607271751693e-16, -1.8794607271751693e-16, -6.675011412423814e-17, -6.675011412423814e-17, 2.0193556883080245e-16, 2.0193556883080245e-16, 1.9956373705283385e-16, -1.3207494623044208e-16, -1.3207494623044208e-16, -1.818338540952398e-16, 1.2907482195518422e-16, 1.2907482195518422e-16, 1.4358494629100285e-16, 1.4358494629100285e-16, 1.5825624362042616e-16, 1.5825624362042616e-16, 1.0083737255605927e-16, 1.0083737255605927e-16, 1.6304338110578816e-16, 1.6304338110578816e-16, -1.5401684468840885e-16, -1.5401684468840885e-16, 1.3909952348130021e-16, -1.4323199025842634e-16, -1.4323199025842634e-16, 8.083224013435622e-17, 8.083224013435622e-17, 1.1892288818574963e-16, 1.1892288818574963e-16, -1.1908363268289535e-16, -1.1908363268289535e-16, -8.245246812336544e-17, -8.245246812336544e-17, -1.1710069784510398e-16, -1.1710069784510398e-16, -6.321290322459829e-19, -6.321290322459829e-19, 1.0334679978012035e-16, 1.0334679978012035e-16, -2.969192268411991e-17, -2.969192268411991e-17, 4.5692967223254244e-17, 4.5692967223254244e-17, -9.074275878699878e-17, -9.074275878699878e-17, 2.616394066408115e-17, 2.616394066408115e-17, -4.633456713677447e-17, -4.633456713677447e-17, 6.475576382516961e-17, 6.475576382516961e-17, -8.921529814579571e-17, -8.921529814579571e-17, -6.174529873153703e-17, -6.174529873153703e-17, 6.505086151502457e-17, 6.505086151502457e-17, -6.693655889394546e-17, -6.693655889394546e-17, 1.8974201776216383e-17, 1.8974201776216383e-17, -3.0642951702184126e-17, -3.0642951702184126e-17, 3.732875041478793e-17, 3.732875041478793e-17, 4.783178007434644e-17, -3.811106332878829e-17, -3.811106332878829e-17, -3.539623492457999e-17, -9.250758301714811e-18, -9.250758301714811e-18, 2.0239168105429648e-17, 1.3960154571500105e-17, -1.0908484877070246e-17, -1.0908484877070246e-17, 1.6839052799578097e-19, 1.6839052799578097e-19, 8.453986429270087e-18, 8.453986429270087e-18, 7.929914026704668e-18, 7.333805167694726e-18, -8.843212665391734e-19, -8.843212665391734e-19, 2.7106732707482953e-18, 1.4326390078600333e-18, 1.4326390078600333e-18, -3.4003051724284114e-18, -1.4443800510694552e-18, -1.4443800510694552e-18, -4.7700143403905934e-18]\n"
     ]
    }
   ],
   "source": [
    "# Calculating the explained variance on each of components\n",
    "\n",
    "variance_explained = []\n",
    "for i in eigen_values:\n",
    "    variance_explained.append((i/sum(eigen_values))*100)\n",
    "\n",
    "print(variance_explained)"
   ]
  },
  {
   "cell_type": "code",
   "execution_count": 39,
   "metadata": {
    "id": "6paF0Sx6CxgR"
   },
   "outputs": [],
   "source": [
    "cumulative_variance_explained = np.cumsum(variance_explained)"
   ]
  },
  {
   "cell_type": "code",
   "execution_count": 40,
   "metadata": {
    "colab": {
     "base_uri": "https://localhost:8080/",
     "height": 295
    },
    "id": "JiCZn04JC6O2",
    "outputId": "bf2af60a-88ab-4bf7-d1af-4afa847a4a65"
   },
   "outputs": [
    {
     "data": {
      "image/png": "[encoded data removed]",
      "text/plain": [
       "<Figure size 640x480 with 1 Axes>"
      ]
     },
     "metadata": {},
     "output_type": "display_data"
    }
   ],
   "source": [
    "plt.title(\"Explained variance vs Number of components\")\n",
    "\n",
    "plt.xlabel(\"Number of components\")\n",
    "plt.ylabel(\"Cumulative explained variance\")\n",
    "plt.grid(color='gray', linewidth=.4)\n",
    "\n",
    "plt.plot(range(len(cumulative_variance_explained)), cumulative_variance_explained)\n",
    "\n",
    "plt.show()\n",
    "#plt.savefig('Explained variance.png')"
   ]
  },
  {
   "cell_type": "code",
   "execution_count": 41,
   "metadata": {
    "colab": {
     "base_uri": "https://localhost:8080/"
    },
    "id": "1uJyQPrCJIhN",
    "outputId": "8da93713-dc72-4f20-c7e8-a174aeabc971"
   },
   "outputs": [
    {
     "name": "stdout",
     "output_type": "stream",
     "text": [
      "Principal components: 400\n",
      "Discarded components: 293\n"
     ]
    }
   ],
   "source": [
    "K = 400\n",
    "print('Principal components:', K)\n",
    "print('Discarded components:', columns-K)"
   ]
  },
  {
   "cell_type": "code",
   "execution_count": 42,
   "metadata": {
    "colab": {
     "base_uri": "https://localhost:8080/",
     "height": 295
    },
    "id": "fgyo-1SwEgmK",
    "outputId": "ffb79f1e-51d1-4f72-8d60-61c9cea73ecb"
   },
   "outputs": [
    {
     "data": {
      "image/png": "[encoded data removed]",
      "text/plain": [
       "<Figure size 640x480 with 1 Axes>"
      ]
     },
     "metadata": {},
     "output_type": "display_data"
    }
   ],
   "source": [
    "plt.title(\"Explained variance vs first \" + str(K) + \" components\")\n",
    "\n",
    "plt.xlabel(\"Number of components\")\n",
    "plt.ylabel(\"Cumulative explained variance\")\n",
    "plt.grid(color='gray', linewidth=.4)\n",
    "\n",
    "plt.plot(range(K), cumulative_variance_explained[:K])\n",
    "\n",
    "plt.show()\n",
    "#plt.savefig('Explained variance.png')"
   ]
  },
  {
   "cell_type": "code",
   "execution_count": 43,
   "metadata": {
    "colab": {
     "base_uri": "https://localhost:8080/"
    },
    "id": "uOq8n7vDGbBg",
    "outputId": "594c234d-211b-49f1-ee23-bb2b71d73aa4"
   },
   "outputs": [
    {
     "name": "stdout",
     "output_type": "stream",
     "text": [
      "(693, 400)\n"
     ]
    }
   ],
   "source": [
    "# Project using first K components\n",
    "\n",
    "projection_matrix = np.real((eigen_vectors.T[:][:K]).T)\n",
    "print(projection_matrix.shape)\n",
    "\n",
    "np.save('projection_matrix', projection_matrix)"
   ]
  },
  {
   "cell_type": "code",
   "execution_count": 44,
   "metadata": {
    "id": "IMfOPt8wdwIb"
   },
   "outputs": [],
   "source": [
    "# project matrices\n",
    "X_train = stdX.dot(projection_matrix)\n",
    "X_val = stdX_val.dot(projection_matrix)\n",
    "X_test = stdX_test.dot(projection_matrix)"
   ]
  },
  {
   "cell_type": "code",
   "execution_count": 45,
   "metadata": {},
   "outputs": [
    {
     "data": {
      "text/plain": [
       "(6850, 400)"
      ]
     },
     "execution_count": 45,
     "metadata": {},
     "output_type": "execute_result"
    }
   ],
   "source": [
    "X = np.concatenate((X_train, X_val, X_test), axis=0)\n",
    "y = np.concatenate((y_train, y_val, y_test), axis=0)\n",
    "X.shape\n"
   ]
  },
  {
   "cell_type": "markdown",
   "metadata": {
    "id": "hD7cgwErK-at"
   },
   "source": [
    "## Neural Network"
   ]
  },
  {
   "cell_type": "code",
   "execution_count": 51,
   "metadata": {},
   "outputs": [
    {
     "name": "stdout",
     "output_type": "stream",
     "text": [
      "Epoch 1/1000\n",
      "\u001b[1m72/72\u001b[0m \u001b[32m━━━━━━━━━━━━━━━━━━━━\u001b[0m\u001b[37m\u001b[0m \u001b[1m1s\u001b[0m 2ms/step - accuracy: 0.6744 - loss: 0.6329 - mse: 0.2208 - precision: 0.6869 - recall: 0.5229 - val_accuracy: 0.8577 - val_loss: 0.5072 - val_mse: 0.1613 - val_precision: 0.8911 - val_recall: 0.7938\n",
      "Epoch 2/1000\n",
      "\u001b[1m72/72\u001b[0m \u001b[32m━━━━━━━━━━━━━━━━━━━━\u001b[0m\u001b[37m\u001b[0m \u001b[1m0s\u001b[0m 585us/step - accuracy: 0.8881 - loss: 0.4649 - mse: 0.1425 - precision: 0.9025 - recall: 0.8402 - val_accuracy: 0.9019 - val_loss: 0.3890 - val_mse: 0.1115 - val_precision: 0.9173 - val_recall: 0.8694\n",
      "Epoch 3/1000\n",
      "\u001b[1m72/72\u001b[0m \u001b[32m━━━━━━━━━━━━━━━━━━━━\u001b[0m\u001b[37m\u001b[0m \u001b[1m0s\u001b[0m 603us/step - accuracy: 0.9199 - loss: 0.3538 - mse: 0.0975 - precision: 0.9262 - recall: 0.8882 - val_accuracy: 0.9155 - val_loss: 0.3155 - val_mse: 0.0852 - val_precision: 0.9206 - val_recall: 0.8974\n",
      "Epoch 4/1000\n",
      "\u001b[1m72/72\u001b[0m \u001b[32m━━━━━━━━━━━━━━━━━━━━\u001b[0m\u001b[37m\u001b[0m \u001b[1m0s\u001b[0m 632us/step - accuracy: 0.9280 - loss: 0.2909 - mse: 0.0762 - precision: 0.9322 - recall: 0.9100 - val_accuracy: 0.9256 - val_loss: 0.2708 - val_mse: 0.0714 - val_precision: 0.9215 - val_recall: 0.9198\n",
      "Epoch 5/1000\n",
      "\u001b[1m72/72\u001b[0m \u001b[32m━━━━━━━━━━━━━━━━━━━━\u001b[0m\u001b[37m\u001b[0m \u001b[1m0s\u001b[0m 549us/step - accuracy: 0.9364 - loss: 0.2426 - mse: 0.0610 - precision: 0.9402 - recall: 0.9191 - val_accuracy: 0.9278 - val_loss: 0.2425 - val_mse: 0.0638 - val_precision: 0.9219 - val_recall: 0.9244\n",
      "Epoch 6/1000\n",
      "\u001b[1m72/72\u001b[0m \u001b[32m━━━━━━━━━━━━━━━━━━━━\u001b[0m\u001b[37m\u001b[0m \u001b[1m0s\u001b[0m 561us/step - accuracy: 0.9449 - loss: 0.2174 - mse: 0.0543 - precision: 0.9431 - recall: 0.9368 - val_accuracy: 0.9304 - val_loss: 0.2250 - val_mse: 0.0596 - val_precision: 0.9239 - val_recall: 0.9282\n",
      "Epoch 7/1000\n",
      "\u001b[1m72/72\u001b[0m \u001b[32m━━━━━━━━━━━━━━━━━━━━\u001b[0m\u001b[37m\u001b[0m \u001b[1m0s\u001b[0m 583us/step - accuracy: 0.9454 - loss: 0.1911 - mse: 0.0474 - precision: 0.9458 - recall: 0.9304 - val_accuracy: 0.9317 - val_loss: 0.2145 - val_mse: 0.0575 - val_precision: 0.9241 - val_recall: 0.9310\n",
      "Epoch 8/1000\n",
      "\u001b[1m72/72\u001b[0m \u001b[32m━━━━━━━━━━━━━━━━━━━━\u001b[0m\u001b[37m\u001b[0m \u001b[1m0s\u001b[0m 575us/step - accuracy: 0.9493 - loss: 0.1784 - mse: 0.0443 - precision: 0.9542 - recall: 0.9308 - val_accuracy: 0.9330 - val_loss: 0.2072 - val_mse: 0.0562 - val_precision: 0.9251 - val_recall: 0.9328\n",
      "Epoch 9/1000\n",
      "\u001b[1m72/72\u001b[0m \u001b[32m━━━━━━━━━━━━━━━━━━━━\u001b[0m\u001b[37m\u001b[0m \u001b[1m0s\u001b[0m 562us/step - accuracy: 0.9595 - loss: 0.1570 - mse: 0.0377 - precision: 0.9618 - recall: 0.9485 - val_accuracy: 0.9330 - val_loss: 0.2026 - val_mse: 0.0555 - val_precision: 0.9243 - val_recall: 0.9338\n",
      "Epoch 10/1000\n",
      "\u001b[1m72/72\u001b[0m \u001b[32m━━━━━━━━━━━━━━━━━━━━\u001b[0m\u001b[37m\u001b[0m \u001b[1m0s\u001b[0m 547us/step - accuracy: 0.9548 - loss: 0.1571 - mse: 0.0391 - precision: 0.9531 - recall: 0.9461 - val_accuracy: 0.9330 - val_loss: 0.1997 - val_mse: 0.0552 - val_precision: 0.9243 - val_recall: 0.9338\n",
      "Epoch 11/1000\n",
      "\u001b[1m72/72\u001b[0m \u001b[32m━━━━━━━━━━━━━━━━━━━━\u001b[0m\u001b[37m\u001b[0m \u001b[1m0s\u001b[0m 532us/step - accuracy: 0.9500 - loss: 0.1544 - mse: 0.0400 - precision: 0.9475 - recall: 0.9430 - val_accuracy: 0.9335 - val_loss: 0.1976 - val_mse: 0.0550 - val_precision: 0.9236 - val_recall: 0.9356\n",
      "Epoch 12/1000\n",
      "\u001b[1m72/72\u001b[0m \u001b[32m━━━━━━━━━━━━━━━━━━━━\u001b[0m\u001b[37m\u001b[0m \u001b[1m0s\u001b[0m 680us/step - accuracy: 0.9570 - loss: 0.1397 - mse: 0.0355 - precision: 0.9543 - recall: 0.9509 - val_accuracy: 0.9326 - val_loss: 0.1968 - val_mse: 0.0550 - val_precision: 0.9211 - val_recall: 0.9366\n",
      "Epoch 13/1000\n",
      "\u001b[1m72/72\u001b[0m \u001b[32m━━━━━━━━━━━━━━━━━━━━\u001b[0m\u001b[37m\u001b[0m \u001b[1m0s\u001b[0m 586us/step - accuracy: 0.9606 - loss: 0.1347 - mse: 0.0341 - precision: 0.9590 - recall: 0.9559 - val_accuracy: 0.9299 - val_loss: 0.1964 - val_mse: 0.0552 - val_precision: 0.9176 - val_recall: 0.9347\n",
      "Epoch 14/1000\n",
      "\u001b[1m72/72\u001b[0m \u001b[32m━━━━━━━━━━━━━━━━━━━━\u001b[0m\u001b[37m\u001b[0m \u001b[1m0s\u001b[0m 645us/step - accuracy: 0.9544 - loss: 0.1373 - mse: 0.0360 - precision: 0.9525 - recall: 0.9487 - val_accuracy: 0.9304 - val_loss: 0.1958 - val_mse: 0.0552 - val_precision: 0.9161 - val_recall: 0.9375\n",
      "Epoch 15/1000\n",
      "\u001b[1m72/72\u001b[0m \u001b[32m━━━━━━━━━━━━━━━━━━━━\u001b[0m\u001b[37m\u001b[0m \u001b[1m0s\u001b[0m 627us/step - accuracy: 0.9644 - loss: 0.1195 - mse: 0.0297 - precision: 0.9659 - recall: 0.9567 - val_accuracy: 0.9304 - val_loss: 0.1960 - val_mse: 0.0552 - val_precision: 0.9169 - val_recall: 0.9366\n",
      "Epoch 16/1000\n",
      "\u001b[1m72/72\u001b[0m \u001b[32m━━━━━━━━━━━━━━━━━━━━\u001b[0m\u001b[37m\u001b[0m \u001b[1m0s\u001b[0m 607us/step - accuracy: 0.9607 - loss: 0.1220 - mse: 0.0310 - precision: 0.9570 - recall: 0.9556 - val_accuracy: 0.9299 - val_loss: 0.1974 - val_mse: 0.0558 - val_precision: 0.9161 - val_recall: 0.9366\n",
      "Epoch 17/1000\n",
      "\u001b[1m72/72\u001b[0m \u001b[32m━━━━━━━━━━━━━━━━━━━━\u001b[0m\u001b[37m\u001b[0m \u001b[1m0s\u001b[0m 541us/step - accuracy: 0.9627 - loss: 0.1188 - mse: 0.0307 - precision: 0.9619 - recall: 0.9556 - val_accuracy: 0.9291 - val_loss: 0.1975 - val_mse: 0.0558 - val_precision: 0.9151 - val_recall: 0.9356\n",
      "Epoch 18/1000\n",
      "\u001b[1m72/72\u001b[0m \u001b[32m━━━━━━━━━━━━━━━━━━━━\u001b[0m\u001b[37m\u001b[0m \u001b[1m0s\u001b[0m 565us/step - accuracy: 0.9647 - loss: 0.1129 - mse: 0.0290 - precision: 0.9623 - recall: 0.9598 - val_accuracy: 0.9278 - val_loss: 0.1990 - val_mse: 0.0562 - val_precision: 0.9142 - val_recall: 0.9338\n",
      "Epoch 19/1000\n",
      "\u001b[1m72/72\u001b[0m \u001b[32m━━━━━━━━━━━━━━━━━━━━\u001b[0m\u001b[37m\u001b[0m \u001b[1m0s\u001b[0m 552us/step - accuracy: 0.9671 - loss: 0.1080 - mse: 0.0279 - precision: 0.9677 - recall: 0.9572 - val_accuracy: 0.9264 - val_loss: 0.1998 - val_mse: 0.0565 - val_precision: 0.9132 - val_recall: 0.9319\n",
      "Epoch 20/1000\n",
      "\u001b[1m72/72\u001b[0m \u001b[32m━━━━━━━━━━━━━━━━━━━━\u001b[0m\u001b[37m\u001b[0m \u001b[1m0s\u001b[0m 649us/step - accuracy: 0.9619 - loss: 0.1134 - mse: 0.0302 - precision: 0.9645 - recall: 0.9507 - val_accuracy: 0.9269 - val_loss: 0.2011 - val_mse: 0.0567 - val_precision: 0.9125 - val_recall: 0.9338\n",
      "Epoch 21/1000\n",
      "\u001b[1m72/72\u001b[0m \u001b[32m━━━━━━━━━━━━━━━━━━━━\u001b[0m\u001b[37m\u001b[0m \u001b[1m0s\u001b[0m 538us/step - accuracy: 0.9698 - loss: 0.1052 - mse: 0.0265 - precision: 0.9694 - recall: 0.9644 - val_accuracy: 0.9264 - val_loss: 0.2010 - val_mse: 0.0566 - val_precision: 0.9132 - val_recall: 0.9319\n",
      "Epoch 22/1000\n",
      "\u001b[1m72/72\u001b[0m \u001b[32m━━━━━━━━━━━━━━━━━━━━\u001b[0m\u001b[37m\u001b[0m \u001b[1m0s\u001b[0m 559us/step - accuracy: 0.9676 - loss: 0.0995 - mse: 0.0263 - precision: 0.9677 - recall: 0.9592 - val_accuracy: 0.9251 - val_loss: 0.2026 - val_mse: 0.0569 - val_precision: 0.9122 - val_recall: 0.9300\n",
      "Epoch 23/1000\n",
      "\u001b[1m72/72\u001b[0m \u001b[32m━━━━━━━━━━━━━━━━━━━━\u001b[0m\u001b[37m\u001b[0m \u001b[1m0s\u001b[0m 569us/step - accuracy: 0.9692 - loss: 0.1002 - mse: 0.0258 - precision: 0.9678 - recall: 0.9648 - val_accuracy: 0.9251 - val_loss: 0.2037 - val_mse: 0.0570 - val_precision: 0.9114 - val_recall: 0.9310\n",
      "Epoch 24/1000\n",
      "\u001b[1m72/72\u001b[0m \u001b[32m━━━━━━━━━━━━━━━━━━━━\u001b[0m\u001b[37m\u001b[0m \u001b[1m0s\u001b[0m 560us/step - accuracy: 0.9714 - loss: 0.0920 - mse: 0.0238 - precision: 0.9743 - recall: 0.9608 - val_accuracy: 0.9251 - val_loss: 0.2056 - val_mse: 0.0575 - val_precision: 0.9107 - val_recall: 0.9319\n",
      "Epoch 25/1000\n",
      "\u001b[1m72/72\u001b[0m \u001b[32m━━━━━━━━━━━━━━━━━━━━\u001b[0m\u001b[37m\u001b[0m \u001b[1m0s\u001b[0m 557us/step - accuracy: 0.9692 - loss: 0.0981 - mse: 0.0257 - precision: 0.9719 - recall: 0.9597 - val_accuracy: 0.9243 - val_loss: 0.2067 - val_mse: 0.0576 - val_precision: 0.9105 - val_recall: 0.9300\n",
      "Epoch 26/1000\n",
      "\u001b[1m72/72\u001b[0m \u001b[32m━━━━━━━━━━━━━━━━━━━━\u001b[0m\u001b[37m\u001b[0m \u001b[1m0s\u001b[0m 583us/step - accuracy: 0.9692 - loss: 0.0958 - mse: 0.0247 - precision: 0.9727 - recall: 0.9602 - val_accuracy: 0.9247 - val_loss: 0.2084 - val_mse: 0.0579 - val_precision: 0.9113 - val_recall: 0.9300\n",
      "Epoch 27/1000\n",
      "\u001b[1m72/72\u001b[0m \u001b[32m━━━━━━━━━━━━━━━━━━━━\u001b[0m\u001b[37m\u001b[0m \u001b[1m0s\u001b[0m 586us/step - accuracy: 0.9732 - loss: 0.0823 - mse: 0.0210 - precision: 0.9781 - recall: 0.9613 - val_accuracy: 0.9264 - val_loss: 0.2092 - val_mse: 0.0581 - val_precision: 0.9147 - val_recall: 0.9300\n",
      "Epoch 28/1000\n",
      "\u001b[1m72/72\u001b[0m \u001b[32m━━━━━━━━━━━━━━━━━━━━\u001b[0m\u001b[37m\u001b[0m \u001b[1m0s\u001b[0m 562us/step - accuracy: 0.9724 - loss: 0.0851 - mse: 0.0216 - precision: 0.9727 - recall: 0.9664 - val_accuracy: 0.9256 - val_loss: 0.2110 - val_mse: 0.0583 - val_precision: 0.9122 - val_recall: 0.9310\n",
      "Epoch 29/1000\n",
      "\u001b[1m72/72\u001b[0m \u001b[32m━━━━━━━━━━━━━━━━━━━━\u001b[0m\u001b[37m\u001b[0m \u001b[1m0s\u001b[0m 577us/step - accuracy: 0.9761 - loss: 0.0819 - mse: 0.0205 - precision: 0.9745 - recall: 0.9720 - val_accuracy: 0.9251 - val_loss: 0.2124 - val_mse: 0.0585 - val_precision: 0.9122 - val_recall: 0.9300\n",
      "Epoch 30/1000\n"
     ]
    },
    {
     "name": "stdout",
     "output_type": "stream",
     "text": [
      "\u001b[1m72/72\u001b[0m \u001b[32m━━━━━━━━━━━━━━━━━━━━\u001b[0m\u001b[37m\u001b[0m \u001b[1m0s\u001b[0m 550us/step - accuracy: 0.9740 - loss: 0.0840 - mse: 0.0210 - precision: 0.9773 - recall: 0.9662 - val_accuracy: 0.9264 - val_loss: 0.2130 - val_mse: 0.0585 - val_precision: 0.9147 - val_recall: 0.9300\n",
      "Epoch 31/1000\n",
      "\u001b[1m72/72\u001b[0m \u001b[32m━━━━━━━━━━━━━━━━━━━━\u001b[0m\u001b[37m\u001b[0m \u001b[1m0s\u001b[0m 547us/step - accuracy: 0.9754 - loss: 0.0759 - mse: 0.0191 - precision: 0.9746 - recall: 0.9713 - val_accuracy: 0.9273 - val_loss: 0.2148 - val_mse: 0.0587 - val_precision: 0.9148 - val_recall: 0.9319\n",
      "Epoch 32/1000\n",
      "\u001b[1m72/72\u001b[0m \u001b[32m━━━━━━━━━━━━━━━━━━━━\u001b[0m\u001b[37m\u001b[0m \u001b[1m0s\u001b[0m 589us/step - accuracy: 0.9741 - loss: 0.0743 - mse: 0.0189 - precision: 0.9740 - recall: 0.9699 - val_accuracy: 0.9269 - val_loss: 0.2158 - val_mse: 0.0588 - val_precision: 0.9140 - val_recall: 0.9319\n",
      "Epoch 33/1000\n",
      "\u001b[1m72/72\u001b[0m \u001b[32m━━━━━━━━━━━━━━━━━━━━\u001b[0m\u001b[37m\u001b[0m \u001b[1m0s\u001b[0m 636us/step - accuracy: 0.9707 - loss: 0.0872 - mse: 0.0226 - precision: 0.9749 - recall: 0.9597 - val_accuracy: 0.9273 - val_loss: 0.2172 - val_mse: 0.0589 - val_precision: 0.9164 - val_recall: 0.9300\n",
      "Epoch 34/1000\n",
      "\u001b[1m72/72\u001b[0m \u001b[32m━━━━━━━━━━━━━━━━━━━━\u001b[0m\u001b[37m\u001b[0m \u001b[1m0s\u001b[0m 541us/step - accuracy: 0.9739 - loss: 0.0792 - mse: 0.0202 - precision: 0.9754 - recall: 0.9671 - val_accuracy: 0.9273 - val_loss: 0.2183 - val_mse: 0.0590 - val_precision: 0.9164 - val_recall: 0.9300\n",
      "\u001b[1m72/72\u001b[0m \u001b[32m━━━━━━━━━━━━━━━━━━━━\u001b[0m\u001b[37m\u001b[0m \u001b[1m0s\u001b[0m 254us/step - accuracy: 0.9291 - loss: 0.2007 - mse: 0.0565 - precision: 0.9151 - recall: 0.9333\n",
      "Epoch 1/1000\n",
      "\u001b[1m72/72\u001b[0m \u001b[32m━━━━━━━━━━━━━━━━━━━━\u001b[0m\u001b[37m\u001b[0m \u001b[1m1s\u001b[0m 2ms/step - accuracy: 0.5641 - loss: 0.6911 - mse: 0.2485 - precision: 0.6084 - recall: 0.0487 - val_accuracy: 0.7486 - val_loss: 0.5430 - val_mse: 0.1799 - val_precision: 0.9454 - val_recall: 0.4795\n",
      "Epoch 2/1000\n",
      "\u001b[1m72/72\u001b[0m \u001b[32m━━━━━━━━━━━━━━━━━━━━\u001b[0m\u001b[37m\u001b[0m \u001b[1m0s\u001b[0m 564us/step - accuracy: 0.8184 - loss: 0.4923 - mse: 0.1565 - precision: 0.9507 - recall: 0.6299 - val_accuracy: 0.8774 - val_loss: 0.4212 - val_mse: 0.1254 - val_precision: 0.9295 - val_recall: 0.7927\n",
      "Epoch 3/1000\n",
      "\u001b[1m72/72\u001b[0m \u001b[32m━━━━━━━━━━━━━━━━━━━━\u001b[0m\u001b[37m\u001b[0m \u001b[1m0s\u001b[0m 574us/step - accuracy: 0.9123 - loss: 0.3841 - mse: 0.1095 - precision: 0.9463 - recall: 0.8588 - val_accuracy: 0.9010 - val_loss: 0.3451 - val_mse: 0.0961 - val_precision: 0.9159 - val_recall: 0.8634\n",
      "Epoch 4/1000\n",
      "\u001b[1m72/72\u001b[0m \u001b[32m━━━━━━━━━━━━━━━━━━━━\u001b[0m\u001b[37m\u001b[0m \u001b[1m0s\u001b[0m 552us/step - accuracy: 0.9224 - loss: 0.3102 - mse: 0.0825 - precision: 0.9390 - recall: 0.8868 - val_accuracy: 0.9111 - val_loss: 0.2972 - val_mse: 0.0802 - val_precision: 0.9145 - val_recall: 0.8892\n",
      "Epoch 5/1000\n",
      "\u001b[1m72/72\u001b[0m \u001b[32m━━━━━━━━━━━━━━━━━━━━\u001b[0m\u001b[37m\u001b[0m \u001b[1m0s\u001b[0m 569us/step - accuracy: 0.9367 - loss: 0.2627 - mse: 0.0669 - precision: 0.9414 - recall: 0.9212 - val_accuracy: 0.9185 - val_loss: 0.2667 - val_mse: 0.0714 - val_precision: 0.9167 - val_recall: 0.9045\n",
      "Epoch 6/1000\n",
      "\u001b[1m72/72\u001b[0m \u001b[32m━━━━━━━━━━━━━━━━━━━━\u001b[0m\u001b[37m\u001b[0m \u001b[1m0s\u001b[0m 562us/step - accuracy: 0.9464 - loss: 0.2234 - mse: 0.0547 - precision: 0.9411 - recall: 0.9375 - val_accuracy: 0.9207 - val_loss: 0.2464 - val_mse: 0.0660 - val_precision: 0.9155 - val_recall: 0.9112\n",
      "Epoch 7/1000\n",
      "\u001b[1m72/72\u001b[0m \u001b[32m━━━━━━━━━━━━━━━━━━━━\u001b[0m\u001b[37m\u001b[0m \u001b[1m0s\u001b[0m 537us/step - accuracy: 0.9481 - loss: 0.2033 - mse: 0.0499 - precision: 0.9479 - recall: 0.9370 - val_accuracy: 0.9207 - val_loss: 0.2330 - val_mse: 0.0628 - val_precision: 0.9116 - val_recall: 0.9160\n",
      "Epoch 8/1000\n",
      "\u001b[1m72/72\u001b[0m \u001b[32m━━━━━━━━━━━━━━━━━━━━\u001b[0m\u001b[37m\u001b[0m \u001b[1m0s\u001b[0m 617us/step - accuracy: 0.9512 - loss: 0.1862 - mse: 0.0455 - precision: 0.9538 - recall: 0.9406 - val_accuracy: 0.9233 - val_loss: 0.2239 - val_mse: 0.0609 - val_precision: 0.9137 - val_recall: 0.9198\n",
      "Epoch 9/1000\n",
      "\u001b[1m72/72\u001b[0m \u001b[32m━━━━━━━━━━━━━━━━━━━━\u001b[0m\u001b[37m\u001b[0m \u001b[1m0s\u001b[0m 592us/step - accuracy: 0.9545 - loss: 0.1715 - mse: 0.0421 - precision: 0.9563 - recall: 0.9432 - val_accuracy: 0.9264 - val_loss: 0.2182 - val_mse: 0.0598 - val_precision: 0.9182 - val_recall: 0.9217\n",
      "Epoch 10/1000\n",
      "\u001b[1m72/72\u001b[0m \u001b[32m━━━━━━━━━━━━━━━━━━━━\u001b[0m\u001b[37m\u001b[0m \u001b[1m0s\u001b[0m 601us/step - accuracy: 0.9549 - loss: 0.1601 - mse: 0.0392 - precision: 0.9557 - recall: 0.9461 - val_accuracy: 0.9251 - val_loss: 0.2147 - val_mse: 0.0592 - val_precision: 0.9163 - val_recall: 0.9207\n",
      "Epoch 11/1000\n",
      "\u001b[1m72/72\u001b[0m \u001b[32m━━━━━━━━━━━━━━━━━━━━\u001b[0m\u001b[37m\u001b[0m \u001b[1m0s\u001b[0m 613us/step - accuracy: 0.9541 - loss: 0.1548 - mse: 0.0385 - precision: 0.9448 - recall: 0.9590 - val_accuracy: 0.9238 - val_loss: 0.2115 - val_mse: 0.0585 - val_precision: 0.9122 - val_recall: 0.9226\n",
      "Epoch 12/1000\n",
      "\u001b[1m72/72\u001b[0m \u001b[32m━━━━━━━━━━━━━━━━━━━━\u001b[0m\u001b[37m\u001b[0m \u001b[1m0s\u001b[0m 616us/step - accuracy: 0.9631 - loss: 0.1386 - mse: 0.0338 - precision: 0.9584 - recall: 0.9584 - val_accuracy: 0.9255 - val_loss: 0.2100 - val_mse: 0.0583 - val_precision: 0.9133 - val_recall: 0.9255\n",
      "Epoch 13/1000\n",
      "\u001b[1m72/72\u001b[0m \u001b[32m━━━━━━━━━━━━━━━━━━━━\u001b[0m\u001b[37m\u001b[0m \u001b[1m0s\u001b[0m 544us/step - accuracy: 0.9590 - loss: 0.1381 - mse: 0.0347 - precision: 0.9514 - recall: 0.9582 - val_accuracy: 0.9273 - val_loss: 0.2091 - val_mse: 0.0581 - val_precision: 0.9144 - val_recall: 0.9284\n",
      "Epoch 14/1000\n",
      "\u001b[1m72/72\u001b[0m \u001b[32m━━━━━━━━━━━━━━━━━━━━\u001b[0m\u001b[37m\u001b[0m \u001b[1m0s\u001b[0m 540us/step - accuracy: 0.9577 - loss: 0.1381 - mse: 0.0348 - precision: 0.9562 - recall: 0.9504 - val_accuracy: 0.9251 - val_loss: 0.2097 - val_mse: 0.0584 - val_precision: 0.9132 - val_recall: 0.9245\n",
      "Epoch 15/1000\n",
      "\u001b[1m72/72\u001b[0m \u001b[32m━━━━━━━━━━━━━━━━━━━━\u001b[0m\u001b[37m\u001b[0m \u001b[1m0s\u001b[0m 545us/step - accuracy: 0.9596 - loss: 0.1309 - mse: 0.0331 - precision: 0.9555 - recall: 0.9554 - val_accuracy: 0.9260 - val_loss: 0.2089 - val_mse: 0.0583 - val_precision: 0.9126 - val_recall: 0.9274\n",
      "Epoch 16/1000\n",
      "\u001b[1m72/72\u001b[0m \u001b[32m━━━━━━━━━━━━━━━━━━━━\u001b[0m\u001b[37m\u001b[0m \u001b[1m0s\u001b[0m 569us/step - accuracy: 0.9650 - loss: 0.1211 - mse: 0.0302 - precision: 0.9610 - recall: 0.9634 - val_accuracy: 0.9247 - val_loss: 0.2095 - val_mse: 0.0584 - val_precision: 0.9116 - val_recall: 0.9255\n",
      "Epoch 17/1000\n",
      "\u001b[1m72/72\u001b[0m \u001b[32m━━━━━━━━━━━━━━━━━━━━\u001b[0m\u001b[37m\u001b[0m \u001b[1m0s\u001b[0m 527us/step - accuracy: 0.9612 - loss: 0.1208 - mse: 0.0305 - precision: 0.9580 - recall: 0.9580 - val_accuracy: 0.9229 - val_loss: 0.2095 - val_mse: 0.0583 - val_precision: 0.9089 - val_recall: 0.9245\n",
      "Epoch 18/1000\n",
      "\u001b[1m72/72\u001b[0m \u001b[32m━━━━━━━━━━━━━━━━━━━━\u001b[0m\u001b[37m\u001b[0m \u001b[1m0s\u001b[0m 559us/step - accuracy: 0.9670 - loss: 0.1149 - mse: 0.0285 - precision: 0.9607 - recall: 0.9674 - val_accuracy: 0.9242 - val_loss: 0.2100 - val_mse: 0.0583 - val_precision: 0.9107 - val_recall: 0.9255\n",
      "Epoch 19/1000\n",
      "\u001b[1m72/72\u001b[0m \u001b[32m━━━━━━━━━━━━━━━━━━━━\u001b[0m\u001b[37m\u001b[0m \u001b[1m0s\u001b[0m 552us/step - accuracy: 0.9668 - loss: 0.1106 - mse: 0.0274 - precision: 0.9652 - recall: 0.9642 - val_accuracy: 0.9247 - val_loss: 0.2108 - val_mse: 0.0585 - val_precision: 0.9108 - val_recall: 0.9265\n",
      "Epoch 20/1000\n",
      "\u001b[1m72/72\u001b[0m \u001b[32m━━━━━━━━━━━━━━━━━━━━\u001b[0m\u001b[37m\u001b[0m \u001b[1m0s\u001b[0m 542us/step - accuracy: 0.9658 - loss: 0.1137 - mse: 0.0290 - precision: 0.9620 - recall: 0.9619 - val_accuracy: 0.9247 - val_loss: 0.2118 - val_mse: 0.0585 - val_precision: 0.9123 - val_recall: 0.9245\n",
      "Epoch 21/1000\n",
      "\u001b[1m72/72\u001b[0m \u001b[32m━━━━━━━━━━━━━━━━━━━━\u001b[0m\u001b[37m\u001b[0m \u001b[1m0s\u001b[0m 562us/step - accuracy: 0.9689 - loss: 0.1050 - mse: 0.0263 - precision: 0.9711 - recall: 0.9613 - val_accuracy: 0.9247 - val_loss: 0.2129 - val_mse: 0.0588 - val_precision: 0.9100 - val_recall: 0.9274\n",
      "Epoch 22/1000\n",
      "\u001b[1m72/72\u001b[0m \u001b[32m━━━━━━━━━━━━━━━━━━━━\u001b[0m\u001b[37m\u001b[0m \u001b[1m0s\u001b[0m 562us/step - accuracy: 0.9699 - loss: 0.1024 - mse: 0.0256 - precision: 0.9661 - recall: 0.9674 - val_accuracy: 0.9247 - val_loss: 0.2137 - val_mse: 0.0587 - val_precision: 0.9108 - val_recall: 0.9265\n",
      "Epoch 23/1000\n",
      "\u001b[1m72/72\u001b[0m \u001b[32m━━━━━━━━━━━━━━━━━━━━\u001b[0m\u001b[37m\u001b[0m \u001b[1m0s\u001b[0m 556us/step - accuracy: 0.9686 - loss: 0.1048 - mse: 0.0264 - precision: 0.9656 - recall: 0.9632 - val_accuracy: 0.9238 - val_loss: 0.2146 - val_mse: 0.0589 - val_precision: 0.9106 - val_recall: 0.9245\n",
      "Epoch 24/1000\n",
      "\u001b[1m72/72\u001b[0m \u001b[32m━━━━━━━━━━━━━━━━━━━━\u001b[0m\u001b[37m\u001b[0m \u001b[1m0s\u001b[0m 544us/step - accuracy: 0.9708 - loss: 0.0956 - mse: 0.0238 - precision: 0.9674 - recall: 0.9700 - val_accuracy: 0.9255 - val_loss: 0.2151 - val_mse: 0.0588 - val_precision: 0.9110 - val_recall: 0.9284\n"
     ]
    },
    {
     "name": "stdout",
     "output_type": "stream",
     "text": [
      "Epoch 25/1000\n",
      "\u001b[1m72/72\u001b[0m \u001b[32m━━━━━━━━━━━━━━━━━━━━\u001b[0m\u001b[37m\u001b[0m \u001b[1m0s\u001b[0m 524us/step - accuracy: 0.9702 - loss: 0.0988 - mse: 0.0247 - precision: 0.9647 - recall: 0.9700 - val_accuracy: 0.9251 - val_loss: 0.2169 - val_mse: 0.0592 - val_precision: 0.9101 - val_recall: 0.9284\n",
      "Epoch 26/1000\n",
      "\u001b[1m72/72\u001b[0m \u001b[32m━━━━━━━━━━━━━━━━━━━━\u001b[0m\u001b[37m\u001b[0m \u001b[1m0s\u001b[0m 543us/step - accuracy: 0.9724 - loss: 0.0916 - mse: 0.0230 - precision: 0.9698 - recall: 0.9701 - val_accuracy: 0.9238 - val_loss: 0.2174 - val_mse: 0.0591 - val_precision: 0.9083 - val_recall: 0.9274\n",
      "Epoch 27/1000\n",
      "\u001b[1m72/72\u001b[0m \u001b[32m━━━━━━━━━━━━━━━━━━━━\u001b[0m\u001b[37m\u001b[0m \u001b[1m0s\u001b[0m 578us/step - accuracy: 0.9690 - loss: 0.0974 - mse: 0.0248 - precision: 0.9656 - recall: 0.9669 - val_accuracy: 0.9229 - val_loss: 0.2185 - val_mse: 0.0593 - val_precision: 0.9089 - val_recall: 0.9245\n",
      "Epoch 28/1000\n",
      "\u001b[1m72/72\u001b[0m \u001b[32m━━━━━━━━━━━━━━━━━━━━\u001b[0m\u001b[37m\u001b[0m \u001b[1m0s\u001b[0m 562us/step - accuracy: 0.9769 - loss: 0.0828 - mse: 0.0199 - precision: 0.9713 - recall: 0.9778 - val_accuracy: 0.9260 - val_loss: 0.2195 - val_mse: 0.0594 - val_precision: 0.9118 - val_recall: 0.9284\n",
      "Epoch 29/1000\n",
      "\u001b[1m72/72\u001b[0m \u001b[32m━━━━━━━━━━━━━━━━━━━━\u001b[0m\u001b[37m\u001b[0m \u001b[1m0s\u001b[0m 542us/step - accuracy: 0.9767 - loss: 0.0775 - mse: 0.0189 - precision: 0.9754 - recall: 0.9739 - val_accuracy: 0.9238 - val_loss: 0.2203 - val_mse: 0.0593 - val_precision: 0.9106 - val_recall: 0.9245\n",
      "Epoch 30/1000\n",
      "\u001b[1m72/72\u001b[0m \u001b[32m━━━━━━━━━━━━━━━━━━━━\u001b[0m\u001b[37m\u001b[0m \u001b[1m0s\u001b[0m 556us/step - accuracy: 0.9756 - loss: 0.0813 - mse: 0.0199 - precision: 0.9750 - recall: 0.9714 - val_accuracy: 0.9238 - val_loss: 0.2215 - val_mse: 0.0595 - val_precision: 0.9099 - val_recall: 0.9255\n",
      "Epoch 31/1000\n",
      "\u001b[1m72/72\u001b[0m \u001b[32m━━━━━━━━━━━━━━━━━━━━\u001b[0m\u001b[37m\u001b[0m \u001b[1m0s\u001b[0m 583us/step - accuracy: 0.9761 - loss: 0.0817 - mse: 0.0201 - precision: 0.9730 - recall: 0.9747 - val_accuracy: 0.9242 - val_loss: 0.2219 - val_mse: 0.0594 - val_precision: 0.9107 - val_recall: 0.9255\n",
      "Epoch 32/1000\n",
      "\u001b[1m72/72\u001b[0m \u001b[32m━━━━━━━━━━━━━━━━━━━━\u001b[0m\u001b[37m\u001b[0m \u001b[1m0s\u001b[0m 576us/step - accuracy: 0.9785 - loss: 0.0773 - mse: 0.0191 - precision: 0.9755 - recall: 0.9763 - val_accuracy: 0.9247 - val_loss: 0.2232 - val_mse: 0.0595 - val_precision: 0.9108 - val_recall: 0.9265\n",
      "Epoch 33/1000\n",
      "\u001b[1m72/72\u001b[0m \u001b[32m━━━━━━━━━━━━━━━━━━━━\u001b[0m\u001b[37m\u001b[0m \u001b[1m0s\u001b[0m 591us/step - accuracy: 0.9793 - loss: 0.0784 - mse: 0.0194 - precision: 0.9788 - recall: 0.9765 - val_accuracy: 0.9233 - val_loss: 0.2245 - val_mse: 0.0597 - val_precision: 0.9098 - val_recall: 0.9245\n",
      "Epoch 34/1000\n",
      "\u001b[1m72/72\u001b[0m \u001b[32m━━━━━━━━━━━━━━━━━━━━\u001b[0m\u001b[37m\u001b[0m \u001b[1m0s\u001b[0m 590us/step - accuracy: 0.9752 - loss: 0.0824 - mse: 0.0206 - precision: 0.9719 - recall: 0.9727 - val_accuracy: 0.9247 - val_loss: 0.2259 - val_mse: 0.0598 - val_precision: 0.9100 - val_recall: 0.9274\n",
      "Epoch 35/1000\n",
      "\u001b[1m72/72\u001b[0m \u001b[32m━━━━━━━━━━━━━━━━━━━━\u001b[0m\u001b[37m\u001b[0m \u001b[1m0s\u001b[0m 574us/step - accuracy: 0.9788 - loss: 0.0767 - mse: 0.0191 - precision: 0.9742 - recall: 0.9795 - val_accuracy: 0.9242 - val_loss: 0.2271 - val_mse: 0.0599 - val_precision: 0.9099 - val_recall: 0.9265\n",
      "\u001b[1m72/72\u001b[0m \u001b[32m━━━━━━━━━━━━━━━━━━━━\u001b[0m\u001b[37m\u001b[0m \u001b[1m0s\u001b[0m 228us/step - accuracy: 0.9304 - loss: 0.2084 - mse: 0.0566 - precision: 0.9281 - recall: 0.9259\n",
      "Epoch 1/1000\n",
      "\u001b[1m72/72\u001b[0m \u001b[32m━━━━━━━━━━━━━━━━━━━━\u001b[0m\u001b[37m\u001b[0m \u001b[1m1s\u001b[0m 2ms/step - accuracy: 0.6312 - loss: 0.6491 - mse: 0.2284 - precision: 0.5664 - recall: 0.9110 - val_accuracy: 0.8502 - val_loss: 0.4816 - val_mse: 0.1511 - val_precision: 0.7919 - val_recall: 0.9021\n",
      "Epoch 2/1000\n",
      "\u001b[1m72/72\u001b[0m \u001b[32m━━━━━━━━━━━━━━━━━━━━\u001b[0m\u001b[37m\u001b[0m \u001b[1m0s\u001b[0m 564us/step - accuracy: 0.8779 - loss: 0.4325 - mse: 0.1302 - precision: 0.8479 - recall: 0.8973 - val_accuracy: 0.9041 - val_loss: 0.3650 - val_mse: 0.1032 - val_precision: 0.8812 - val_recall: 0.9079\n",
      "Epoch 3/1000\n",
      "\u001b[1m72/72\u001b[0m \u001b[32m━━━━━━━━━━━━━━━━━━━━\u001b[0m\u001b[37m\u001b[0m \u001b[1m0s\u001b[0m 564us/step - accuracy: 0.9179 - loss: 0.3272 - mse: 0.0892 - precision: 0.9154 - recall: 0.9078 - val_accuracy: 0.9220 - val_loss: 0.2993 - val_mse: 0.0803 - val_precision: 0.9104 - val_recall: 0.9158\n",
      "Epoch 4/1000\n",
      "\u001b[1m72/72\u001b[0m \u001b[32m━━━━━━━━━━━━━━━━━━━━\u001b[0m\u001b[37m\u001b[0m \u001b[1m0s\u001b[0m 562us/step - accuracy: 0.9294 - loss: 0.2662 - mse: 0.0691 - precision: 0.9290 - recall: 0.9174 - val_accuracy: 0.9286 - val_loss: 0.2607 - val_mse: 0.0685 - val_precision: 0.9206 - val_recall: 0.9197\n",
      "Epoch 5/1000\n",
      "\u001b[1m72/72\u001b[0m \u001b[32m━━━━━━━━━━━━━━━━━━━━\u001b[0m\u001b[37m\u001b[0m \u001b[1m0s\u001b[0m 562us/step - accuracy: 0.9392 - loss: 0.2327 - mse: 0.0593 - precision: 0.9402 - recall: 0.9286 - val_accuracy: 0.9295 - val_loss: 0.2358 - val_mse: 0.0619 - val_precision: 0.9191 - val_recall: 0.9236\n",
      "Epoch 6/1000\n",
      "\u001b[1m72/72\u001b[0m \u001b[32m━━━━━━━━━━━━━━━━━━━━\u001b[0m\u001b[37m\u001b[0m \u001b[1m0s\u001b[0m 540us/step - accuracy: 0.9469 - loss: 0.1983 - mse: 0.0491 - precision: 0.9475 - recall: 0.9389 - val_accuracy: 0.9321 - val_loss: 0.2210 - val_mse: 0.0584 - val_precision: 0.9212 - val_recall: 0.9275\n",
      "Epoch 7/1000\n",
      "\u001b[1m72/72\u001b[0m \u001b[32m━━━━━━━━━━━━━━━━━━━━\u001b[0m\u001b[37m\u001b[0m \u001b[1m0s\u001b[0m 568us/step - accuracy: 0.9503 - loss: 0.1817 - mse: 0.0451 - precision: 0.9485 - recall: 0.9433 - val_accuracy: 0.9334 - val_loss: 0.2112 - val_mse: 0.0564 - val_precision: 0.9190 - val_recall: 0.9334\n",
      "Epoch 8/1000\n",
      "\u001b[1m72/72\u001b[0m \u001b[32m━━━━━━━━━━━━━━━━━━━━\u001b[0m\u001b[37m\u001b[0m \u001b[1m0s\u001b[0m 550us/step - accuracy: 0.9512 - loss: 0.1740 - mse: 0.0438 - precision: 0.9494 - recall: 0.9452 - val_accuracy: 0.9304 - val_loss: 0.2054 - val_mse: 0.0555 - val_precision: 0.9176 - val_recall: 0.9275\n",
      "Epoch 9/1000\n",
      "\u001b[1m72/72\u001b[0m \u001b[32m━━━━━━━━━━━━━━━━━━━━\u001b[0m\u001b[37m\u001b[0m \u001b[1m0s\u001b[0m 559us/step - accuracy: 0.9465 - loss: 0.1735 - mse: 0.0453 - precision: 0.9504 - recall: 0.9349 - val_accuracy: 0.9299 - val_loss: 0.1999 - val_mse: 0.0544 - val_precision: 0.9159 - val_recall: 0.9285\n",
      "Epoch 10/1000\n",
      "\u001b[1m72/72\u001b[0m \u001b[32m━━━━━━━━━━━━━━━━━━━━\u001b[0m\u001b[37m\u001b[0m \u001b[1m0s\u001b[0m 541us/step - accuracy: 0.9511 - loss: 0.1545 - mse: 0.0395 - precision: 0.9466 - recall: 0.9504 - val_accuracy: 0.9325 - val_loss: 0.1961 - val_mse: 0.0538 - val_precision: 0.9197 - val_recall: 0.9305\n",
      "Epoch 11/1000\n",
      "\u001b[1m72/72\u001b[0m \u001b[32m━━━━━━━━━━━━━━━━━━━━\u001b[0m\u001b[37m\u001b[0m \u001b[1m0s\u001b[0m 561us/step - accuracy: 0.9613 - loss: 0.1409 - mse: 0.0351 - precision: 0.9636 - recall: 0.9519 - val_accuracy: 0.9304 - val_loss: 0.1941 - val_mse: 0.0536 - val_precision: 0.9144 - val_recall: 0.9314\n",
      "Epoch 12/1000\n",
      "\u001b[1m72/72\u001b[0m \u001b[32m━━━━━━━━━━━━━━━━━━━━\u001b[0m\u001b[37m\u001b[0m \u001b[1m0s\u001b[0m 599us/step - accuracy: 0.9603 - loss: 0.1337 - mse: 0.0337 - precision: 0.9618 - recall: 0.9542 - val_accuracy: 0.9312 - val_loss: 0.1929 - val_mse: 0.0534 - val_precision: 0.9170 - val_recall: 0.9305\n",
      "Epoch 13/1000\n",
      "\u001b[1m72/72\u001b[0m \u001b[32m━━━━━━━━━━━━━━━━━━━━\u001b[0m\u001b[37m\u001b[0m \u001b[1m0s\u001b[0m 533us/step - accuracy: 0.9599 - loss: 0.1301 - mse: 0.0330 - precision: 0.9641 - recall: 0.9484 - val_accuracy: 0.9317 - val_loss: 0.1916 - val_mse: 0.0532 - val_precision: 0.9179 - val_recall: 0.9305\n",
      "Epoch 14/1000\n",
      "\u001b[1m72/72\u001b[0m \u001b[32m━━━━━━━━━━━━━━━━━━━━\u001b[0m\u001b[37m\u001b[0m \u001b[1m0s\u001b[0m 561us/step - accuracy: 0.9570 - loss: 0.1365 - mse: 0.0357 - precision: 0.9597 - recall: 0.9475 - val_accuracy: 0.9299 - val_loss: 0.1911 - val_mse: 0.0533 - val_precision: 0.9143 - val_recall: 0.9305\n",
      "Epoch 15/1000\n",
      "\u001b[1m72/72\u001b[0m \u001b[32m━━━━━━━━━━━━━━━━━━━━\u001b[0m\u001b[37m\u001b[0m \u001b[1m0s\u001b[0m 534us/step - accuracy: 0.9588 - loss: 0.1266 - mse: 0.0327 - precision: 0.9588 - recall: 0.9520 - val_accuracy: 0.9299 - val_loss: 0.1901 - val_mse: 0.0531 - val_precision: 0.9143 - val_recall: 0.9305\n",
      "Epoch 16/1000\n",
      "\u001b[1m72/72\u001b[0m \u001b[32m━━━━━━━━━━━━━━━━━━━━\u001b[0m\u001b[37m\u001b[0m \u001b[1m0s\u001b[0m 529us/step - accuracy: 0.9609 - loss: 0.1173 - mse: 0.0301 - precision: 0.9646 - recall: 0.9512 - val_accuracy: 0.9317 - val_loss: 0.1897 - val_mse: 0.0531 - val_precision: 0.9171 - val_recall: 0.9314\n",
      "Epoch 17/1000\n",
      "\u001b[1m72/72\u001b[0m \u001b[32m━━━━━━━━━━━━━━━━━━━━\u001b[0m\u001b[37m\u001b[0m \u001b[1m0s\u001b[0m 544us/step - accuracy: 0.9577 - loss: 0.1237 - mse: 0.0329 - precision: 0.9603 - recall: 0.9500 - val_accuracy: 0.9299 - val_loss: 0.1891 - val_mse: 0.0530 - val_precision: 0.9159 - val_recall: 0.9285\n",
      "Epoch 18/1000\n",
      "\u001b[1m72/72\u001b[0m \u001b[32m━━━━━━━━━━━━━━━━━━━━\u001b[0m\u001b[37m\u001b[0m \u001b[1m0s\u001b[0m 554us/step - accuracy: 0.9638 - loss: 0.1113 - mse: 0.0287 - precision: 0.9615 - recall: 0.9593 - val_accuracy: 0.9282 - val_loss: 0.1894 - val_mse: 0.0532 - val_precision: 0.9124 - val_recall: 0.9285\n"
     ]
    },
    {
     "name": "stdout",
     "output_type": "stream",
     "text": [
      "Epoch 19/1000\n",
      "\u001b[1m72/72\u001b[0m \u001b[32m━━━━━━━━━━━━━━━━━━━━\u001b[0m\u001b[37m\u001b[0m \u001b[1m0s\u001b[0m 535us/step - accuracy: 0.9628 - loss: 0.1144 - mse: 0.0295 - precision: 0.9595 - recall: 0.9619 - val_accuracy: 0.9295 - val_loss: 0.1884 - val_mse: 0.0529 - val_precision: 0.9151 - val_recall: 0.9285\n",
      "Epoch 20/1000\n",
      "\u001b[1m72/72\u001b[0m \u001b[32m━━━━━━━━━━━━━━━━━━━━\u001b[0m\u001b[37m\u001b[0m \u001b[1m0s\u001b[0m 541us/step - accuracy: 0.9656 - loss: 0.1040 - mse: 0.0268 - precision: 0.9636 - recall: 0.9611 - val_accuracy: 0.9264 - val_loss: 0.1889 - val_mse: 0.0530 - val_precision: 0.9097 - val_recall: 0.9275\n",
      "Epoch 21/1000\n",
      "\u001b[1m72/72\u001b[0m \u001b[32m━━━━━━━━━━━━━━━━━━━━\u001b[0m\u001b[37m\u001b[0m \u001b[1m0s\u001b[0m 524us/step - accuracy: 0.9672 - loss: 0.1073 - mse: 0.0273 - precision: 0.9680 - recall: 0.9615 - val_accuracy: 0.9290 - val_loss: 0.1888 - val_mse: 0.0531 - val_precision: 0.9110 - val_recall: 0.9324\n",
      "Epoch 22/1000\n",
      "\u001b[1m72/72\u001b[0m \u001b[32m━━━━━━━━━━━━━━━━━━━━\u001b[0m\u001b[37m\u001b[0m \u001b[1m0s\u001b[0m 530us/step - accuracy: 0.9604 - loss: 0.1116 - mse: 0.0297 - precision: 0.9631 - recall: 0.9515 - val_accuracy: 0.9299 - val_loss: 0.1883 - val_mse: 0.0529 - val_precision: 0.9143 - val_recall: 0.9305\n",
      "Epoch 23/1000\n",
      "\u001b[1m72/72\u001b[0m \u001b[32m━━━━━━━━━━━━━━━━━━━━\u001b[0m\u001b[37m\u001b[0m \u001b[1m0s\u001b[0m 555us/step - accuracy: 0.9643 - loss: 0.1033 - mse: 0.0272 - precision: 0.9684 - recall: 0.9560 - val_accuracy: 0.9282 - val_loss: 0.1897 - val_mse: 0.0533 - val_precision: 0.9132 - val_recall: 0.9275\n",
      "Epoch 24/1000\n",
      "\u001b[1m72/72\u001b[0m \u001b[32m━━━━━━━━━━━━━━━━━━━━\u001b[0m\u001b[37m\u001b[0m \u001b[1m0s\u001b[0m 528us/step - accuracy: 0.9732 - loss: 0.0913 - mse: 0.0228 - precision: 0.9762 - recall: 0.9659 - val_accuracy: 0.9282 - val_loss: 0.1890 - val_mse: 0.0531 - val_precision: 0.9108 - val_recall: 0.9305\n",
      "Epoch 25/1000\n",
      "\u001b[1m72/72\u001b[0m \u001b[32m━━━━━━━━━━━━━━━━━━━━\u001b[0m\u001b[37m\u001b[0m \u001b[1m0s\u001b[0m 551us/step - accuracy: 0.9703 - loss: 0.0997 - mse: 0.0257 - precision: 0.9691 - recall: 0.9682 - val_accuracy: 0.9290 - val_loss: 0.1895 - val_mse: 0.0534 - val_precision: 0.9118 - val_recall: 0.9314\n",
      "Epoch 26/1000\n",
      "\u001b[1m72/72\u001b[0m \u001b[32m━━━━━━━━━━━━━━━━━━━━\u001b[0m\u001b[37m\u001b[0m \u001b[1m0s\u001b[0m 551us/step - accuracy: 0.9696 - loss: 0.1007 - mse: 0.0260 - precision: 0.9697 - recall: 0.9639 - val_accuracy: 0.9290 - val_loss: 0.1894 - val_mse: 0.0533 - val_precision: 0.9134 - val_recall: 0.9295\n",
      "Epoch 27/1000\n",
      "\u001b[1m72/72\u001b[0m \u001b[32m━━━━━━━━━━━━━━━━━━━━\u001b[0m\u001b[37m\u001b[0m \u001b[1m0s\u001b[0m 547us/step - accuracy: 0.9715 - loss: 0.0912 - mse: 0.0238 - precision: 0.9750 - recall: 0.9618 - val_accuracy: 0.9304 - val_loss: 0.1894 - val_mse: 0.0532 - val_precision: 0.9144 - val_recall: 0.9314\n",
      "Epoch 28/1000\n",
      "\u001b[1m72/72\u001b[0m \u001b[32m━━━━━━━━━━━━━━━━━━━━\u001b[0m\u001b[37m\u001b[0m \u001b[1m0s\u001b[0m 562us/step - accuracy: 0.9707 - loss: 0.0935 - mse: 0.0244 - precision: 0.9719 - recall: 0.9652 - val_accuracy: 0.9308 - val_loss: 0.1896 - val_mse: 0.0533 - val_precision: 0.9153 - val_recall: 0.9314\n",
      "Epoch 29/1000\n",
      "\u001b[1m72/72\u001b[0m \u001b[32m━━━━━━━━━━━━━━━━━━━━\u001b[0m\u001b[37m\u001b[0m \u001b[1m0s\u001b[0m 582us/step - accuracy: 0.9715 - loss: 0.0926 - mse: 0.0234 - precision: 0.9712 - recall: 0.9669 - val_accuracy: 0.9299 - val_loss: 0.1898 - val_mse: 0.0534 - val_precision: 0.9143 - val_recall: 0.9305\n",
      "Epoch 30/1000\n",
      "\u001b[1m72/72\u001b[0m \u001b[32m━━━━━━━━━━━━━━━━━━━━\u001b[0m\u001b[37m\u001b[0m \u001b[1m0s\u001b[0m 557us/step - accuracy: 0.9788 - loss: 0.0816 - mse: 0.0200 - precision: 0.9772 - recall: 0.9761 - val_accuracy: 0.9308 - val_loss: 0.1904 - val_mse: 0.0535 - val_precision: 0.9153 - val_recall: 0.9314\n",
      "Epoch 31/1000\n",
      "\u001b[1m72/72\u001b[0m \u001b[32m━━━━━━━━━━━━━━━━━━━━\u001b[0m\u001b[37m\u001b[0m \u001b[1m0s\u001b[0m 537us/step - accuracy: 0.9755 - loss: 0.0809 - mse: 0.0202 - precision: 0.9786 - recall: 0.9696 - val_accuracy: 0.9295 - val_loss: 0.1907 - val_mse: 0.0535 - val_precision: 0.9151 - val_recall: 0.9285\n",
      "Epoch 32/1000\n",
      "\u001b[1m72/72\u001b[0m \u001b[32m━━━━━━━━━━━━━━━━━━━━\u001b[0m\u001b[37m\u001b[0m \u001b[1m0s\u001b[0m 557us/step - accuracy: 0.9776 - loss: 0.0755 - mse: 0.0190 - precision: 0.9734 - recall: 0.9784 - val_accuracy: 0.9295 - val_loss: 0.1910 - val_mse: 0.0535 - val_precision: 0.9143 - val_recall: 0.9295\n",
      "Epoch 33/1000\n",
      "\u001b[1m72/72\u001b[0m \u001b[32m━━━━━━━━━━━━━━━━━━━━\u001b[0m\u001b[37m\u001b[0m \u001b[1m0s\u001b[0m 548us/step - accuracy: 0.9787 - loss: 0.0779 - mse: 0.0188 - precision: 0.9793 - recall: 0.9753 - val_accuracy: 0.9299 - val_loss: 0.1910 - val_mse: 0.0535 - val_precision: 0.9143 - val_recall: 0.9305\n",
      "Epoch 34/1000\n",
      "\u001b[1m72/72\u001b[0m \u001b[32m━━━━━━━━━━━━━━━━━━━━\u001b[0m\u001b[37m\u001b[0m \u001b[1m0s\u001b[0m 575us/step - accuracy: 0.9770 - loss: 0.0820 - mse: 0.0203 - precision: 0.9770 - recall: 0.9730 - val_accuracy: 0.9295 - val_loss: 0.1910 - val_mse: 0.0534 - val_precision: 0.9143 - val_recall: 0.9295\n",
      "Epoch 35/1000\n",
      "\u001b[1m72/72\u001b[0m \u001b[32m━━━━━━━━━━━━━━━━━━━━\u001b[0m\u001b[37m\u001b[0m \u001b[1m0s\u001b[0m 550us/step - accuracy: 0.9767 - loss: 0.0760 - mse: 0.0185 - precision: 0.9765 - recall: 0.9722 - val_accuracy: 0.9299 - val_loss: 0.1921 - val_mse: 0.0537 - val_precision: 0.9143 - val_recall: 0.9305\n",
      "Epoch 36/1000\n",
      "\u001b[1m72/72\u001b[0m \u001b[32m━━━━━━━━━━━━━━━━━━━━\u001b[0m\u001b[37m\u001b[0m \u001b[1m0s\u001b[0m 566us/step - accuracy: 0.9778 - loss: 0.0787 - mse: 0.0193 - precision: 0.9790 - recall: 0.9729 - val_accuracy: 0.9290 - val_loss: 0.1927 - val_mse: 0.0538 - val_precision: 0.9150 - val_recall: 0.9275\n",
      "Epoch 37/1000\n",
      "\u001b[1m72/72\u001b[0m \u001b[32m━━━━━━━━━━━━━━━━━━━━\u001b[0m\u001b[37m\u001b[0m \u001b[1m0s\u001b[0m 603us/step - accuracy: 0.9826 - loss: 0.0671 - mse: 0.0160 - precision: 0.9827 - recall: 0.9805 - val_accuracy: 0.9290 - val_loss: 0.1917 - val_mse: 0.0534 - val_precision: 0.9134 - val_recall: 0.9295\n",
      "Epoch 38/1000\n",
      "\u001b[1m72/72\u001b[0m \u001b[32m━━━━━━━━━━━━━━━━━━━━\u001b[0m\u001b[37m\u001b[0m \u001b[1m0s\u001b[0m 605us/step - accuracy: 0.9827 - loss: 0.0651 - mse: 0.0151 - precision: 0.9852 - recall: 0.9767 - val_accuracy: 0.9286 - val_loss: 0.1928 - val_mse: 0.0536 - val_precision: 0.9141 - val_recall: 0.9275\n",
      "Epoch 39/1000\n",
      "\u001b[1m72/72\u001b[0m \u001b[32m━━━━━━━━━━━━━━━━━━━━\u001b[0m\u001b[37m\u001b[0m \u001b[1m0s\u001b[0m 553us/step - accuracy: 0.9865 - loss: 0.0632 - mse: 0.0145 - precision: 0.9874 - recall: 0.9836 - val_accuracy: 0.9282 - val_loss: 0.1931 - val_mse: 0.0537 - val_precision: 0.9140 - val_recall: 0.9265\n",
      "Epoch 40/1000\n",
      "\u001b[1m72/72\u001b[0m \u001b[32m━━━━━━━━━━━━━━━━━━━━\u001b[0m\u001b[37m\u001b[0m \u001b[1m0s\u001b[0m 574us/step - accuracy: 0.9808 - loss: 0.0727 - mse: 0.0168 - precision: 0.9815 - recall: 0.9764 - val_accuracy: 0.9290 - val_loss: 0.1940 - val_mse: 0.0538 - val_precision: 0.9142 - val_recall: 0.9285\n",
      "Epoch 41/1000\n",
      "\u001b[1m72/72\u001b[0m \u001b[32m━━━━━━━━━━━━━━━━━━━━\u001b[0m\u001b[37m\u001b[0m \u001b[1m0s\u001b[0m 552us/step - accuracy: 0.9846 - loss: 0.0593 - mse: 0.0134 - precision: 0.9859 - recall: 0.9811 - val_accuracy: 0.9286 - val_loss: 0.1950 - val_mse: 0.0540 - val_precision: 0.9133 - val_recall: 0.9285\n",
      "Epoch 42/1000\n",
      "\u001b[1m72/72\u001b[0m \u001b[32m━━━━━━━━━━━━━━━━━━━━\u001b[0m\u001b[37m\u001b[0m \u001b[1m0s\u001b[0m 576us/step - accuracy: 0.9832 - loss: 0.0631 - mse: 0.0143 - precision: 0.9820 - recall: 0.9822 - val_accuracy: 0.9273 - val_loss: 0.1948 - val_mse: 0.0539 - val_precision: 0.9115 - val_recall: 0.9275\n",
      "\u001b[1m72/72\u001b[0m \u001b[32m━━━━━━━━━━━━━━━━━━━━\u001b[0m\u001b[37m\u001b[0m \u001b[1m0s\u001b[0m 233us/step - accuracy: 0.9378 - loss: 0.1687 - mse: 0.0472 - precision: 0.9245 - recall: 0.9412\n",
      "Mean Validation Accuracy: 0.9287588993708292\n",
      "Mean Validation recall: 0.9317906697591146\n",
      "Mean Validation precision: 0.914356529712677\n",
      "accuracy: [0.9303852915763855, 0.9259746074676514, 0.9299167990684509]\n",
      "recall: [0.9375, 0.927411675453186, 0.9304603338241577]\n",
      "precision: [0.9161348938941956, 0.9125939607620239, 0.9143407344818115]\n"
     ]
    }
   ],
   "source": [
    "import numpy as np\n",
    "from sklearn.model_selection import KFold\n",
    "from tensorflow.keras.models import Sequential\n",
    "from tensorflow.keras.layers import Dense\n",
    "from tensorflow.keras.callbacks import EarlyStopping\n",
    "\n",
    "# Definisci la classe della rete neurale\n",
    "class NeuralNetwork:\n",
    "    def __init__(self):\n",
    "        self.model = self.build_model()\n",
    "\n",
    "    def build_model(self):\n",
    "        model = Sequential([\n",
    "            Dense(units=10, activation='sigmoid', input_shape=(K,)),\n",
    "            Dense(units=1, activation='sigmoid')\n",
    "        ])\n",
    "        model.compile(optimizer='adam', loss='binary_crossentropy', metrics=['accuracy', 'mse', 'recall', 'precision'])\n",
    "        return model\n",
    "\n",
    "# Definisci il numero di fold per la cross-validation\n",
    "n_splits = 3\n",
    "kf = KFold(n_splits=n_splits, shuffle=True, random_state=42)\n",
    "\n",
    "# Inizializza una lista per salvare gli score di validazione per ogni fold\n",
    "val_accuracy_cv = []\n",
    "val_recall_cv = []\n",
    "val_precision_cv = []\n",
    "\n",
    "# Itera attraverso i fold della cross-validation\n",
    "for train_index, val_index in kf.split(X):\n",
    "    X_train_fold, X_val_fold = X[train_index], X[val_index]\n",
    "    y_train_fold, y_val_fold = y[train_index], y[val_index]\n",
    "    \n",
    "    # Inizializza e addestra la rete neurale\n",
    "    nn = NeuralNetwork()\n",
    "    history = nn.model.fit(\n",
    "        x=X_train_fold, \n",
    "        y=y_train_fold,\n",
    "        batch_size=64,\n",
    "        epochs=1000,\n",
    "        verbose=1,\n",
    "        validation_data=(X_val_fold, y_val_fold),\n",
    "        callbacks=[EarlyStopping(restore_best_weights=True, patience=20)]\n",
    "    )\n",
    "    \n",
    "    # Valuta la rete neurale sul fold di validazione\n",
    "    val_loss, val_accuracy, val_mse, val_recall, val_precision = nn.model.evaluate(X_val_fold, y_val_fold)\n",
    "    val_accuracy_cv.append(val_accuracy)\n",
    "    val_recall_cv.append(val_recall)\n",
    "    val_precision_cv.append(val_precision)\n",
    "\n",
    "# Calcola e stampa l'accuracy media dei fold di validazione\n",
    "mean_val_accuracy = np.mean(val_accuracy_cv)\n",
    "mean_val_recall = np.mean(val_recall_cv)\n",
    "mean_val_precision = np.mean(val_precision_cv)\n",
    "print(\"Mean Validation Accuracy:\", mean_val_accuracy)\n",
    "print(\"Mean Validation recall:\", mean_val_recall)\n",
    "print(\"Mean Validation precision:\", mean_val_precision)\n",
    "\n",
    "print(\"accuracy:\", val_accuracy_cv)\n",
    "print(\"recall:\", val_recall_cv)\n",
    "print(\"precision:\", val_precision_cv)"
   ]
  },
  {
   "cell_type": "code",
   "execution_count": 141,
   "metadata": {
    "id": "Mm5Ub0lgNion"
   },
   "outputs": [],
   "source": [
    "from tensorflow.keras import regularizers\n",
    "\n",
    "class neural_network:\n",
    "    def __init__(self):\n",
    "        input = tensorflow.keras.Input(shape=(K,))\n",
    "        \n",
    "        dense = tensorflow.keras.layers.Dense(units=10, \n",
    "                                                activation='sigmoid',\n",
    "                                                kernel_regularizer=regularizers.L1L2(l1=1e-3, l2=1e-3),\n",
    "                                                bias_regularizer=regularizers.L2(1e-3),\n",
    "                                                activity_regularizer=regularizers.L2(1e-3))(input)\n",
    "        #norm = tensorflow.keras.layers.BatchNormalization()(dense)\n",
    "        #drop = tensorflow.keras.layers.Dropout(.1)(dense)\n",
    "        #dense = tensorflow.keras.layers.Dense(10, activation='sigmoid')(drop)\n",
    "        output = tensorflow.keras.layers.Dense(1, activation='sigmoid')(dense)\n",
    "\n",
    "        model = tensorflow.keras.models.Model(inputs=input, outputs=output)\n",
    "        model.compile(optimizer=tensorflow.keras.optimizers.Adam(learning_rate=0.0005), loss='binary_crossentropy', metrics='accuracy')\n",
    "        self.model = model"
   ]
  },
  {
   "cell_type": "code",
   "execution_count": 142,
   "metadata": {
    "id": "_8WMTxwXOCN4"
   },
   "outputs": [],
   "source": [
    "nn = neural_network()"
   ]
  },
  {
   "cell_type": "code",
   "execution_count": 143,
   "metadata": {
    "colab": {
     "base_uri": "https://localhost:8080/"
    },
    "id": "fb8toDqPppYe",
    "outputId": "2281916e-ac76-4d64-a966-08e0bf3aca78"
   },
   "outputs": [
    {
     "name": "stdout",
     "output_type": "stream",
     "text": [
      "Model: \"model_7\"\n",
      "_________________________________________________________________\n",
      " Layer (type)                Output Shape              Param #   \n",
      "=================================================================\n",
      " input_8 (InputLayer)        [(None, 400)]             0         \n",
      "                                                                 \n",
      " dense_14 (Dense)            (None, 10)                4010      \n",
      "                                                                 \n",
      " dense_15 (Dense)            (None, 1)                 11        \n",
      "                                                                 \n",
      "=================================================================\n",
      "Total params: 4,021\n",
      "Trainable params: 4,021\n",
      "Non-trainable params: 0\n",
      "_________________________________________________________________\n"
     ]
    }
   ],
   "source": [
    "nn.model.summary()"
   ]
  },
  {
   "cell_type": "code",
   "execution_count": 144,
   "metadata": {
    "colab": {
     "base_uri": "https://localhost:8080/"
    },
    "id": "vkkGhIODODzx",
    "outputId": "960ce50f-2e4b-41d6-ceb1-821503620ac6"
   },
   "outputs": [
    {
     "name": "stdout",
     "output_type": "stream",
     "text": [
      "Epoch 1/1000\n",
      "58/58 [==============================] - 1s 6ms/step - loss: 0.9477 - accuracy: 0.5318 - val_loss: 0.8803 - val_accuracy: 0.6509\n",
      "Epoch 2/1000\n",
      "58/58 [==============================] - 0s 4ms/step - loss: 0.8190 - accuracy: 0.7400 - val_loss: 0.7641 - val_accuracy: 0.8033\n",
      "Epoch 3/1000\n",
      "58/58 [==============================] - 0s 4ms/step - loss: 0.7086 - accuracy: 0.8451 - val_loss: 0.6632 - val_accuracy: 0.8642\n",
      "Epoch 4/1000\n",
      "58/58 [==============================] - 0s 4ms/step - loss: 0.6139 - accuracy: 0.8898 - val_loss: 0.5780 - val_accuracy: 0.8912\n",
      "Epoch 5/1000\n",
      "58/58 [==============================] - 0s 3ms/step - loss: 0.5348 - accuracy: 0.9076 - val_loss: 0.5070 - val_accuracy: 0.9041\n",
      "Epoch 6/1000\n",
      "58/58 [==============================] - 0s 3ms/step - loss: 0.4713 - accuracy: 0.9162 - val_loss: 0.4512 - val_accuracy: 0.9138\n",
      "Epoch 7/1000\n",
      "58/58 [==============================] - 0s 3ms/step - loss: 0.4221 - accuracy: 0.9238 - val_loss: 0.4080 - val_accuracy: 0.9170\n",
      "Epoch 8/1000\n",
      "58/58 [==============================] - 0s 3ms/step - loss: 0.3842 - accuracy: 0.9267 - val_loss: 0.3751 - val_accuracy: 0.9208\n",
      "Epoch 9/1000\n",
      "58/58 [==============================] - 0s 3ms/step - loss: 0.3552 - accuracy: 0.9302 - val_loss: 0.3496 - val_accuracy: 0.9219\n",
      "Epoch 10/1000\n",
      "58/58 [==============================] - 0s 3ms/step - loss: 0.3328 - accuracy: 0.9321 - val_loss: 0.3302 - val_accuracy: 0.9235\n",
      "Epoch 11/1000\n",
      "58/58 [==============================] - 0s 3ms/step - loss: 0.3155 - accuracy: 0.9329 - val_loss: 0.3146 - val_accuracy: 0.9235\n",
      "Epoch 12/1000\n",
      "58/58 [==============================] - 0s 3ms/step - loss: 0.3018 - accuracy: 0.9356 - val_loss: 0.3026 - val_accuracy: 0.9246\n",
      "Epoch 13/1000\n",
      "58/58 [==============================] - 0s 3ms/step - loss: 0.2907 - accuracy: 0.9343 - val_loss: 0.2931 - val_accuracy: 0.9246\n",
      "Epoch 14/1000\n",
      "58/58 [==============================] - 0s 3ms/step - loss: 0.2818 - accuracy: 0.9348 - val_loss: 0.2855 - val_accuracy: 0.9267\n",
      "Epoch 15/1000\n",
      "58/58 [==============================] - 0s 3ms/step - loss: 0.2743 - accuracy: 0.9351 - val_loss: 0.2787 - val_accuracy: 0.9289\n",
      "Epoch 16/1000\n",
      "58/58 [==============================] - 0s 4ms/step - loss: 0.2678 - accuracy: 0.9351 - val_loss: 0.2733 - val_accuracy: 0.9294\n",
      "Epoch 17/1000\n",
      "58/58 [==============================] - 0s 4ms/step - loss: 0.2625 - accuracy: 0.9362 - val_loss: 0.2686 - val_accuracy: 0.9289\n",
      "Epoch 18/1000\n",
      "58/58 [==============================] - 0s 3ms/step - loss: 0.2576 - accuracy: 0.9362 - val_loss: 0.2647 - val_accuracy: 0.9289\n",
      "Epoch 19/1000\n",
      "58/58 [==============================] - 0s 3ms/step - loss: 0.2537 - accuracy: 0.9383 - val_loss: 0.2614 - val_accuracy: 0.9283\n",
      "Epoch 20/1000\n",
      "58/58 [==============================] - 0s 3ms/step - loss: 0.2499 - accuracy: 0.9364 - val_loss: 0.2584 - val_accuracy: 0.9289\n",
      "Epoch 21/1000\n",
      "58/58 [==============================] - 0s 4ms/step - loss: 0.2465 - accuracy: 0.9362 - val_loss: 0.2562 - val_accuracy: 0.9273\n",
      "Epoch 22/1000\n",
      "58/58 [==============================] - 0s 3ms/step - loss: 0.2438 - accuracy: 0.9375 - val_loss: 0.2546 - val_accuracy: 0.9294\n",
      "Epoch 23/1000\n",
      "58/58 [==============================] - 0s 4ms/step - loss: 0.2413 - accuracy: 0.9380 - val_loss: 0.2523 - val_accuracy: 0.9283\n",
      "Epoch 24/1000\n",
      "58/58 [==============================] - 0s 4ms/step - loss: 0.2391 - accuracy: 0.9372 - val_loss: 0.2507 - val_accuracy: 0.9278\n",
      "Epoch 25/1000\n",
      "58/58 [==============================] - 0s 3ms/step - loss: 0.2370 - accuracy: 0.9386 - val_loss: 0.2491 - val_accuracy: 0.9273\n",
      "Epoch 26/1000\n",
      "58/58 [==============================] - 0s 3ms/step - loss: 0.2351 - accuracy: 0.9378 - val_loss: 0.2479 - val_accuracy: 0.9273\n",
      "Epoch 27/1000\n",
      "58/58 [==============================] - 0s 3ms/step - loss: 0.2335 - accuracy: 0.9380 - val_loss: 0.2470 - val_accuracy: 0.9262\n",
      "Epoch 28/1000\n",
      "58/58 [==============================] - 0s 4ms/step - loss: 0.2318 - accuracy: 0.9378 - val_loss: 0.2459 - val_accuracy: 0.9267\n",
      "Epoch 29/1000\n",
      "58/58 [==============================] - 0s 3ms/step - loss: 0.2304 - accuracy: 0.9391 - val_loss: 0.2452 - val_accuracy: 0.9278\n",
      "Epoch 30/1000\n",
      "58/58 [==============================] - 0s 3ms/step - loss: 0.2290 - accuracy: 0.9388 - val_loss: 0.2447 - val_accuracy: 0.9278\n",
      "Epoch 31/1000\n",
      "58/58 [==============================] - 0s 3ms/step - loss: 0.2280 - accuracy: 0.9383 - val_loss: 0.2441 - val_accuracy: 0.9283\n",
      "Epoch 32/1000\n",
      "58/58 [==============================] - 0s 3ms/step - loss: 0.2269 - accuracy: 0.9397 - val_loss: 0.2436 - val_accuracy: 0.9294\n",
      "Epoch 33/1000\n",
      "58/58 [==============================] - 0s 3ms/step - loss: 0.2257 - accuracy: 0.9386 - val_loss: 0.2428 - val_accuracy: 0.9300\n",
      "Epoch 34/1000\n",
      "58/58 [==============================] - 0s 3ms/step - loss: 0.2247 - accuracy: 0.9394 - val_loss: 0.2427 - val_accuracy: 0.9294\n",
      "Epoch 35/1000\n",
      "58/58 [==============================] - 0s 3ms/step - loss: 0.2237 - accuracy: 0.9397 - val_loss: 0.2424 - val_accuracy: 0.9300\n",
      "Epoch 36/1000\n",
      "58/58 [==============================] - 0s 3ms/step - loss: 0.2229 - accuracy: 0.9410 - val_loss: 0.2420 - val_accuracy: 0.9327\n",
      "Epoch 37/1000\n",
      "58/58 [==============================] - 0s 3ms/step - loss: 0.2221 - accuracy: 0.9402 - val_loss: 0.2419 - val_accuracy: 0.9294\n",
      "Epoch 38/1000\n",
      "58/58 [==============================] - 0s 4ms/step - loss: 0.2213 - accuracy: 0.9410 - val_loss: 0.2417 - val_accuracy: 0.9310\n",
      "Epoch 39/1000\n",
      "58/58 [==============================] - 0s 3ms/step - loss: 0.2205 - accuracy: 0.9407 - val_loss: 0.2420 - val_accuracy: 0.9289\n",
      "Epoch 40/1000\n",
      "58/58 [==============================] - 0s 3ms/step - loss: 0.2196 - accuracy: 0.9405 - val_loss: 0.2413 - val_accuracy: 0.9305\n",
      "Epoch 41/1000\n",
      "58/58 [==============================] - 0s 3ms/step - loss: 0.2190 - accuracy: 0.9410 - val_loss: 0.2410 - val_accuracy: 0.9289\n",
      "Epoch 42/1000\n",
      "58/58 [==============================] - 0s 3ms/step - loss: 0.2182 - accuracy: 0.9399 - val_loss: 0.2408 - val_accuracy: 0.9283\n",
      "Epoch 43/1000\n",
      "58/58 [==============================] - 0s 3ms/step - loss: 0.2175 - accuracy: 0.9402 - val_loss: 0.2411 - val_accuracy: 0.9300\n",
      "Epoch 44/1000\n",
      "58/58 [==============================] - 0s 4ms/step - loss: 0.2170 - accuracy: 0.9399 - val_loss: 0.2409 - val_accuracy: 0.9305\n",
      "Epoch 45/1000\n",
      "58/58 [==============================] - 0s 3ms/step - loss: 0.2160 - accuracy: 0.9405 - val_loss: 0.2408 - val_accuracy: 0.9305\n",
      "Epoch 46/1000\n",
      "58/58 [==============================] - 0s 3ms/step - loss: 0.2156 - accuracy: 0.9415 - val_loss: 0.2405 - val_accuracy: 0.9294\n",
      "Epoch 47/1000\n",
      "58/58 [==============================] - 0s 3ms/step - loss: 0.2151 - accuracy: 0.9402 - val_loss: 0.2408 - val_accuracy: 0.9294\n",
      "Epoch 48/1000\n",
      "58/58 [==============================] - 0s 3ms/step - loss: 0.2142 - accuracy: 0.9421 - val_loss: 0.2403 - val_accuracy: 0.9300\n",
      "Epoch 49/1000\n",
      "58/58 [==============================] - 0s 3ms/step - loss: 0.2139 - accuracy: 0.9410 - val_loss: 0.2404 - val_accuracy: 0.9278\n",
      "Epoch 50/1000\n",
      "58/58 [==============================] - 0s 3ms/step - loss: 0.2132 - accuracy: 0.9399 - val_loss: 0.2399 - val_accuracy: 0.9294\n",
      "Epoch 51/1000\n",
      "58/58 [==============================] - 0s 3ms/step - loss: 0.2129 - accuracy: 0.9418 - val_loss: 0.2405 - val_accuracy: 0.9294\n",
      "Epoch 52/1000\n",
      "58/58 [==============================] - 0s 3ms/step - loss: 0.2124 - accuracy: 0.9421 - val_loss: 0.2403 - val_accuracy: 0.9294\n",
      "Epoch 53/1000\n",
      "58/58 [==============================] - 0s 3ms/step - loss: 0.2118 - accuracy: 0.9402 - val_loss: 0.2404 - val_accuracy: 0.9294\n",
      "Epoch 54/1000\n",
      "58/58 [==============================] - 0s 3ms/step - loss: 0.2111 - accuracy: 0.9418 - val_loss: 0.2399 - val_accuracy: 0.9321\n",
      "Epoch 55/1000\n",
      "58/58 [==============================] - 0s 3ms/step - loss: 0.2110 - accuracy: 0.9423 - val_loss: 0.2400 - val_accuracy: 0.9316\n",
      "Epoch 56/1000\n",
      "58/58 [==============================] - 0s 3ms/step - loss: 0.2103 - accuracy: 0.9423 - val_loss: 0.2399 - val_accuracy: 0.9316\n",
      "Epoch 57/1000\n",
      "58/58 [==============================] - 0s 3ms/step - loss: 0.2098 - accuracy: 0.9432 - val_loss: 0.2396 - val_accuracy: 0.9305\n",
      "Epoch 58/1000\n",
      "58/58 [==============================] - 0s 3ms/step - loss: 0.2094 - accuracy: 0.9432 - val_loss: 0.2396 - val_accuracy: 0.9294\n",
      "Epoch 59/1000\n",
      "58/58 [==============================] - 0s 3ms/step - loss: 0.2088 - accuracy: 0.9426 - val_loss: 0.2398 - val_accuracy: 0.9310\n",
      "Epoch 60/1000\n",
      "58/58 [==============================] - 0s 4ms/step - loss: 0.2082 - accuracy: 0.9437 - val_loss: 0.2402 - val_accuracy: 0.9321\n",
      "Epoch 61/1000\n",
      "58/58 [==============================] - 0s 3ms/step - loss: 0.2079 - accuracy: 0.9437 - val_loss: 0.2395 - val_accuracy: 0.9310\n",
      "Epoch 62/1000\n",
      "58/58 [==============================] - 0s 3ms/step - loss: 0.2078 - accuracy: 0.9429 - val_loss: 0.2400 - val_accuracy: 0.9310\n",
      "Epoch 63/1000\n",
      "58/58 [==============================] - 0s 3ms/step - loss: 0.2071 - accuracy: 0.9448 - val_loss: 0.2398 - val_accuracy: 0.9310\n",
      "Epoch 64/1000\n",
      "58/58 [==============================] - 0s 4ms/step - loss: 0.2066 - accuracy: 0.9453 - val_loss: 0.2397 - val_accuracy: 0.9310\n",
      "Epoch 65/1000\n",
      "58/58 [==============================] - 0s 4ms/step - loss: 0.2065 - accuracy: 0.9450 - val_loss: 0.2397 - val_accuracy: 0.9316\n",
      "Epoch 66/1000\n",
      "58/58 [==============================] - 0s 3ms/step - loss: 0.2056 - accuracy: 0.9445 - val_loss: 0.2393 - val_accuracy: 0.9310\n",
      "Epoch 67/1000\n",
      "58/58 [==============================] - 0s 3ms/step - loss: 0.2053 - accuracy: 0.9450 - val_loss: 0.2394 - val_accuracy: 0.9316\n",
      "Epoch 68/1000\n",
      "58/58 [==============================] - 0s 3ms/step - loss: 0.2050 - accuracy: 0.9445 - val_loss: 0.2395 - val_accuracy: 0.9321\n",
      "Epoch 69/1000\n",
      "58/58 [==============================] - 0s 3ms/step - loss: 0.2047 - accuracy: 0.9467 - val_loss: 0.2396 - val_accuracy: 0.9316\n",
      "Epoch 70/1000\n",
      "58/58 [==============================] - 0s 3ms/step - loss: 0.2041 - accuracy: 0.9456 - val_loss: 0.2391 - val_accuracy: 0.9310\n",
      "Epoch 71/1000\n",
      "58/58 [==============================] - 0s 3ms/step - loss: 0.2038 - accuracy: 0.9461 - val_loss: 0.2386 - val_accuracy: 0.9310\n",
      "Epoch 72/1000\n",
      "58/58 [==============================] - 0s 3ms/step - loss: 0.2033 - accuracy: 0.9469 - val_loss: 0.2391 - val_accuracy: 0.9321\n",
      "Epoch 73/1000\n",
      "58/58 [==============================] - 0s 3ms/step - loss: 0.2029 - accuracy: 0.9459 - val_loss: 0.2392 - val_accuracy: 0.9305\n",
      "Epoch 74/1000\n",
      "58/58 [==============================] - 0s 3ms/step - loss: 0.2024 - accuracy: 0.9450 - val_loss: 0.2392 - val_accuracy: 0.9321\n",
      "Epoch 75/1000\n",
      "58/58 [==============================] - 0s 3ms/step - loss: 0.2023 - accuracy: 0.9472 - val_loss: 0.2392 - val_accuracy: 0.9321\n",
      "Epoch 76/1000\n",
      "58/58 [==============================] - 0s 3ms/step - loss: 0.2017 - accuracy: 0.9461 - val_loss: 0.2393 - val_accuracy: 0.9321\n",
      "Epoch 77/1000\n",
      "58/58 [==============================] - 0s 3ms/step - loss: 0.2013 - accuracy: 0.9480 - val_loss: 0.2394 - val_accuracy: 0.9321\n",
      "Epoch 78/1000\n",
      "58/58 [==============================] - 0s 3ms/step - loss: 0.2008 - accuracy: 0.9472 - val_loss: 0.2392 - val_accuracy: 0.9316\n",
      "Epoch 79/1000\n",
      "58/58 [==============================] - 0s 3ms/step - loss: 0.2003 - accuracy: 0.9480 - val_loss: 0.2392 - val_accuracy: 0.9327\n",
      "Epoch 80/1000\n",
      "58/58 [==============================] - 0s 4ms/step - loss: 0.2001 - accuracy: 0.9477 - val_loss: 0.2389 - val_accuracy: 0.9327\n",
      "Epoch 81/1000\n",
      "58/58 [==============================] - 0s 3ms/step - loss: 0.1997 - accuracy: 0.9491 - val_loss: 0.2388 - val_accuracy: 0.9327\n"
     ]
    }
   ],
   "source": [
    "history = nn.model.fit(\n",
    "    x=X_train, \n",
    "    y=y_train,\n",
    "    batch_size=64,\n",
    "    epochs=1000,\n",
    "    verbose=1,\n",
    "    validation_data=(X_val, y_val),\n",
    "    shuffle=True,\n",
    "    callbacks=[tensorflow.keras.callbacks.EarlyStopping(\n",
    "    restore_best_weights=True,\n",
    "    patience=10\n",
    "        )]\n",
    ")"
   ]
  },
  {
   "cell_type": "code",
   "execution_count": 145,
   "metadata": {
    "colab": {
     "base_uri": "https://localhost:8080/",
     "height": 295
    },
    "id": "URc7l45nOVed",
    "outputId": "981ceb0b-57a9-43f2-8d35-86db5f183088"
   },
   "outputs": [
    {
     "data": {
      "image/png": "[encoded data removed]",
      "text/plain": [
       "<Figure size 432x288 with 1 Axes>"
      ]
     },
     "metadata": {
      "needs_background": "light"
     },
     "output_type": "display_data"
    }
   ],
   "source": [
    "plt.title('Accuracy during training')\n",
    "plt.plot(range(len(history.history['loss'])), history.history['accuracy'], label='training accuracy', color='green')\n",
    "plt.plot(range(len(history.history['loss'])), history.history['val_accuracy'], label='validation accuracy', color='red')\n",
    "plt.grid(color='gray', linewidth=.4)\n",
    "\n",
    "plt.legend(loc=\"lower right\")\n",
    "plt.xlabel(\"epochs\")\n",
    "plt.ylabel(\"accuracy\")\n",
    "plt.xlim(0, len(history.history['loss'])+1)\n",
    "plt.ylim(.45, 1.)\n",
    "plt.savefig('acc.png')"
   ]
  },
  {
   "cell_type": "code",
   "execution_count": 146,
   "metadata": {
    "colab": {
     "base_uri": "https://localhost:8080/",
     "height": 295
    },
    "id": "GdzD2gX3o2ex",
    "outputId": "54a1934c-7039-46b1-f455-da2a247b5352"
   },
   "outputs": [
    {
     "data": {
      "image/png": "[encoded data removed]",
      "text/plain": [
       "<Figure size 432x288 with 1 Axes>"
      ]
     },
     "metadata": {
      "needs_background": "light"
     },
     "output_type": "display_data"
    }
   ],
   "source": [
    "plt.title('Loss during training')\n",
    "plt.plot(range(len(history.history['loss'])), history.history['loss'], label='training loss', color='green')\n",
    "plt.plot(range(len(history.history['loss'])), history.history['val_loss'], label='validation loss', color='red')\n",
    "plt.grid(color='gray', linewidth=.4)\n",
    "\n",
    "plt.legend(loc=\"upper right\")\n",
    "plt.xlabel(\"epochs\")\n",
    "plt.ylabel(\"loss\")\n",
    "plt.savefig('loss.png')"
   ]
  },
  {
   "cell_type": "code",
   "execution_count": 147,
   "metadata": {
    "colab": {
     "base_uri": "https://localhost:8080/"
    },
    "id": "_URwnk59O6gZ",
    "outputId": "9f340020-ff2f-4114-946e-29b5cfe68e56"
   },
   "outputs": [
    {
     "name": "stdout",
     "output_type": "stream",
     "text": [
      "58/58 [==============================] - 0s 2ms/step - loss: 0.2290 - accuracy: 0.9391\n"
     ]
    },
    {
     "data": {
      "text/plain": [
       "[0.22902756929397583, 0.939116358757019]"
      ]
     },
     "execution_count": 147,
     "metadata": {},
     "output_type": "execute_result"
    }
   ],
   "source": [
    "nn.model.evaluate(x=X_test, y=y_test)"
   ]
  },
  {
   "cell_type": "code",
   "execution_count": 148,
   "metadata": {
    "id": "9BvSjCRgfBeZ"
   },
   "outputs": [],
   "source": [
    "nn.model.save('ac.h5')"
   ]
  },
  {
   "cell_type": "code",
   "execution_count": null,
   "metadata": {
    "id": "lqHcU5SdfL3J"
   },
   "outputs": [],
   "source": [
    "# I think we can obtain the same results without using a nn"
   ]
  },
  {
   "cell_type": "code",
   "execution_count": null,
   "metadata": {
    "id": "z0AHU7uVjUYY"
   },
   "outputs": [],
   "source": []
  }
 ],
 "metadata": {
  "colab": {
   "provenance": []
  },
  "kernelspec": {
   "display_name": "Python 3 (ipykernel)",
   "language": "python",
   "name": "python3"
  },
  "language_info": {
   "codemirror_mode": {
    "name": "ipython",
    "version": 3
   },
   "file_extension": ".py",
   "mimetype": "text/x-python",
   "name": "python",
   "nbconvert_exporter": "python",
   "pygments_lexer": "ipython3",
   "version": "3.11.5"
  }
 },
 "nbformat": 4,
 "nbformat_minor": 1
}
